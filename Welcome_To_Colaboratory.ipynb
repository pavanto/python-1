{
  "nbformat": 4,
  "nbformat_minor": 0,
  "metadata": {
    "colab": {
      "name": "Welcome To Colaboratory",
      "provenance": [],
      "collapsed_sections": [],
      "toc_visible": true,
      "include_colab_link": true
    },
    "kernelspec": {
      "display_name": "Python 3",
      "name": "python3"
    }
  },
  "cells": [
    {
      "cell_type": "markdown",
      "metadata": {
        "id": "view-in-github",
        "colab_type": "text"
      },
      "source": [
        "<a href=\"https://colab.research.google.com/github/pavanto/python-1/blob/master/Welcome_To_Colaboratory.ipynb\" target=\"_parent\"><img src=\"https://colab.research.google.com/assets/colab-badge.svg\" alt=\"Open In Colab\"/></a>"
      ]
    },
    {
      "cell_type": "markdown",
      "metadata": {
        "colab_type": "text",
        "id": "5fCEDCU_qrC0"
      },
      "source": [
        "<p><img alt=\"Colaboratory logo\" height=\"45px\" src=\"/img/colab_favicon.ico\" align=\"left\" hspace=\"10px\" vspace=\"0px\"></p>\n",
        "\n",
        "<h1>What is Colaboratory?</h1>\n",
        "\n",
        "Colaboratory, or \"Colab\" for short, allows you to write and execute Python in your browser, with \n",
        "- Zero configuration required\n",
        "- Free access to GPUs\n",
        "- Easy sharing\n",
        "\n",
        "Whether you're a **student**, a **data scientist** or an **AI researcher**, Colab can make your work easier. Watch [Introduction to Colab](https://www.youtube.com/watch?v=inN8seMm7UI) to learn more, or just get started below!"
      ]
    },
    {
      "cell_type": "markdown",
      "metadata": {
        "colab_type": "text",
        "id": "GJBs_flRovLc"
      },
      "source": [
        "## **Getting started**\n",
        "\n",
        "The document you are reading is not a static web page, but an interactive environment called a **Colab notebook** that lets you write and execute code.\n",
        "\n",
        "For example, here is a **code cell** with a short Python script that computes a value, stores it in a variable, and prints the result:"
      ]
    },
    {
      "cell_type": "code",
      "metadata": {
        "colab_type": "code",
        "id": "gJr_9dXGpJ05",
        "outputId": "9f556d03-ec67-4950-a485-cfdba9ddd14d",
        "colab": {
          "base_uri": "https://localhost:8080/",
          "height": 34
        }
      },
      "source": [
        "seconds_in_a_day = 24 * 60 * 60\n",
        "seconds_in_a_day"
      ],
      "execution_count": 0,
      "outputs": [
        {
          "output_type": "execute_result",
          "data": {
            "text/plain": [
              "86400"
            ]
          },
          "metadata": {
            "tags": []
          },
          "execution_count": 0
        }
      ]
    },
    {
      "cell_type": "markdown",
      "metadata": {
        "colab_type": "text",
        "id": "2fhs6GZ4qFMx"
      },
      "source": [
        "To execute the code in the above cell, select it with a click and then either press the play button to the left of the code, or use the keyboard shortcut \"Command/Ctrl+Enter\". To edit the code, just click the cell and start editing.\n",
        "\n",
        "Variables that you define in one cell can later be used in other cells:"
      ]
    },
    {
      "cell_type": "code",
      "metadata": {
        "colab_type": "code",
        "id": "-gE-Ez1qtyIA",
        "outputId": "94cb2224-0edf-457b-90b5-0ac3488d8a97",
        "colab": {
          "base_uri": "https://localhost:8080/",
          "height": 34
        }
      },
      "source": [
        "seconds_in_a_week = 7 * seconds_in_a_day\n",
        "seconds_in_a_week"
      ],
      "execution_count": 0,
      "outputs": [
        {
          "output_type": "execute_result",
          "data": {
            "text/plain": [
              "604800"
            ]
          },
          "metadata": {
            "tags": []
          },
          "execution_count": 0
        }
      ]
    },
    {
      "cell_type": "markdown",
      "metadata": {
        "colab_type": "text",
        "id": "lSrWNr3MuFUS"
      },
      "source": [
        "Colab notebooks allow you to combine **executable code** and **rich text** in a single document, along with **images**, **HTML**, **LaTeX** and more. When you create your own Colab notebooks, they are stored in your Google Drive account. You can easily share your Colab notebooks with co-workers or friends, allowing them to comment on your notebooks or even edit them. To learn more, see [Overview of Colab](/notebooks/basic_features_overview.ipynb). To create a new Colab notebook you can use the File menu above, or use the following link: [create a new Colab notebook](http://colab.research.google.com#create=true).\n",
        "\n",
        "Colab notebooks are Jupyter notebooks that are hosted by Colab. To learn more about the Jupyter project, see [jupyter.org](https://www.jupyter.org)."
      ]
    },
    {
      "cell_type": "markdown",
      "metadata": {
        "colab_type": "text",
        "id": "UdRyKR44dcNI"
      },
      "source": [
        "## Data science\n",
        "\n",
        "With Colab you can harness the full power of popular Python libraries to analyze and visualize data. The code cell below uses **numpy** to generate some random data, and uses **matplotlib** to visualize it. To edit the code, just click the cell and start editing."
      ]
    },
    {
      "cell_type": "code",
      "metadata": {
        "colab_type": "code",
        "id": "C4HZx7Gndbrh",
        "outputId": "46abc637-6abd-41b2-9bba-80a7ae992e06",
        "colab": {
          "base_uri": "https://localhost:8080/",
          "height": 281
        }
      },
      "source": [
        "import numpy as np\n",
        "from matplotlib import pyplot as plt\n",
        "\n",
        "ys = 200 + np.random.randn(100)\n",
        "x = [x for x in range(len(ys))]\n",
        "\n",
        "plt.plot(x, ys, '-')\n",
        "plt.fill_between(x, ys, 195, where=(ys > 195), facecolor='g', alpha=0.6)\n",
        "\n",
        "plt.title(\"Sample Visualization\")\n",
        "plt.show()"
      ],
      "execution_count": 0,
      "outputs": [
        {
          "output_type": "display_data",
          "data": {
            "image/png": "[encoded data removed]",
            "text/plain": [
              "<Figure size 432x288 with 1 Axes>"
            ]
          },
          "metadata": {
            "tags": []
          }
        }
      ]
    },
    {
      "cell_type": "markdown",
      "metadata": {
        "colab_type": "text",
        "id": "4_kCnsPUqS6o"
      },
      "source": [
        "You can import your own data into Colab notebooks from your Google Drive account, including from spreadsheets, as well as from Github and many other sources. To learn more about importing data, and how Colab can be used for data science, see the links below under [Working with Data](#working-with-data)."
      ]
    },
    {
      "cell_type": "markdown",
      "metadata": {
        "colab_type": "text",
        "id": "OwuxHmxllTwN"
      },
      "source": [
        "## Machine learning\n",
        "\n",
        "With Colab you can import an image dataset, train an image classifier on it, and evaluate the model, all in just [a few lines of code](https://colab.research.google.com/github/tensorflow/docs/blob/master/site/en/tutorials/quickstart/beginner.ipynb). Colab notebooks execute code on Google's cloud servers, meaning you can leverage the power of Google hardware, including [GPUs and TPUs](#using-accelerated-hardware), regardless of the power of your machine. All you need is a browser."
      ]
    },
    {
      "cell_type": "markdown",
      "metadata": {
        "colab_type": "text",
        "id": "ufxBm1yRnruN"
      },
      "source": [
        "Colab is used extensively in the machine learning community with applications including:\n",
        "- Getting started with TensorFlow\n",
        "- Developing and training neural networks\n",
        "- Experimenting with TPUs\n",
        "- Disseminating AI research\n",
        "- Creating tutorials\n",
        "\n",
        "To see sample Colab notebooks that demonstrate machine learning applications, see the [machine learning examples](#machine-learning-examples) below."
      ]
    },
    {
      "cell_type": "markdown",
      "metadata": {
        "colab_type": "text",
        "id": "-Rh3-Vt9Nev9"
      },
      "source": [
        "## More Resources\n",
        "\n",
        "### Working with Notebooks in Colab\n",
        "- [Overview of Colaboratory](/notebooks/basic_features_overview.ipynb)\n",
        "- [Guide to Markdown](/notebooks/markdown_guide.ipynb)\n",
        "- [Importing libraries and installing dependencies](/notebooks/snippets/importing_libraries.ipynb)\n",
        "- [Saving and loading notebooks in GitHub](https://colab.research.google.com/github/googlecolab/colabtools/blob/master/notebooks/colab-github-demo.ipynb)\n",
        "- [Interactive forms](/notebooks/forms.ipynb)\n",
        "- [Interactive widgets](/notebooks/widgets.ipynb)\n",
        "- <img src=\"/img/new.png\" height=\"20px\" align=\"left\" hspace=\"4px\" alt=\"New\"></img>\n",
        " [TensorFlow 2 in Colab](/notebooks/tensorflow_version.ipynb)\n",
        "\n",
        "<a name=\"working-with-data\"></a>\n",
        "### Working with Data\n",
        "- [Loading data: Drive, Sheets, and Google Cloud Storage](/notebooks/io.ipynb) \n",
        "- [Charts: visualizing data](/notebooks/charts.ipynb)\n",
        "- [Getting started with BigQuery](/notebooks/bigquery.ipynb)\n",
        "\n",
        "### Machine Learning Crash Course\n",
        "These are a few of the notebooks from Google's online Machine Learning course. See the [full course website](https://developers.google.com/machine-learning/crash-course/) for more.\n",
        "- [Intro to Pandas](/notebooks/mlcc/intro_to_pandas.ipynb)\n",
        "- [Tensorflow concepts](/notebooks/mlcc/tensorflow_programming_concepts.ipynb)\n",
        "- [First steps with TensorFlow](/notebooks/mlcc/first_steps_with_tensor_flow.ipynb)\n",
        "- [Intro to neural nets](/notebooks/mlcc/intro_to_neural_nets.ipynb)\n",
        "- [Intro to sparse data and embeddings](/notebooks/mlcc/intro_to_sparse_data_and_embeddings.ipynb)\n",
        "\n",
        "<a name=\"using-accelerated-hardware\"></a>\n",
        "### Using Accelerated Hardware\n",
        "- [TensorFlow with GPUs](/notebooks/gpu.ipynb)\n",
        "- [TensorFlow with TPUs](/notebooks/tpu.ipynb)"
      ]
    },
    {
      "cell_type": "markdown",
      "metadata": {
        "colab_type": "text",
        "id": "P-H6Lw1vyNNd"
      },
      "source": [
        "<a name=\"machine-learning-examples\"></a>\n",
        "\n",
        "## Machine Learning Examples\n",
        "\n",
        "To see end-to-end examples of the interactive machine learning analyses that Colaboratory makes possible, check out the [AI Hub](https://aihub.cloud.google.com/) project.\n",
        "\n",
        "A few featured examples:\n",
        "\n",
        "- [Neural Style Transfer](https://aihub.cloud.google.com/p/products%2F7f7495dd-6f66-4f8a-8c30-15f211ad6957): Use deep learning to transfer style between images.\n",
        "- [EZ NSynth](https://aihub.cloud.google.com/p/products%2Fcddd17cf-5f86-4ce7-b6b6-03c5e52ee0fb): Synthesize audio with WaveNet auto-encoders.\n",
        "- [Fashion MNIST with Keras and TPUs](https://aihub.cloud.google.com/p/products%2F7a0acf15-0be0-41a6-9bdb-5a5abd4e8fbf): Classify fashion-related images with deep learning.\n",
        "- [DeepDream](https://aihub.cloud.google.com/p/products%2Ff9e8fc11-ad0f-410a-bebe-2482066ce570): Produce DeepDream images from your own photos.\n",
        "- [Convolutional VAE](https://aihub.cloud.google.com/p/products%2Ff5e8dd20-6b34-44a0-bc45-6e345e36a4e7): Create a generative model of handwritten digits."
      ]
    },
    {
      "cell_type": "markdown",
      "metadata": {
        "id": "mkzd_lgWutKE",
        "colab_type": "text"
      },
      "source": [
        " "
      ]
    },
    {
      "cell_type": "code",
      "metadata": {
        "id": "LM-jM6fruwex",
        "colab_type": "code",
        "colab": {}
      },
      "source": [
        "#from google.colab import files\n",
        "#uploaded = files.upload()\n",
        "\n",
        "def load():\n",
        "  try:\n",
        "    f = open('dictionary.txt', 'r', encoding = 'utf-8')\n",
        "    print(f.read())\n",
        "  except FileNotFoundError:\n",
        "    print(\"FileNotFound\")\n",
        "  finally:\n",
        "    if f:\n",
        "      f.close\n",
        "\n",
        "load()"
      ],
      "execution_count": 0,
      "outputs": []
    },
    {
      "cell_type": "code",
      "metadata": {
        "id": "79WzNwwnxyGP",
        "colab_type": "code",
        "colab": {}
      },
      "source": [
        ""
      ],
      "execution_count": 0,
      "outputs": []
    },
    {
      "cell_type": "code",
      "metadata": {
        "id": "M5xvM-R7wN0g",
        "colab_type": "code",
        "colab": {
          "base_uri": "https://localhost:8080/",
          "height": 34
        },
        "outputId": "bdbe8516-49d1-4989-d91f-3efe4926f185"
      },
      "source": [
        "from math import sqrt\n",
        "\n",
        "\n",
        "def is_prime(n):\n",
        "    \"\"\"判断素数的函数\"\"\"\n",
        "    assert n > 0\n",
        "    for factor in range(2, int(sqrt(n)) + 1):\n",
        "        if n % factor == 0:\n",
        "            return False\n",
        "    return True if n != 1 else False\n",
        "\n",
        "\n",
        "def load():\n",
        "    filenames = ('a.txt', 'b.txt', 'c.txt')\n",
        "    fs_list = []\n",
        "    try:\n",
        "        for filename in filenames:\n",
        "            fs_list.append(open(filename, 'w', encoding='utf-8'))\n",
        "        for number in range(1, 10000):\n",
        "            if is_prime(number):\n",
        "                if number < 100:\n",
        "                    fs_list[0].write(str(number) + '\\n')\n",
        "                elif number < 1000:\n",
        "                    fs_list[1].write(str(number) + '\\n')\n",
        "                else:\n",
        "                    fs_list[2].write(str(number) + '\\n')\n",
        "    except IOError as ex:\n",
        "        print(ex)\n",
        "        print('An error occurred while writing the file!')\n",
        "    finally:\n",
        "        for fs in fs_list:\n",
        "            fs.close()\n",
        "    print('Operation completed!')\n",
        "\n",
        "\n",
        "load()"
      ],
      "execution_count": 6,
      "outputs": [
        {
          "output_type": "stream",
          "text": [
            "Operation completed!\n"
          ],
          "name": "stdout"
        }
      ]
    },
    {
      "cell_type": "code",
      "metadata": {
        "id": "FyNuVlnSxzUa",
        "colab_type": "code",
        "colab": {
          "base_uri": "https://localhost:8080/",
          "height": 316
        },
        "outputId": "48b7bffb-99f4-428f-bf4e-78c8e97b9efd"
      },
      "source": [
        "import requests\n",
        "import json\n",
        "\n",
        "def load():\n",
        "  resp = requests.get('https://www.webs.com/themes')\n",
        "  data_model = json.loads(resp.text)\n",
        "  for news in data_model['']:\n",
        "    print(news['title'])\n",
        "\n",
        "load()"
      ],
      "execution_count": 8,
      "outputs": [
        {
          "output_type": "error",
          "ename": "TypeError",
          "evalue": "ignored",
          "traceback": [
            "\u001b[0;31m---------------------------------------------------------------------------\u001b[0m",
            "\u001b[0;31mTypeError\u001b[0m                                 Traceback (most recent call last)",
            "\u001b[0;32m<ipython-input-8-3d09e5dabde1>\u001b[0m in \u001b[0;36m<module>\u001b[0;34m()\u001b[0m\n\u001b[1;32m      8\u001b[0m     \u001b[0mprint\u001b[0m\u001b[0;34m(\u001b[0m\u001b[0mnews\u001b[0m\u001b[0;34m[\u001b[0m\u001b[0;34m'title'\u001b[0m\u001b[0;34m]\u001b[0m\u001b[0;34m)\u001b[0m\u001b[0;34m\u001b[0m\u001b[0;34m\u001b[0m\u001b[0m\n\u001b[1;32m      9\u001b[0m \u001b[0;34m\u001b[0m\u001b[0m\n\u001b[0;32m---> 10\u001b[0;31m \u001b[0mload\u001b[0m\u001b[0;34m(\u001b[0m\u001b[0;34m)\u001b[0m\u001b[0;34m\u001b[0m\u001b[0;34m\u001b[0m\u001b[0m\n\u001b[0m",
            "\u001b[0;32m<ipython-input-8-3d09e5dabde1>\u001b[0m in \u001b[0;36mload\u001b[0;34m()\u001b[0m\n\u001b[1;32m      6\u001b[0m   \u001b[0mdata_model\u001b[0m \u001b[0;34m=\u001b[0m \u001b[0mjson\u001b[0m\u001b[0;34m.\u001b[0m\u001b[0mloads\u001b[0m\u001b[0;34m(\u001b[0m\u001b[0mresp\u001b[0m\u001b[0;34m.\u001b[0m\u001b[0mtext\u001b[0m\u001b[0;34m)\u001b[0m\u001b[0;34m\u001b[0m\u001b[0;34m\u001b[0m\u001b[0m\n\u001b[1;32m      7\u001b[0m   \u001b[0;32mfor\u001b[0m \u001b[0mnews\u001b[0m \u001b[0;32min\u001b[0m \u001b[0mdata_model\u001b[0m\u001b[0;34m:\u001b[0m\u001b[0;34m\u001b[0m\u001b[0;34m\u001b[0m\u001b[0m\n\u001b[0;32m----> 8\u001b[0;31m     \u001b[0mprint\u001b[0m\u001b[0;34m(\u001b[0m\u001b[0mnews\u001b[0m\u001b[0;34m[\u001b[0m\u001b[0;34m'title'\u001b[0m\u001b[0;34m]\u001b[0m\u001b[0;34m)\u001b[0m\u001b[0;34m\u001b[0m\u001b[0;34m\u001b[0m\u001b[0m\n\u001b[0m\u001b[1;32m      9\u001b[0m \u001b[0;34m\u001b[0m\u001b[0m\n\u001b[1;32m     10\u001b[0m \u001b[0mload\u001b[0m\u001b[0;34m(\u001b[0m\u001b[0;34m)\u001b[0m\u001b[0;34m\u001b[0m\u001b[0;34m\u001b[0m\u001b[0m\n",
            "\u001b[0;31mTypeError\u001b[0m: string indices must be integers"
          ]
        }
      ]
    },
    {
      "cell_type": "code",
      "metadata": {
        "id": "Uc4Q77Ua5hDV",
        "colab_type": "code",
        "colab": {
          "base_uri": "https://localhost:8080/",
          "height": 34
        },
        "outputId": "03a9e77c-c2c3-41b2-81ea-b9183860a1f3"
      },
      "source": [
        "nums = [2, 7, 11, 15]\n",
        "target = 26\n",
        "leng = len(nums)\n",
        "for i, num in enumerate(nums):\n",
        "  for j in range(i+1, leng):\n",
        "    if num + nums[j] == target:\n",
        "      print(i, j)\n",
        "\n"
      ],
      "execution_count": 7,
      "outputs": [
        {
          "output_type": "stream",
          "text": [
            "2 3\n"
          ],
          "name": "stdout"
        }
      ]
    },
    {
      "cell_type": "code",
      "metadata": {
        "id": "JZkGe4vz8y2l",
        "colab_type": "code",
        "colab": {
          "base_uri": "https://localhost:8080/",
          "height": 612
        },
        "outputId": "b8f07520-50d9-4131-a633-62803c56c272"
      },
      "source": [
        "from collections import deque \n",
        "\n",
        "# Definition for singly-linked list.\n",
        "class ListNode:\n",
        "  def __init__(self, x):\n",
        "    self.val = x\n",
        "    self.next = None\n",
        "\n",
        "class Solution:\n",
        " # Takes ListNode integer representation and returns an integer\n",
        " def decodeNumber(node: ListNode) -> int:\n",
        "         d = deque()\n",
        "     \n",
        "         # For each digit, append on the left of the deque to build the number\n",
        "         # (appening on left to account for digits arriving in reverse order)\n",
        "         while node != None:\n",
        "             d.appendleft(str(node.val))\n",
        "             print(f\"decodeStr: {d}\")\n",
        "             node = node.next\n",
        "     \n",
        "         # Join deque into integer and return\n",
        "         num = ''.join(list(d))\n",
        "         print(f\"decodeNum: {num}\")\n",
        "         return int(num)\n",
        " \n",
        " # Takes an integer and returns a ListNode integer representation             \n",
        " def encodeNumber(num: int) -> ListNode:\n",
        "     \n",
        "     # Let's build a deque from the given integer\n",
        "     d = deque(str(num))\n",
        "     print(f\"encodeStr: {d}\")\n",
        " \n",
        "     # Deepest value is the most significant digit\n",
        "     node = ListNode(int(d.popleft()))\n",
        " \n",
        "     # As long as there are digits, add them (from left) as a new node\n",
        "     while len(d) > 0:\n",
        "         newNode = ListNode(int(d.popleft()))\n",
        "         newNode.next = node\n",
        "         node = newNode\n",
        " \n",
        "     return node\n",
        " \n",
        " def addTwoNumbers(self, l1: ListNode, l2: ListNode) -> ListNode:\n",
        "     \n",
        "     # Decode the two given numbers for a resulting integer\n",
        "     resultNum = Solution.decodeNumber(l1) + Solution.decodeNumber(l2)\n",
        "     \n",
        "     # Encode the resulting integer to the given format\n",
        "     return Solution.encodeNumber(resultNum)\n",
        "\n",
        "def list2link(l):\n",
        "    if len(l) == 0:\n",
        "        return None\n",
        "    ret_tail = ret_head = ListNode(l[0])\n",
        "    for val in l[1:]:\n",
        "        tmp = ListNode(val)\n",
        "        ret_tail.next = tmp\n",
        "        ret_tail = ret_tail.next\n",
        "    return ret_head\n",
        "\n",
        "\n",
        "def print_link(link):\n",
        "    while link is not None:\n",
        "        print (\"->%d\" % link.val,)\n",
        "        link = link.next\n",
        "    print (\"\\n\")\n",
        "\n",
        "\n",
        "solution = Solution()\n",
        "print_link(solution.addTwoNumbers(list2link([2, 7, 8, 9, 9, 9]), list2link([3, 7, 5])))\n",
        "print_link(solution.addTwoNumbers(list2link([2, 4, 3]), list2link([5, 6, 4])))"
      ],
      "execution_count": 15,
      "outputs": [
        {
          "output_type": "stream",
          "text": [
            "decodeStr: deque(['2'])\n",
            "decodeStr: deque(['7', '2'])\n",
            "decodeStr: deque(['8', '7', '2'])\n",
            "decodeStr: deque(['9', '8', '7', '2'])\n",
            "decodeStr: deque(['9', '9', '8', '7', '2'])\n",
            "decodeStr: deque(['9', '9', '9', '8', '7', '2'])\n",
            "decodeNum: 999872\n",
            "decodeStr: deque(['3'])\n",
            "decodeStr: deque(['7', '3'])\n",
            "decodeStr: deque(['5', '7', '3'])\n",
            "decodeNum: 573\n",
            "encodeStr: deque(['1', '0', '0', '0', '4', '4', '5'])\n",
            "->5\n",
            "->4\n",
            "->4\n",
            "->0\n",
            "->0\n",
            "->0\n",
            "->1\n",
            "\n",
            "\n",
            "decodeStr: deque(['2'])\n",
            "decodeStr: deque(['4', '2'])\n",
            "decodeStr: deque(['3', '4', '2'])\n",
            "decodeNum: 342\n",
            "decodeStr: deque(['5'])\n",
            "decodeStr: deque(['6', '5'])\n",
            "decodeStr: deque(['4', '6', '5'])\n",
            "decodeNum: 465\n",
            "encodeStr: deque(['8', '0', '7'])\n",
            "->7\n",
            "->0\n",
            "->8\n",
            "\n",
            "\n"
          ],
          "name": "stdout"
        }
      ]
    },
    {
      "cell_type": "code",
      "metadata": {
        "id": "_rX2QZ_ohGgx",
        "colab_type": "code",
        "colab": {
          "base_uri": "https://localhost:8080/",
          "height": 34
        },
        "outputId": "610aab1b-d51d-4c89-baf6-8a97faf3fccf"
      },
      "source": [
        "stri = \"abcabcbb\"\n",
        "\n",
        "def lengthOfLongestSubstring(s):\n",
        "  if len(s) == 0:\n",
        "    return 0\n",
        "\n",
        "  result = 1\n",
        "\n",
        "  for i in range(len(s)):\n",
        "    for j in range(i + 1, len(s)):\n",
        "      if s[j] in s[i:j]:\n",
        "        break\n",
        "      else :\n",
        "        result = max(result, len(s[i:j+1]))\n",
        "\n",
        "  return result\n",
        "\n",
        "\n",
        "print(lengthOfLongestSubstring(stri))"
      ],
      "execution_count": 4,
      "outputs": [
        {
          "output_type": "stream",
          "text": [
            "3\n"
          ],
          "name": "stdout"
        }
      ]
    },
    {
      "cell_type": "code",
      "metadata": {
        "id": "S81PSo4X6cQD",
        "colab_type": "code",
        "colab": {
          "base_uri": "https://localhost:8080/",
          "height": 68
        },
        "outputId": "63f62be0-e1f2-42fc-c180-d89955013690"
      },
      "source": [
        "xs = [()]\n",
        "res = [False]*2\n",
        "print(xs)\n",
        "print(res)\n",
        "if xs:\n",
        "  res[0] = True\n",
        "if xs[0]:\n",
        "  res[1] = True\n",
        "\n",
        "print(res)"
      ],
      "execution_count": 5,
      "outputs": [
        {
          "output_type": "stream",
          "text": [
            "[()]\n",
            "[False, False]\n",
            "[True, False]\n"
          ],
          "name": "stdout"
        }
      ]
    },
    {
      "cell_type": "code",
      "metadata": {
        "id": "Vgo0TstCKWMD",
        "colab_type": "code",
        "colab": {
          "base_uri": "https://localhost:8080/",
          "height": 51
        },
        "outputId": "740c9694-1947-4a04-fcdd-3ffe001e1ec9"
      },
      "source": [
        "num = int(input())\n",
        "\n",
        "#120\n",
        "res = 0\n",
        "while num:\n",
        "  res = res*10 + num % 10\n",
        "  num = num//10\n",
        "\n",
        "print(res)\n",
        "\n",
        "\n"
      ],
      "execution_count": 7,
      "outputs": [
        {
          "output_type": "stream",
          "text": [
            "59863\n",
            "36895\n"
          ],
          "name": "stdout"
        }
      ]
    },
    {
      "cell_type": "code",
      "metadata": {
        "id": "us8otA0uLpjp",
        "colab_type": "code",
        "colab": {
          "base_uri": "https://localhost:8080/",
          "height": 833
        },
        "outputId": "3a16f20e-68b9-44eb-f683-fcb76a9242a9"
      },
      "source": [
        "def permute(nums):\n",
        "  result_perms = [[]]\n",
        "  for n in nums:\n",
        "    new_perms = []\n",
        "    #print(len(result_perms))\n",
        "    for perm in result_perms:\n",
        "      for i in range(len(perm)+1):\n",
        "        print(\"i\", i)\n",
        "        print(\"(perm[:i]\", perm[:i])\n",
        "        print(\"([n]\", [n])\n",
        "        print(\"(perm[i:]\", perm[i:])\n",
        "        new_perms.append(perm[:i] + [n] + perm[i:])\n",
        "        print(\"new perms\", new_perms)\n",
        "        result_perms = new_perms\n",
        "  return result_perms\n",
        "\n",
        "my_nums = [1,2,3]\n",
        "print(\"Original Cofllection: \",my_nums)\n",
        "print(\"Collection of distinct numbers:\\n\",permute(my_nums))"
      ],
      "execution_count": 18,
      "outputs": [
        {
          "output_type": "stream",
          "text": [
            "Original Cofllection:  [1, 2, 3]\n",
            "i 0\n",
            "(perm[:i] []\n",
            "([n] [1]\n",
            "(perm[i:] []\n",
            "new perms [[1]]\n",
            "i 0\n",
            "(perm[:i] []\n",
            "([n] [2]\n",
            "(perm[i:] [1]\n",
            "new perms [[2, 1]]\n",
            "i 1\n",
            "(perm[:i] [1]\n",
            "([n] [2]\n",
            "(perm[i:] []\n",
            "new perms [[2, 1], [1, 2]]\n",
            "i 0\n",
            "(perm[:i] []\n",
            "([n] [3]\n",
            "(perm[i:] [2, 1]\n",
            "new perms [[3, 2, 1]]\n",
            "i 1\n",
            "(perm[:i] [2]\n",
            "([n] [3]\n",
            "(perm[i:] [1]\n",
            "new perms [[3, 2, 1], [2, 3, 1]]\n",
            "i 2\n",
            "(perm[:i] [2, 1]\n",
            "([n] [3]\n",
            "(perm[i:] []\n",
            "new perms [[3, 2, 1], [2, 3, 1], [2, 1, 3]]\n",
            "i 0\n",
            "(perm[:i] []\n",
            "([n] [3]\n",
            "(perm[i:] [1, 2]\n",
            "new perms [[3, 2, 1], [2, 3, 1], [2, 1, 3], [3, 1, 2]]\n",
            "i 1\n",
            "(perm[:i] [1]\n",
            "([n] [3]\n",
            "(perm[i:] [2]\n",
            "new perms [[3, 2, 1], [2, 3, 1], [2, 1, 3], [3, 1, 2], [1, 3, 2]]\n",
            "i 2\n",
            "(perm[:i] [1, 2]\n",
            "([n] [3]\n",
            "(perm[i:] []\n",
            "new perms [[3, 2, 1], [2, 3, 1], [2, 1, 3], [3, 1, 2], [1, 3, 2], [1, 2, 3]]\n",
            "Collection of distinct numbers:\n",
            " [[3, 2, 1], [2, 3, 1], [2, 1, 3], [3, 1, 2], [1, 3, 2], [1, 2, 3]]\n"
          ],
          "name": "stdout"
        }
      ]
    },
    {
      "cell_type": "code",
      "metadata": {
        "id": "CLsmwM8ERCbK",
        "colab_type": "code",
        "colab": {
          "base_uri": "https://localhost:8080/",
          "height": 187
        },
        "outputId": "23cb2c08-cc97-46a9-b94a-dc5783f6dc92"
      },
      "source": [
        "import calendar\n",
        "y = int(input(\"Input the year : \"))\n",
        "m = int(input(\"Input the month : \"))\n",
        "print(calendar.month(y, m))"
      ],
      "execution_count": 19,
      "outputs": [
        {
          "output_type": "stream",
          "text": [
            "Input the year : 2019\n",
            "Input the month : 08\n",
            "    August 2019\n",
            "Mo Tu We Th Fr Sa Su\n",
            "          1  2  3  4\n",
            " 5  6  7  8  9 10 11\n",
            "12 13 14 15 16 17 18\n",
            "19 20 21 22 23 24 25\n",
            "26 27 28 29 30 31\n",
            "\n"
          ],
          "name": "stdout"
        }
      ]
    },
    {
      "cell_type": "code",
      "metadata": {
        "id": "NvOif6XFSi7-",
        "colab_type": "code",
        "colab": {
          "base_uri": "https://localhost:8080/",
          "height": 34
        },
        "outputId": "4aed4c46-5fce-412d-e0fb-f1224f9b0c8d"
      },
      "source": [
        "numlist = [1,4,6,7,4]\n",
        "\n",
        "print(numlist.count(4))\n",
        "\n"
      ],
      "execution_count": 24,
      "outputs": [
        {
          "output_type": "stream",
          "text": [
            "2\n"
          ],
          "name": "stdout"
        }
      ]
    },
    {
      "cell_type": "code",
      "metadata": {
        "id": "xkcTaFDtWHS1",
        "colab_type": "code",
        "colab": {}
      },
      "source": [
        "import cProfile\n",
        "def sum():\n",
        "    for n in range(10000):\n",
        "      num = 15461313*n \n",
        "      print(num) \n",
        "cProfile.run('sum()')"
      ],
      "execution_count": 0,
      "outputs": []
    },
    {
      "cell_type": "code",
      "metadata": {
        "id": "a6owvayjWzlb",
        "colab_type": "code",
        "colab": {
          "base_uri": "https://localhost:8080/",
          "height": 156
        },
        "outputId": "0fa9962c-e5c3-479b-c909-2ae300f49aff"
      },
      "source": [
        "import os\n",
        "# Access all environment variables \n",
        "print('*----------------------------------*')\n",
        "print(os.environ)\n",
        "print('*----------------------------------*')\n",
        "# Access a particular environment variable \n",
        "print(os.environ['HOME'])\n",
        "print('*----------------------------------*')\n",
        "print(os.environ['PATH'])\n",
        "print('*----------------------------------*')"
      ],
      "execution_count": 31,
      "outputs": [
        {
          "output_type": "stream",
          "text": [
            "*----------------------------------*\n",
            "environ({'ENV': '/root/.bashrc', 'GCS_READ_CACHE_BLOCK_SIZE_MB': '16', 'CLOUDSDK_CONFIG': '/content/.config', 'CUDA_VERSION': '10.1.243', 'PATH': '/usr/local/nvidia/bin:/usr/local/cuda/bin:/usr/local/sbin:/usr/local/bin:/usr/sbin:/usr/bin:/sbin:/bin:/tools/node/bin:/tools/google-cloud-sdk/bin:/opt/bin', 'HOME': '/root', 'LD_LIBRARY_PATH': '/usr/local/nvidia/lib:/usr/local/nvidia/lib64', 'LANG': 'en_US.UTF-8', 'SHELL': '/bin/bash', 'LIBRARY_PATH': '/usr/local/cuda/lib64/stubs', 'CUDA_PKG_VERSION': '10-1=10.1.243-1', 'SHLVL': '1', 'GCE_METADATA_TIMEOUT': '0', 'NCCL_VERSION': '2.4.8', 'NVIDIA_VISIBLE_DEVICES': 'all', 'TF_FORCE_GPU_ALLOW_GROWTH': 'true', 'DEBIAN_FRONTEND': 'noninteractive', 'CUDNN_VERSION': '7.6.5.32', 'LAST_FORCED_REBUILD': '20200316', 'JPY_PARENT_PID': '18', 'PYTHONPATH': '/env/python', 'DATALAB_SETTINGS_OVERRIDES': '{\"kernelManagerProxyPort\":6000,\"kernelManagerProxyHost\":\"172.28.0.3\",\"jupyterArgs\":[\"--ip=\\\\\"172.28.0.2\\\\\"\"]}', 'NO_GCE_CHECK': 'True', 'GLIBCXX_FORCE_NEW': '1', 'NVIDIA_DRIVER_CAPABILITIES': 'compute,utility', '_': '/tools/node/bin/node', 'LD_PRELOAD': '/usr/lib/x86_64-linux-gnu/libtcmalloc.so.4', 'NVIDIA_REQUIRE_CUDA': 'cuda>=10.1 brand=tesla,driver>=384,driver<385 brand=tesla,driver>=396,driver<397 brand=tesla,driver>=410,driver<411', 'OLDPWD': '/', 'HOSTNAME': 'eb9f11481fa1', 'COLAB_GPU': '0', 'PWD': '/', 'GLIBCPP_FORCE_NEW': '1', 'PYTHONWARNINGS': 'ignore:::pip._internal.cli.base_command', 'TBE_CREDS_ADDR': '172.28.0.1:8008', 'TERM': 'xterm-color', 'CLICOLOR': '1', 'PAGER': 'cat', 'GIT_PAGER': 'cat', 'MPLBACKEND': 'module://ipykernel.pylab.backend_inline'})\n",
            "*----------------------------------*\n",
            "/root\n",
            "*----------------------------------*\n",
            "/usr/local/nvidia/bin:/usr/local/cuda/bin:/usr/local/sbin:/usr/local/bin:/usr/sbin:/usr/bin:/sbin:/bin:/tools/node/bin:/tools/google-cloud-sdk/bin:/opt/bin\n",
            "*----------------------------------*\n"
          ],
          "name": "stdout"
        }
      ]
    },
    {
      "cell_type": "code",
      "metadata": {
        "id": "Nx0qF0tOW7vu",
        "colab_type": "code",
        "colab": {
          "base_uri": "https://localhost:8080/",
          "height": 34
        },
        "outputId": "ca1592f1-6ac4-4662-9fc6-7c702571fa6b"
      },
      "source": [
        "import socket\n",
        "print([l for l in ([ip for ip in socket.gethostbyname_ex(socket.gethostname())[2] \n",
        "if not ip.startswith(\"127.\")][:1], [[(s.connect(('8.8.8.8', 53)), \n",
        "s.getsockname()[0], s.close()) for s in [socket.socket(socket.AF_INET, \n",
        "socket.SOCK_DGRAM)]][0][1]]) if l][0][0])"
      ],
      "execution_count": 32,
      "outputs": [
        {
          "output_type": "stream",
          "text": [
            "172.28.0.2\n"
          ],
          "name": "stdout"
        }
      ]
    },
    {
      "cell_type": "code",
      "metadata": {
        "id": "eu4Ec_PtXg_b",
        "colab_type": "code",
        "colab": {
          "base_uri": "https://localhost:8080/",
          "height": 34
        },
        "outputId": "5cc62cb0-8a3f-49d3-9272-aaff02f2fcf4"
      },
      "source": [
        "num = 5245\n",
        "\n",
        "res = 0\n",
        "while num:\n",
        "  res = res + num % 10\n",
        "  num = num // 10\n",
        "\n",
        "print(res)"
      ],
      "execution_count": 33,
      "outputs": [
        {
          "output_type": "stream",
          "text": [
            "16\n"
          ],
          "name": "stdout"
        }
      ]
    },
    {
      "cell_type": "code",
      "metadata": {
        "id": "aQylQ7GsYqm9",
        "colab_type": "code",
        "colab": {
          "base_uri": "https://localhost:8080/",
          "height": 102
        },
        "outputId": "b5cb9273-7a35-4220-999e-653261b47f68"
      },
      "source": [
        "import sys\n",
        "str1 = \"one\"\n",
        "str2 = \"four\"\n",
        "str3 = \"three\"\n",
        "print()\n",
        "print(\"Memory size of '\"+str1+\"' = \"+str(sys.getsizeof(str1))+ \" bytes\")\n",
        "print(\"Memory size of '\"+str2+\"' = \"+str(sys.getsizeof(str2))+ \" bytes\")\n",
        "print(\"Memory size of '\"+str3+\"' = \"+str(sys.getsizeof(str3))+ \" bytes\")\n",
        "print()"
      ],
      "execution_count": 34,
      "outputs": [
        {
          "output_type": "stream",
          "text": [
            "\n",
            "Memory size of 'one' = 52 bytes\n",
            "Memory size of 'four' = 53 bytes\n",
            "Memory size of 'three' = 54 bytes\n",
            "\n"
          ],
          "name": "stdout"
        }
      ]
    },
    {
      "cell_type": "code",
      "metadata": {
        "id": "KBob6pseYwem",
        "colab_type": "code",
        "colab": {
          "base_uri": "https://localhost:8080/",
          "height": 85
        },
        "outputId": "cd5d23cb-1faf-4df6-dae4-9574538ebfa0"
      },
      "source": [
        "import sys\n",
        "print()\n",
        "print(\"Current value of the recursion limit:\")\n",
        "print(sys.getrecursionlimit())\n",
        "print()"
      ],
      "execution_count": 35,
      "outputs": [
        {
          "output_type": "stream",
          "text": [
            "\n",
            "Current value of the recursion limit:\n",
            "1000\n",
            "\n"
          ],
          "name": "stdout"
        }
      ]
    },
    {
      "cell_type": "code",
      "metadata": {
        "id": "iWz58ruSZVgu",
        "colab_type": "code",
        "colab": {
          "base_uri": "https://localhost:8080/",
          "height": 68
        },
        "outputId": "fa54d8e8-09ec-4d9d-f1f7-3e7b6b814776"
      },
      "source": [
        "print()\n",
        "print((lambda str='print(lambda str=%r: (str %% str))()': (str % str))())\n",
        "print()"
      ],
      "execution_count": 36,
      "outputs": [
        {
          "output_type": "stream",
          "text": [
            "\n",
            "print(lambda str='print(lambda str=%r: (str %% str))()': (str % str))()\n",
            "\n"
          ],
          "name": "stdout"
        }
      ]
    },
    {
      "cell_type": "code",
      "metadata": {
        "id": "Xq8hvXt0Zr_T",
        "colab_type": "code",
        "colab": {
          "base_uri": "https://localhost:8080/",
          "height": 68
        },
        "outputId": "49f686f4-16f1-43be-ab0e-9096a1f063d8"
      },
      "source": [
        "obj1 = object()\n",
        "obj1_address = id(obj1)\n",
        "print()\n",
        "print(obj1_address)\n",
        "print()"
      ],
      "execution_count": 37,
      "outputs": [
        {
          "output_type": "stream",
          "text": [
            "\n",
            "140242528171376\n",
            "\n"
          ],
          "name": "stdout"
        }
      ]
    },
    {
      "cell_type": "code",
      "metadata": {
        "id": "dsISuMhbaAMr",
        "colab_type": "code",
        "colab": {}
      },
      "source": [
        "import traceback\n",
        "print()\n",
        "def f1():return abc()\n",
        "def abc():traceback.print_stack()\n",
        "f1()\n",
        "print()"
      ],
      "execution_count": 0,
      "outputs": []
    },
    {
      "cell_type": "code",
      "metadata": {
        "id": "tqoUIuW_ajeb",
        "colab_type": "code",
        "colab": {
          "base_uri": "https://localhost:8080/",
          "height": 68
        },
        "outputId": "2d86c4d7-a180-4b1b-df89-3759272016f1"
      },
      "source": [
        "import time\n",
        "print()\n",
        "print(time.ctime())\n",
        "print()"
      ],
      "execution_count": 41,
      "outputs": [
        {
          "output_type": "stream",
          "text": [
            "\n",
            "Sun Apr 26 16:55:25 2020\n",
            "\n"
          ],
          "name": "stdout"
        }
      ]
    },
    {
      "cell_type": "code",
      "metadata": {
        "id": "1DGwz1glatcz",
        "colab_type": "code",
        "colab": {
          "base_uri": "https://localhost:8080/",
          "height": 68
        },
        "outputId": "5c51e87b-358d-4553-a51a-4f7d9d2a657b"
      },
      "source": [
        "import socket\n",
        "host_name = socket.gethostname()\n",
        "print()\n",
        "print(\"Host name:\", host_name)\n",
        "print()"
      ],
      "execution_count": 42,
      "outputs": [
        {
          "output_type": "stream",
          "text": [
            "\n",
            "Host name: eb9f11481fa1\n",
            "\n"
          ],
          "name": "stdout"
        }
      ]
    },
    {
      "cell_type": "code",
      "metadata": {
        "id": "k0ud7LMnay0U",
        "colab_type": "code",
        "colab": {
          "base_uri": "https://localhost:8080/",
          "height": 54
        },
        "outputId": "4a7f5b7b-3088-474c-d88b-b7a5fdbc4e0a"
      },
      "source": [
        "from http.client import HTTPConnection\n",
        "conn = HTTPConnection(\"example.com\")\n",
        "conn.request(\"example.com\")  \n",
        "result = conn.getresponse()\n",
        "# retrieves the entire contents.  \n",
        "contents = result.read() \n",
        "print(contents)"
      ],
      "execution_count": 43,
      "outputs": [
        {
          "output_type": "stream",
          "text": [
            "b'<!doctype html>\\n<html>\\n<head>\\n    <title>Example Domain</title>\\n\\n    <meta charset=\"utf-8\" />\\n    <meta http-equiv=\"Content-type\" content=\"text/html; charset=utf-8\" />\\n    <meta name=\"viewport\" content=\"width=device-width, initial-scale=1\" />\\n    <style type=\"text/css\">\\n    body {\\n        background-color: #f0f0f2;\\n        margin: 0;\\n        padding: 0;\\n        font-family: -apple-system, system-ui, BlinkMacSystemFont, \"Segoe UI\", \"Open Sans\", \"Helvetica Neue\", Helvetica, Arial, sans-serif;\\n        \\n    }\\n    div {\\n        width: 600px;\\n        margin: 5em auto;\\n        padding: 2em;\\n        background-color: #fdfdff;\\n        border-radius: 0.5em;\\n        box-shadow: 2px 3px 7px 2px rgba(0,0,0,0.02);\\n    }\\n    a:link, a:visited {\\n        color: #38488f;\\n        text-decoration: none;\\n    }\\n    @media (max-width: 700px) {\\n        div {\\n            margin: 0 auto;\\n            width: auto;\\n        }\\n    }\\n    </style>    \\n</head>\\n\\n<body>\\n<div>\\n    <h1>Example Domain</h1>\\n    <p>This domain is for use in illustrative examples in documents. You may use this\\n    domain in literature without prior coordination or asking for permission.</p>\\n    <p><a href=\"https://www.iana.org/domains/example\">More information...</a></p>\\n</div>\\n</body>\\n</html>\\n'\n"
          ],
          "name": "stdout"
        }
      ]
    },
    {
      "cell_type": "code",
      "metadata": {
        "id": "k36Rpb4pbPCz",
        "colab_type": "code",
        "colab": {
          "base_uri": "https://localhost:8080/",
          "height": 34
        },
        "outputId": "f1d905a5-dfbb-45bc-9b74-ff8fcb335c7f"
      },
      "source": [
        "num_list = [45, 55, 60, 37, 100, 105, 220]\n",
        "# use anonymous function to filter\n",
        "def myfun(x):\n",
        "  return x % 15 == 0\n",
        "result = list(filter(lambda x: (x % 15 == 0), num_list))\n",
        "print(\"Numbers divisible by 15 are\",result)"
      ],
      "execution_count": 45,
      "outputs": [
        {
          "output_type": "stream",
          "text": [
            "Numbers divisible by 15 are [45, 60, 105]\n"
          ],
          "name": "stdout"
        }
      ]
    },
    {
      "cell_type": "code",
      "metadata": {
        "id": "9cCOROJkb0PL",
        "colab_type": "code",
        "colab": {}
      },
      "source": [
        ""
      ],
      "execution_count": 0,
      "outputs": []
    },
    {
      "cell_type": "code",
      "metadata": {
        "id": "cHTFibs8bq2v",
        "colab_type": "code",
        "colab": {
          "base_uri": "https://localhost:8080/",
          "height": 119
        },
        "outputId": "c9661579-b706-4e8a-a5e8-bab3cce8a8d5"
      },
      "source": [
        "import os\n",
        "print(\"\\nEffective group id: \",os.getegid())\n",
        "print(\"Effective user id: \",os.geteuid())\n",
        "print(\"Real group id: \",os.getgid())\n",
        "print(\"List of supplemental group ids: \",os.getgroups())\n",
        "print()"
      ],
      "execution_count": 46,
      "outputs": [
        {
          "output_type": "stream",
          "text": [
            "\n",
            "Effective group id:  0\n",
            "Effective user id:  0\n",
            "Real group id:  0\n",
            "List of supplemental group ids:  []\n",
            "\n"
          ],
          "name": "stdout"
        }
      ]
    },
    {
      "cell_type": "code",
      "metadata": {
        "id": "3VlvKkBrb1OU",
        "colab_type": "code",
        "colab": {
          "base_uri": "https://localhost:8080/",
          "height": 51
        },
        "outputId": "2d042fe4-ec3d-4b18-aafb-a061db057f56"
      },
      "source": [
        "num_list = [45, 55, 60, 37, 100, 105, 220]\n",
        "print(num_list.pop(0))\n",
        "print(num_list)"
      ],
      "execution_count": 47,
      "outputs": [
        {
          "output_type": "stream",
          "text": [
            "45\n",
            "[55, 60, 37, 100, 105, 220]\n"
          ],
          "name": "stdout"
        }
      ]
    },
    {
      "cell_type": "code",
      "metadata": {
        "id": "YgzQRLI7cDrM",
        "colab_type": "code",
        "colab": {
          "base_uri": "https://localhost:8080/",
          "height": 51
        },
        "outputId": "1516767c-b4c8-43d7-9718-929822a326c4"
      },
      "source": [
        "num_list = [45, 55, 60, 37, 100, 105, 220]\n",
        "print(num_list.remove(45))\n",
        "print(num_list)"
      ],
      "execution_count": 48,
      "outputs": [
        {
          "output_type": "stream",
          "text": [
            "None\n",
            "[55, 60, 37, 100, 105, 220]\n"
          ],
          "name": "stdout"
        }
      ]
    },
    {
      "cell_type": "code",
      "metadata": {
        "id": "EcqV5A3McNXs",
        "colab_type": "code",
        "colab": {
          "base_uri": "https://localhost:8080/",
          "height": 129
        },
        "outputId": "e3fdc475-9bd0-4d73-db96-178f0456bf51"
      },
      "source": [
        "num_list = [45, 55, 60, 37, 100, 105, 220]\n",
        "print(del num_list[0])\n",
        "print(num_list)"
      ],
      "execution_count": 49,
      "outputs": [
        {
          "output_type": "error",
          "ename": "SyntaxError",
          "evalue": "ignored",
          "traceback": [
            "\u001b[0;36m  File \u001b[0;32m\"<ipython-input-49-3603bce90eab>\"\u001b[0;36m, line \u001b[0;32m2\u001b[0m\n\u001b[0;31m    print(del num_list[0])\u001b[0m\n\u001b[0m            ^\u001b[0m\n\u001b[0;31mSyntaxError\u001b[0m\u001b[0;31m:\u001b[0m invalid syntax\n"
          ]
        }
      ]
    },
    {
      "cell_type": "code",
      "metadata": {
        "id": "jXYvSjaJc5MY",
        "colab_type": "code",
        "colab": {
          "base_uri": "https://localhost:8080/",
          "height": 34
        },
        "outputId": "a89c2c36-af4d-45b2-cc2a-b42ce7145015"
      },
      "source": [
        "nums = [34, 1, 0, -23]\n",
        "newl = list(filter(lambda x: x > 0 , nums))\n",
        "print(newl)"
      ],
      "execution_count": 52,
      "outputs": [
        {
          "output_type": "stream",
          "text": [
            "[34, 1]\n"
          ],
          "name": "stdout"
        }
      ]
    },
    {
      "cell_type": "code",
      "metadata": {
        "id": "7ZtYknladZ-K",
        "colab_type": "code",
        "colab": {
          "base_uri": "https://localhost:8080/",
          "height": 34
        },
        "outputId": "0feea5f3-02eb-4313-d7df-d38f426e6105"
      },
      "source": [
        "from functools import reduce\n",
        "nums = [10,20,30]\n",
        "nums_product = reduce((lambda x, y: x*y), nums)\n",
        "print(nums_product)"
      ],
      "execution_count": 54,
      "outputs": [
        {
          "output_type": "stream",
          "text": [
            "6000\n"
          ],
          "name": "stdout"
        }
      ]
    },
    {
      "cell_type": "code",
      "metadata": {
        "id": "uerw7-dleUhh",
        "colab_type": "code",
        "colab": {
          "base_uri": "https://localhost:8080/",
          "height": 153
        },
        "outputId": "c84ef097-8896-4105-f862-0198b287f32e"
      },
      "source": [
        "print()\n",
        "nums = [10, 20, 56, 35, 17, 99]\n",
        "# Create bytearray from list of integers.\n",
        "values = bytearray(nums)\n",
        "for x in values: print(x)\n",
        "print()"
      ],
      "execution_count": 55,
      "outputs": [
        {
          "output_type": "stream",
          "text": [
            "\n",
            "10\n",
            "20\n",
            "56\n",
            "35\n",
            "17\n",
            "99\n",
            "\n"
          ],
          "name": "stdout"
        }
      ]
    },
    {
      "cell_type": "code",
      "metadata": {
        "id": "ah5NQ-h5ehzJ",
        "colab_type": "code",
        "colab": {
          "base_uri": "https://localhost:8080/",
          "height": 51
        },
        "outputId": "cda9b32b-df08-4d17-f984-707d2345d353"
      },
      "source": [
        "try:\n",
        "  x = 1\n",
        "except NameError:\n",
        "  print(\"Variable is not defined....!\")\n",
        "else:\n",
        "  print(\"Variable is defined.\")\n",
        "try:\n",
        "  print(lo)\n",
        "except NameError:\n",
        "  print(\"Variable is not defined....!\")\n",
        "else:\n",
        "  print(\"Variable is defined.\")"
      ],
      "execution_count": 58,
      "outputs": [
        {
          "output_type": "stream",
          "text": [
            "Variable is defined.\n",
            "Variable is not defined....!\n"
          ],
          "name": "stdout"
        }
      ]
    },
    {
      "cell_type": "code",
      "metadata": {
        "id": "mFn-MdGEgcDQ",
        "colab_type": "code",
        "colab": {
          "base_uri": "https://localhost:8080/",
          "height": 68
        },
        "outputId": "31be8d24-1827-40a0-cee6-6660954a017e"
      },
      "source": [
        "print(\"Input the value of x & y\")\n",
        "x, y = map(int, input().split())\n",
        "print(\"The value of x & y are: \",x,y)"
      ],
      "execution_count": 60,
      "outputs": [
        {
          "output_type": "stream",
          "text": [
            "Input the value of x & y\n",
            "8 9\n",
            "The value of x & y are:  8 9\n"
          ],
          "name": "stdout"
        }
      ]
    },
    {
      "cell_type": "code",
      "metadata": {
        "id": "zcrJJ96YgpoP",
        "colab_type": "code",
        "colab": {}
      },
      "source": [
        "d = {'Red': 'Green'}\n",
        "(c1, c2), = d.items()\n",
        "print(c1)\n",
        "print(c2)"
      ],
      "execution_count": 0,
      "outputs": []
    },
    {
      "cell_type": "code",
      "metadata": {
        "id": "md9Bz-3QhBUq",
        "colab_type": "code",
        "colab": {
          "base_uri": "https://localhost:8080/",
          "height": 51
        },
        "outputId": "ebb3bcc3-d9be-4ad2-92ae-7e168e78c4b8"
      },
      "source": [
        "x = 'true'\n",
        "x = int(x == 'true')\n",
        "print(x)\n",
        "x = 'abcd'\n",
        "x = int(x == 'true')\n",
        "print(x)"
      ],
      "execution_count": 61,
      "outputs": [
        {
          "output_type": "stream",
          "text": [
            "1\n",
            "0\n"
          ],
          "name": "stdout"
        }
      ]
    },
    {
      "cell_type": "code",
      "metadata": {
        "id": "k-GFSE61u0Qw",
        "colab_type": "code",
        "colab": {
          "base_uri": "https://localhost:8080/",
          "height": 51
        },
        "outputId": "6ba5a150-be77-4408-d73c-7b06db6f09b4"
      },
      "source": [
        "def test_distinct(data):\n",
        "  if len(data) == len(set(data)):\n",
        "    return True\n",
        "  else:\n",
        "    return False\n",
        "\n",
        "\n",
        "print(test_distinct([1,5,7,9]))\n",
        "print(test_distinct([2,4,5,5,7,9]))"
      ],
      "execution_count": 1,
      "outputs": [
        {
          "output_type": "stream",
          "text": [
            "True\n",
            "False\n"
          ],
          "name": "stdout"
        }
      ]
    },
    {
      "cell_type": "code",
      "metadata": {
        "id": "NxewwSCX0UlB",
        "colab_type": "code",
        "colab": {
          "base_uri": "https://localhost:8080/",
          "height": 119
        },
        "outputId": "788aa211-285b-40f4-9070-141f896477f7"
      },
      "source": [
        "# Python function to print permutations of a given list \n",
        "def permutation(lst): \n",
        "\n",
        "\t# If lst is empty then there are no permutations \n",
        "\tif len(lst) == 0: \n",
        "\t\treturn [] \n",
        "\n",
        "\t# If there is only one element in lst then, only \n",
        "\t# one permuatation is possible \n",
        "\tif len(lst) == 1: \n",
        "\t\treturn [lst] \n",
        "\n",
        "\t# Find the permutations for lst if there are \n",
        "\t# more than 1 characters \n",
        "\n",
        "\tl = [] # empty list that will store current permutation \n",
        "\n",
        "\t# Iterate the input(lst) and calculate the permutation \n",
        "\tfor i in range(len(lst)): \n",
        "\t  m = lst[i] \n",
        "\n",
        "\t# Extract lst[i] or m from the list. remLst is \n",
        "\t# remaining list \n",
        "\t  remLst = lst[:i] + lst[i+1:] \n",
        "\n",
        "\t# Generating all permutations where m is first \n",
        "\t# element \n",
        "\t  for p in permutation(remLst): \n",
        "\t\t  l.append([m] + p) \n",
        "\treturn l \n",
        "\n",
        "\n",
        "# Driver program to test above function \n",
        "data = list('123') \n",
        "for p in permutation(data): \n",
        "\tprint (p) \n"
      ],
      "execution_count": 5,
      "outputs": [
        {
          "output_type": "stream",
          "text": [
            "['1', '2', '3']\n",
            "['1', '3', '2']\n",
            "['2', '1', '3']\n",
            "['2', '3', '1']\n",
            "['3', '1', '2']\n",
            "['3', '2', '1']\n"
          ],
          "name": "stdout"
        }
      ]
    },
    {
      "cell_type": "markdown",
      "metadata": {
        "id": "p0V87v4l4zT1",
        "colab_type": "text"
      },
      "source": [
        ""
      ]
    },
    {
      "cell_type": "code",
      "metadata": {
        "id": "ZSSv8n3y5BPz",
        "colab_type": "code",
        "colab": {
          "base_uri": "https://localhost:8080/",
          "height": 34
        },
        "outputId": "5fb6c7e5-5aeb-44dc-b991-4dd519256d53"
      },
      "source": [
        "nums = [10, 20, 56, 35, 17, 99]\n",
        "\n",
        "while nums:\n",
        "  for i, _ in enumerate(nums):\n",
        "    if i%3 == 0:\n",
        "      nums.pop(i) \n",
        "\n",
        "print(nums)"
      ],
      "execution_count": 8,
      "outputs": [
        {
          "output_type": "stream",
          "text": [
            "[]\n"
          ],
          "name": "stdout"
        }
      ]
    },
    {
      "cell_type": "code",
      "metadata": {
        "id": "HSTZyGGm6N1Y",
        "colab_type": "code",
        "colab": {}
      },
      "source": [
        "nums = [10, 20, 56, 35, 17, 99]\n",
        "\n",
        "for num in nums:\n",
        "  "
      ],
      "execution_count": 0,
      "outputs": []
    },
    {
      "cell_type": "code",
      "metadata": {
        "id": "OWwc0M5v-mLB",
        "colab_type": "code",
        "colab": {
          "base_uri": "https://localhost:8080/",
          "height": 34
        },
        "outputId": "a276ee81-120c-4dee-8e0b-d68bd648d3ff"
      },
      "source": [
        "numbers = []\n",
        "for num in range(1000):\n",
        "  num=str(num).zfill(3)\n",
        "print(num)\n",
        "numbers.append(num)"
      ],
      "execution_count": 10,
      "outputs": [
        {
          "output_type": "stream",
          "text": [
            "999\n"
          ],
          "name": "stdout"
        }
      ]
    },
    {
      "cell_type": "code",
      "metadata": {
        "id": "wjPFXyw_-0rW",
        "colab_type": "code",
        "colab": {
          "base_uri": "https://localhost:8080/",
          "height": 54
        },
        "outputId": "b0dbdbf7-b9da-4f4f-bb49-8a5a6552da15"
      },
      "source": [
        "import collections\n",
        "import pprint\n",
        "\n",
        "string_words = '''United States Declaration of Independence\n",
        "From Wikipedia, the free encyclopedia\n",
        "The United States Declaration of Independence is the statement\n",
        "adopted by the Second Continental Congress meeting at the Pennsylvania State\n",
        "House (Independence Hall) in Philadelphia on July 4, 1776, which announced\n",
        "that the thirteen American colonies, then at war with the Kingdom of Great\n",
        "Britain, regarded themselves as thirteen independent sovereign states, no longer\n",
        "under British rule. These states would found a new nation – the United States of\n",
        "America. John Adams was a leader in pushing for independence, which was passed\n",
        "on July 2 with no opposing vote cast. A committee of five had already drafted the\n",
        "formal declaration, to be ready when Congress voted on independence.\n",
        "\n",
        "John Adams persuaded the committee to select Thomas Jefferson to compose the original\n",
        "draft of the document, which Congress would edit to produce the final version.\n",
        "The Declaration was ultimately a formal explanation of why Congress had voted on July\n",
        "2 to declare independence from Great Britain, more than a year after the outbreak of\n",
        "the American Revolutionary War. The next day, Adams wrote to his wife Abigail: \"The\n",
        "Second Day of July 1776, will be the most memorable Epocha, in the History of America.\"\n",
        "But Independence Day is actually celebrated on July 4, the date that the Declaration of\n",
        "Independence was approved.\n",
        "\n",
        "After ratifying the text on July 4, Congress issued the Declaration of Independence in\n",
        "several forms. It was initially published as the printed Dunlap broadside that was widely\n",
        "distributed and read to the public. The source copy used for this printing has been lost,\n",
        "and may have been a copy in Thomas Jefferson's hand.[5] Jefferson's original draft, complete\n",
        "with changes made by John Adams and Benjamin Franklin, and Jefferson's notes of changes made\n",
        "by Congress, are preserved at the Library of Congress. The best-known version of the Declaration\n",
        "is a signed copy that is displayed at the National Archives in Washington, D.C., and which is\n",
        "popularly regarded as the official document. This engrossed copy was ordered by Congress on\n",
        "July 19 and signed primarily on August 2.\n",
        "\n",
        "The sources and interpretation of the Declaration have been the subject of much scholarly inquiry.\n",
        "The Declaration justified the independence of the United States by listing colonial grievances against\n",
        "King George III, and by asserting certain natural and legal rights, including a right of revolution.\n",
        "Having served its original purpose in announcing independence, references to the text of the\n",
        "Declaration were few in the following years. Abraham Lincoln made it the centerpiece of his rhetoric\n",
        "(as in the Gettysburg Address of 1863) and his policies. Since then, it has become a well-known statement\n",
        "on human rights, particularly its second sentence:\n",
        "\n",
        "We hold these truths to be self-evident, that all men are created equal, that they are endowed by their\n",
        "Creator with certain unalienable Rights, that among these are Life, Liberty and the pursuit of Happiness.\n",
        "\n",
        "This has been called \"one of the best-known sentences in the English language\", containing \"the most potent\n",
        "and consequential words in American history\". The passage came to represent a moral standard to which\n",
        "the United States should strive. This view was notably promoted by Abraham Lincoln, who considered the\n",
        "Declaration to be the foundation of his political philosophy and argued that it is a statement of principles\n",
        "through which the United States Constitution should be interpreted.\n",
        "\n",
        "The U.S. Declaration of Independence inspired many other similar documents in other countries, the first\n",
        "being the 1789 Declaration of Flanders issued during the Brabant Revolution in the Austrian Netherlands\n",
        "(modern-day Belgium). It also served as the primary model for numerous declarations of independence across\n",
        "Europe and Latin America, as well as Africa (Liberia) and Oceania (New Zealand) during the first half of the\n",
        "19th century.'''\n",
        "\n",
        "word_list = string_words.split()\n",
        "#word_freq = [word_list.count(n) for n in word_list]\n",
        "\n",
        "count = collections.Counter(word_list)\n",
        "value = pprint.pformat(count)\n",
        "print(count)\n",
        "\n"
      ],
      "execution_count": 16,
      "outputs": [
        {
          "output_type": "stream",
          "text": [
            "Counter({'the': 49, 'of': 30, 'and': 15, 'in': 13, 'Declaration': 12, 'to': 12, 'a': 10, 'The': 9, 'on': 9, 'by': 8, 'that': 8, 'was': 8, 'July': 7, 'United': 6, 'States': 6, 'Independence': 6, 'is': 6, 'Congress': 6, 'which': 6, 'as': 6, 'be': 5, 'at': 4, 'with': 4, 'Adams': 4, 'his': 4, 'copy': 4, 'been': 4, 'are': 4, 'statement': 3, '4,': 3, 'American': 3, 'John': 3, 'for': 3, 'original': 3, 'independence': 3, 'has': 3, \"Jefferson's\": 3, 'made': 3, 'This': 3, 'it': 3, 'Second': 2, '1776,': 2, 'thirteen': 2, 'Great': 2, 'Britain,': 2, 'regarded': 2, 'no': 2, 'would': 2, 'independence,': 2, '2': 2, 'committee': 2, 'had': 2, 'formal': 2, 'voted': 2, 'Thomas': 2, 'Day': 2, 'most': 2, 'text': 2, 'issued': 2, 'It': 2, 'have': 2, 'changes': 2, 'best-known': 2, 'signed': 2, 'certain': 2, 'rights,': 2, 'served': 2, 'its': 2, 'Abraham': 2, 'these': 2, 'should': 2, 'other': 2, 'first': 2, 'during': 2, 'From': 1, 'Wikipedia,': 1, 'free': 1, 'encyclopedia': 1, 'adopted': 1, 'Continental': 1, 'meeting': 1, 'Pennsylvania': 1, 'State': 1, 'House': 1, '(Independence': 1, 'Hall)': 1, 'Philadelphia': 1, 'announced': 1, 'colonies,': 1, 'then': 1, 'war': 1, 'Kingdom': 1, 'themselves': 1, 'independent': 1, 'sovereign': 1, 'states,': 1, 'longer': 1, 'under': 1, 'British': 1, 'rule.': 1, 'These': 1, 'states': 1, 'found': 1, 'new': 1, 'nation': 1, '–': 1, 'America.': 1, 'leader': 1, 'pushing': 1, 'passed': 1, 'opposing': 1, 'vote': 1, 'cast.': 1, 'A': 1, 'five': 1, 'already': 1, 'drafted': 1, 'declaration,': 1, 'ready': 1, 'when': 1, 'independence.': 1, 'persuaded': 1, 'select': 1, 'Jefferson': 1, 'compose': 1, 'draft': 1, 'document,': 1, 'edit': 1, 'produce': 1, 'final': 1, 'version.': 1, 'ultimately': 1, 'explanation': 1, 'why': 1, 'declare': 1, 'from': 1, 'more': 1, 'than': 1, 'year': 1, 'after': 1, 'outbreak': 1, 'Revolutionary': 1, 'War.': 1, 'next': 1, 'day,': 1, 'wrote': 1, 'wife': 1, 'Abigail:': 1, '\"The': 1, 'will': 1, 'memorable': 1, 'Epocha,': 1, 'History': 1, 'America.\"': 1, 'But': 1, 'actually': 1, 'celebrated': 1, 'date': 1, 'approved.': 1, 'After': 1, 'ratifying': 1, 'several': 1, 'forms.': 1, 'initially': 1, 'published': 1, 'printed': 1, 'Dunlap': 1, 'broadside': 1, 'widely': 1, 'distributed': 1, 'read': 1, 'public.': 1, 'source': 1, 'used': 1, 'this': 1, 'printing': 1, 'lost,': 1, 'may': 1, 'hand.[5]': 1, 'draft,': 1, 'complete': 1, 'Benjamin': 1, 'Franklin,': 1, 'notes': 1, 'Congress,': 1, 'preserved': 1, 'Library': 1, 'Congress.': 1, 'version': 1, 'displayed': 1, 'National': 1, 'Archives': 1, 'Washington,': 1, 'D.C.,': 1, 'popularly': 1, 'official': 1, 'document.': 1, 'engrossed': 1, 'ordered': 1, '19': 1, 'primarily': 1, 'August': 1, '2.': 1, 'sources': 1, 'interpretation': 1, 'subject': 1, 'much': 1, 'scholarly': 1, 'inquiry.': 1, 'justified': 1, 'listing': 1, 'colonial': 1, 'grievances': 1, 'against': 1, 'King': 1, 'George': 1, 'III,': 1, 'asserting': 1, 'natural': 1, 'legal': 1, 'including': 1, 'right': 1, 'revolution.': 1, 'Having': 1, 'purpose': 1, 'announcing': 1, 'references': 1, 'were': 1, 'few': 1, 'following': 1, 'years.': 1, 'Lincoln': 1, 'centerpiece': 1, 'rhetoric': 1, '(as': 1, 'Gettysburg': 1, 'Address': 1, '1863)': 1, 'policies.': 1, 'Since': 1, 'then,': 1, 'become': 1, 'well-known': 1, 'human': 1, 'particularly': 1, 'second': 1, 'sentence:': 1, 'We': 1, 'hold': 1, 'truths': 1, 'self-evident,': 1, 'all': 1, 'men': 1, 'created': 1, 'equal,': 1, 'they': 1, 'endowed': 1, 'their': 1, 'Creator': 1, 'unalienable': 1, 'Rights,': 1, 'among': 1, 'Life,': 1, 'Liberty': 1, 'pursuit': 1, 'Happiness.': 1, 'called': 1, '\"one': 1, 'sentences': 1, 'English': 1, 'language\",': 1, 'containing': 1, '\"the': 1, 'potent': 1, 'consequential': 1, 'words': 1, 'history\".': 1, 'passage': 1, 'came': 1, 'represent': 1, 'moral': 1, 'standard': 1, 'strive.': 1, 'view': 1, 'notably': 1, 'promoted': 1, 'Lincoln,': 1, 'who': 1, 'considered': 1, 'foundation': 1, 'political': 1, 'philosophy': 1, 'argued': 1, 'principles': 1, 'through': 1, 'Constitution': 1, 'interpreted.': 1, 'U.S.': 1, 'inspired': 1, 'many': 1, 'similar': 1, 'documents': 1, 'countries,': 1, 'being': 1, '1789': 1, 'Flanders': 1, 'Brabant': 1, 'Revolution': 1, 'Austrian': 1, 'Netherlands': 1, '(modern-day': 1, 'Belgium).': 1, 'also': 1, 'primary': 1, 'model': 1, 'numerous': 1, 'declarations': 1, 'across': 1, 'Europe': 1, 'Latin': 1, 'America,': 1, 'well': 1, 'Africa': 1, '(Liberia)': 1, 'Oceania': 1, '(New': 1, 'Zealand)': 1, 'half': 1, '19th': 1, 'century.': 1})\n"
          ],
          "name": "stdout"
        }
      ]
    },
    {
      "cell_type": "code",
      "metadata": {
        "id": "CAs2cpFxXMf_",
        "colab_type": "code",
        "colab": {
          "base_uri": "https://localhost:8080/",
          "height": 34
        },
        "outputId": "9c2bd59c-3a4a-494b-8214-6b4da1be1531"
      },
      "source": [
        "word = \"This strinf contains a number 12 and 13\"\n",
        "\n",
        "sum_numbers = lambda text: sum(int(word) for word in text.split() if word.isdigit())\n",
        "\n",
        "print(sum_numbers(word))"
      ],
      "execution_count": 19,
      "outputs": [
        {
          "output_type": "stream",
          "text": [
            "25\n"
          ],
          "name": "stdout"
        }
      ]
    },
    {
      "cell_type": "code",
      "metadata": {
        "id": "HiBEsEI1iQMc",
        "colab_type": "code",
        "colab": {
          "base_uri": "https://localhost:8080/",
          "height": 1000
        },
        "outputId": "ee5823f9-3628-46f7-c2ac-bfe276c9c6d7"
      },
      "source": [
        "#!pip install \n",
        "import requests\n",
        "import cv2\n",
        "from skimage import io\n",
        "\n",
        "response = requests.get(\"https://hackattic.com/challenges/reading_qr/problem?access_token=b5de5535e7a4883a\")\n",
        "cont =  response.json()\n",
        "image = io.imread(cont['image_url'])\n",
        "qrDecoder = cv2.QRCodeDetector()\n",
        "data,bbox,rectifiedImage = qrDecoder.detectAndDecode(image)\n",
        "if len(data)>0:\n",
        "  display(image, bbox)\n",
        "  rectifiedImage = np.uint8(rectifiedImage)\n",
        "  cv2.imshow(\"Rectified QRCode\", rectifiedImage)\n",
        "\n"
      ],
      "execution_count": 61,
      "outputs": [
        {
          "output_type": "display_data",
          "data": {
            "text/plain": [
              "array([[[255, 255, 255, 255],\n",
              "        [255, 255, 255, 255],\n",
              "        [255, 255, 255, 255],\n",
              "        ...,\n",
              "        [255, 255, 255, 255],\n",
              "        [255, 255, 255, 255],\n",
              "        [255, 255, 255, 255]],\n",
              "\n",
              "       [[255, 255, 255, 255],\n",
              "        [255, 255, 255, 255],\n",
              "        [255, 255, 255, 255],\n",
              "        ...,\n",
              "        [255, 255, 255, 255],\n",
              "        [255, 255, 255, 255],\n",
              "        [255, 255, 255, 255]],\n",
              "\n",
              "       [[255, 255, 255, 255],\n",
              "        [255, 255, 255, 255],\n",
              "        [255, 255, 255, 255],\n",
              "        ...,\n",
              "        [255, 255, 255, 255],\n",
              "        [255, 255, 255, 255],\n",
              "        [255, 255, 255, 255]],\n",
              "\n",
              "       ...,\n",
              "\n",
              "       [[255, 255, 255, 255],\n",
              "        [255, 255, 255, 255],\n",
              "        [255, 255, 255, 255],\n",
              "        ...,\n",
              "        [255, 255, 255, 255],\n",
              "        [255, 255, 255, 255],\n",
              "        [255, 255, 255, 255]],\n",
              "\n",
              "       [[255, 255, 255, 255],\n",
              "        [255, 255, 255, 255],\n",
              "        [255, 255, 255, 255],\n",
              "        ...,\n",
              "        [255, 255, 255, 255],\n",
              "        [255, 255, 255, 255],\n",
              "        [255, 255, 255, 255]],\n",
              "\n",
              "       [[255, 255, 255, 255],\n",
              "        [255, 255, 255, 255],\n",
              "        [255, 255, 255, 255],\n",
              "        ...,\n",
              "        [255, 255, 255, 255],\n",
              "        [255, 255, 255, 255],\n",
              "        [255, 255, 255, 255]]], dtype=uint8)"
            ]
          },
          "metadata": {
            "tags": []
          }
        },
        {
          "output_type": "display_data",
          "data": {
            "text/plain": [
              "array([[[173.     , 382.     ]],\n",
              "\n",
              "       [[376.98596, 331.0035 ]],\n",
              "\n",
              "       [[429.     , 536.     ]],\n",
              "\n",
              "       [[223.99414, 585.97656]]], dtype=float32)"
            ]
          },
          "metadata": {
            "tags": []
          }
        },
        {
          "output_type": "error",
          "ename": "DisabledFunctionError",
          "evalue": "ignored",
          "traceback": [
            "\u001b[0;31m---------------------------------------------------------------------------\u001b[0m",
            "\u001b[0;31mDisabledFunctionError\u001b[0m                     Traceback (most recent call last)",
            "\u001b[0;32m<ipython-input-61-f90b4f0a3ca2>\u001b[0m in \u001b[0;36m<module>\u001b[0;34m()\u001b[0m\n\u001b[1;32m     11\u001b[0m   \u001b[0mdisplay\u001b[0m\u001b[0;34m(\u001b[0m\u001b[0mimage\u001b[0m\u001b[0;34m,\u001b[0m \u001b[0mbbox\u001b[0m\u001b[0;34m)\u001b[0m\u001b[0;34m\u001b[0m\u001b[0;34m\u001b[0m\u001b[0m\n\u001b[1;32m     12\u001b[0m   \u001b[0mrectifiedImage\u001b[0m \u001b[0;34m=\u001b[0m \u001b[0mnp\u001b[0m\u001b[0;34m.\u001b[0m\u001b[0muint8\u001b[0m\u001b[0;34m(\u001b[0m\u001b[0mrectifiedImage\u001b[0m\u001b[0;34m)\u001b[0m\u001b[0;34m\u001b[0m\u001b[0;34m\u001b[0m\u001b[0m\n\u001b[0;32m---> 13\u001b[0;31m   \u001b[0mcv2\u001b[0m\u001b[0;34m.\u001b[0m\u001b[0mimshow\u001b[0m\u001b[0;34m(\u001b[0m\u001b[0;34m\"Rectified QRCode\"\u001b[0m\u001b[0;34m,\u001b[0m \u001b[0mrectifiedImage\u001b[0m\u001b[0;34m)\u001b[0m\u001b[0;34m\u001b[0m\u001b[0;34m\u001b[0m\u001b[0m\n\u001b[0m\u001b[1;32m     14\u001b[0m \u001b[0;34m\u001b[0m\u001b[0m\n",
            "\u001b[0;32m/usr/local/lib/python3.6/dist-packages/google/colab/_import_hooks/_cv2.py\u001b[0m in \u001b[0;36mwrapped\u001b[0;34m(*args, **kwargs)\u001b[0m\n\u001b[1;32m     50\u001b[0m   \u001b[0;32mdef\u001b[0m \u001b[0mwrapped\u001b[0m\u001b[0;34m(\u001b[0m\u001b[0;34m*\u001b[0m\u001b[0margs\u001b[0m\u001b[0;34m,\u001b[0m \u001b[0;34m**\u001b[0m\u001b[0mkwargs\u001b[0m\u001b[0;34m)\u001b[0m\u001b[0;34m:\u001b[0m\u001b[0;34m\u001b[0m\u001b[0;34m\u001b[0m\u001b[0m\n\u001b[1;32m     51\u001b[0m     \u001b[0;32mif\u001b[0m \u001b[0;32mnot\u001b[0m \u001b[0mos\u001b[0m\u001b[0;34m.\u001b[0m\u001b[0menviron\u001b[0m\u001b[0;34m.\u001b[0m\u001b[0mget\u001b[0m\u001b[0;34m(\u001b[0m\u001b[0menv_var\u001b[0m\u001b[0;34m,\u001b[0m \u001b[0;32mFalse\u001b[0m\u001b[0;34m)\u001b[0m\u001b[0;34m:\u001b[0m\u001b[0;34m\u001b[0m\u001b[0;34m\u001b[0m\u001b[0m\n\u001b[0;32m---> 52\u001b[0;31m       \u001b[0;32mraise\u001b[0m \u001b[0mDisabledFunctionError\u001b[0m\u001b[0;34m(\u001b[0m\u001b[0mmessage\u001b[0m\u001b[0;34m,\u001b[0m \u001b[0mname\u001b[0m \u001b[0;32mor\u001b[0m \u001b[0mfunc\u001b[0m\u001b[0;34m.\u001b[0m\u001b[0m__name__\u001b[0m\u001b[0;34m)\u001b[0m\u001b[0;34m\u001b[0m\u001b[0;34m\u001b[0m\u001b[0m\n\u001b[0m\u001b[1;32m     53\u001b[0m     \u001b[0;32mreturn\u001b[0m \u001b[0mfunc\u001b[0m\u001b[0;34m(\u001b[0m\u001b[0;34m*\u001b[0m\u001b[0margs\u001b[0m\u001b[0;34m,\u001b[0m \u001b[0;34m**\u001b[0m\u001b[0mkwargs\u001b[0m\u001b[0;34m)\u001b[0m\u001b[0;34m\u001b[0m\u001b[0;34m\u001b[0m\u001b[0m\n\u001b[1;32m     54\u001b[0m \u001b[0;34m\u001b[0m\u001b[0m\n",
            "\u001b[0;31mDisabledFunctionError\u001b[0m: cv2.imshow() is disabled in Colab, because it causes Jupyter sessions\nto crash; see https://github.com/jupyter/notebook/issues/3935.\nAs a substitution, consider using\n  from google.colab.patches import cv2_imshow\n"
          ]
        }
      ]
    },
    {
      "cell_type": "code",
      "metadata": {
        "id": "QOJ76xq1EQGr",
        "colab_type": "code",
        "colab": {
          "base_uri": "https://localhost:8080/",
          "height": 34
        },
        "outputId": "ad348688-d48e-4c81-d801-63e26d72b27e"
      },
      "source": [
        "from multiprocessing import Process\n",
        "from time import sleep\n",
        "\n",
        "counter = 0\n",
        "\n",
        "def sub_task(string):\n",
        "  global counter\n",
        "  while counter < 10:\n",
        "    print(string, end='', flush=True)\n",
        "    counter += 1\n",
        "    sleep(0.01)\n",
        "\n",
        "def myfun():\n",
        "  Process(target=sub_task, args=('Ping', )).start()\n",
        "  Process(target=sub_task, args=('Pong', )).start()\n",
        "\n",
        "myfun()"
      ],
      "execution_count": 1,
      "outputs": [
        {
          "output_type": "stream",
          "text": [
            "PongPingPingPongPongPingPongPingPongPingPongPingPongPingPongPingPongPingPongPing"
          ],
          "name": "stdout"
        }
      ]
    },
    {
      "cell_type": "code",
      "metadata": {
        "id": "iB01hkjY_fJt",
        "colab_type": "code",
        "colab": {
          "base_uri": "https://localhost:8080/",
          "height": 316
        },
        "outputId": "3b913fa0-81f9-48af-bd6b-212b7a029f2d"
      },
      "source": [
        "from socket import socket, SOCK_STREAM, AF_INET\n",
        "from base64 import b64encode\n",
        "from json import dumps\n",
        "from threading import Thread\n",
        "\n",
        "\n",
        "\n",
        "def load():\n",
        "  class FileTransferHandler(Thread):\n",
        "\n",
        "      def __init__(self, cclient):\n",
        "          super().__init__()\n",
        "          self.cclient = cclient\n",
        "\n",
        "      def run(self):\n",
        "          my_dict = {}\n",
        "          my_dict['filename'] = 'guido.jpg'\n",
        "          # JSON是纯文本不能携带二进制数据\n",
        "          # 所以图片的二进制数据要处理成base64编码\n",
        "          my_dict['filedata'] = data\n",
        "          # 通过dumps函数将字典处理成JSON字符串\n",
        "          json_str = dumps(my_dict)\n",
        "          # 发送JSON字符串\n",
        "          self.cclient.send(json_str.encode('utf-8'))\n",
        "          self.cclient.close()\n",
        "\n",
        "  # 1.创建套接字对象并指定使用哪种传输服务\n",
        "  server = socket()\n",
        "  # 2.绑定IP地址和端口(区分不同的服务)\n",
        "  server.bind(('192.168.1.2', 5566))\n",
        "  # 3.开启监听 - 监听客户端连接到服务器\n",
        "  server.listen(512)\n",
        "  print('服务器启动开始监听...')\n",
        "  with open('guido.jpg', 'rb') as f:\n",
        "      # 将二进制数据处理成base64再解码成字符串\n",
        "      data = b64encode(f.read()).decode('utf-8')\n",
        "  while True:\n",
        "      client, addr = server.accept()\n",
        "      # 启动一个线程来处理客户端的请求\n",
        "      FileTransferHandler(client).start()\n",
        "load()"
      ],
      "execution_count": 5,
      "outputs": [
        {
          "output_type": "error",
          "ename": "OSError",
          "evalue": "ignored",
          "traceback": [
            "\u001b[0;31m---------------------------------------------------------------------------\u001b[0m",
            "\u001b[0;31mOSError\u001b[0m                                   Traceback (most recent call last)",
            "\u001b[0;32m<ipython-input-5-c7b26abd55a1>\u001b[0m in \u001b[0;36m<module>\u001b[0;34m()\u001b[0m\n\u001b[1;32m     39\u001b[0m       \u001b[0;31m# 启动一个线程来处理客户端的请求\u001b[0m\u001b[0;34m\u001b[0m\u001b[0;34m\u001b[0m\u001b[0;34m\u001b[0m\u001b[0m\n\u001b[1;32m     40\u001b[0m       \u001b[0mFileTransferHandler\u001b[0m\u001b[0;34m(\u001b[0m\u001b[0mclient\u001b[0m\u001b[0;34m)\u001b[0m\u001b[0;34m.\u001b[0m\u001b[0mstart\u001b[0m\u001b[0;34m(\u001b[0m\u001b[0;34m)\u001b[0m\u001b[0;34m\u001b[0m\u001b[0;34m\u001b[0m\u001b[0m\n\u001b[0;32m---> 41\u001b[0;31m \u001b[0mload\u001b[0m\u001b[0;34m(\u001b[0m\u001b[0;34m)\u001b[0m\u001b[0;34m\u001b[0m\u001b[0;34m\u001b[0m\u001b[0m\n\u001b[0m",
            "\u001b[0;32m<ipython-input-5-c7b26abd55a1>\u001b[0m in \u001b[0;36mload\u001b[0;34m()\u001b[0m\n\u001b[1;32m     28\u001b[0m   \u001b[0mserver\u001b[0m \u001b[0;34m=\u001b[0m \u001b[0msocket\u001b[0m\u001b[0;34m(\u001b[0m\u001b[0;34m)\u001b[0m\u001b[0;34m\u001b[0m\u001b[0;34m\u001b[0m\u001b[0m\n\u001b[1;32m     29\u001b[0m   \u001b[0;31m# 2.绑定IP地址和端口(区分不同的服务)\u001b[0m\u001b[0;34m\u001b[0m\u001b[0;34m\u001b[0m\u001b[0;34m\u001b[0m\u001b[0m\n\u001b[0;32m---> 30\u001b[0;31m   \u001b[0mserver\u001b[0m\u001b[0;34m.\u001b[0m\u001b[0mbind\u001b[0m\u001b[0;34m(\u001b[0m\u001b[0;34m(\u001b[0m\u001b[0;34m'192.168.1.2'\u001b[0m\u001b[0;34m,\u001b[0m \u001b[0;36m5566\u001b[0m\u001b[0;34m)\u001b[0m\u001b[0;34m)\u001b[0m\u001b[0;34m\u001b[0m\u001b[0;34m\u001b[0m\u001b[0m\n\u001b[0m\u001b[1;32m     31\u001b[0m   \u001b[0;31m# 3.开启监听 - 监听客户端连接到服务器\u001b[0m\u001b[0;34m\u001b[0m\u001b[0;34m\u001b[0m\u001b[0;34m\u001b[0m\u001b[0m\n\u001b[1;32m     32\u001b[0m   \u001b[0mserver\u001b[0m\u001b[0;34m.\u001b[0m\u001b[0mlisten\u001b[0m\u001b[0;34m(\u001b[0m\u001b[0;36m512\u001b[0m\u001b[0;34m)\u001b[0m\u001b[0;34m\u001b[0m\u001b[0;34m\u001b[0m\u001b[0m\n",
            "\u001b[0;31mOSError\u001b[0m: [Errno 99] Cannot assign requested address"
          ]
        }
      ]
    },
    {
      "cell_type": "code",
      "metadata": {
        "id": "sACTM579E-Ag",
        "colab_type": "code",
        "colab": {
          "base_uri": "https://localhost:8080/",
          "height": 102
        },
        "outputId": "2a0fe82a-172a-40d9-c1bd-57590f67830f"
      },
      "source": [
        "import re\n",
        "\n",
        "phone_numbers = [\n",
        "    \"(123) 456-7890\",\n",
        "    \"1234567890\",\n",
        "    \"123.456.7890\",\n",
        "    \"+1 123 456-7890\"\n",
        "]\n",
        "\n",
        "new_numbers = []\n",
        "R = re.compile(r\"\\d\")                         \n",
        "\n",
        "for number in phone_numbers:                  \n",
        "  digits = R.findall(number)\n",
        "  print(digits)\n",
        "  area_code = \"\".join(digits[-10:-7])         \n",
        "  first_3 = \"\".join(digits[-7:-4])\n",
        "  last_4 = \"\".join(digits[-4:len(digits)])\n",
        "  pretty_format = \"({}) {}-{}\".format(area_code,first_3,last_4)\n",
        "  new_numbers.append(pretty_format)\n",
        "\n",
        "print(new_numbers)          "
      ],
      "execution_count": 16,
      "outputs": [
        {
          "output_type": "stream",
          "text": [
            "['1', '2', '3', '4', '5', '6', '7', '8', '9', '0']\n",
            "['1', '2', '3', '4', '5', '6', '7', '8', '9', '0']\n",
            "['1', '2', '3', '4', '5', '6', '7', '8', '9', '0']\n",
            "['1', '1', '2', '3', '4', '5', '6', '7', '8', '9', '0']\n",
            "['(123) 456-7890', '(123) 456-7890', '(123) 456-7890', '(123) 456-7890']\n"
          ],
          "name": "stdout"
        }
      ]
    },
    {
      "cell_type": "code",
      "metadata": {
        "id": "nApLefqZGKnS",
        "colab_type": "code",
        "colab": {
          "base_uri": "https://localhost:8080/",
          "height": 34
        },
        "outputId": "82e49d50-1e1f-4ccf-e1b3-fc9a332c476b"
      },
      "source": [
        "import re\n",
        "\n",
        "class PhoneFormatter:                              \n",
        "  def __init__(self):                              \n",
        "    self.r = re.compile(r\"\\d\")\n",
        "\n",
        "  def pretty_format(self, phone_number):           \n",
        "    phone_numbers = self.r.findall(phone_number)\n",
        "    area_code = \"\".join(phone_numbers[-10:-7])     \n",
        "    first_3 = \"\".join(phone_numbers[-7:-4])\n",
        "    last_4 = \"\".join(phone_numbers[-4:len(phone_numbers)])\n",
        "    return f\"({area_code}) {first_3}-{last_4}\"\n",
        "\n",
        "phone_numbers = [                                   \n",
        "  \"(123) 456-7890\",\n",
        "  \"1234567890\",\n",
        "  \"123.456.7890\",\n",
        "  \"+1 123 456-7890\"\n",
        "]\n",
        "\n",
        "P = PhoneFormatter ()                               \n",
        "print(list(map(P.pretty_format, phone_numbers)))    "
      ],
      "execution_count": 18,
      "outputs": [
        {
          "output_type": "stream",
          "text": [
            "['(123) 456-7890', '(123) 456-7890', '(123) 456-7890', '(123) 456-7890']\n"
          ],
          "name": "stdout"
        }
      ]
    },
    {
      "cell_type": "code",
      "metadata": {
        "id": "nPiJ2RpzHXms",
        "colab_type": "code",
        "colab": {}
      },
      "source": [
        "from datetime import date\n",
        "\n",
        "def days_between(start, stop)"
      ],
      "execution_count": 0,
      "outputs": []
    }
  ]
}