{
  "nbformat": 4,
  "nbformat_minor": 0,
  "metadata": {
    "colab": {
      "name": "Welcome To Colaboratory",
      "provenance": [],
      "collapsed_sections": [],
      "toc_visible": true,
      "include_colab_link": true
    },
    "kernelspec": {
      "display_name": "Python 3",
      "name": "python3"
    }
  },
  "cells": [
    {
      "cell_type": "markdown",
      "metadata": {
        "id": "view-in-github",
        "colab_type": "text"
      },
      "source": [
        "<a href=\"https://colab.research.google.com/github/pavanto/python-1/blob/master/Welcome_To_Colaboratory.ipynb\" target=\"_parent\"><img src=\"https://colab.research.google.com/assets/colab-badge.svg\" alt=\"Open In Colab\"/></a>"
      ]
    },
    {
      "cell_type": "markdown",
      "metadata": {
        "colab_type": "text",
        "id": "5fCEDCU_qrC0"
      },
      "source": [
        "<p><img alt=\"Colaboratory logo\" height=\"45px\" src=\"/img/colab_favicon.ico\" align=\"left\" hspace=\"10px\" vspace=\"0px\"></p>\n",
        "\n",
        "<h1>What is Colaboratory?</h1>\n",
        "\n",
        "Colaboratory, or \"Colab\" for short, allows you to write and execute Python in your browser, with \n",
        "- Zero configuration required\n",
        "- Free access to GPUs\n",
        "- Easy sharing\n",
        "\n",
        "Whether you're a **student**, a **data scientist** or an **AI researcher**, Colab can make your work easier. Watch [Introduction to Colab](https://www.youtube.com/watch?v=inN8seMm7UI) to learn more, or just get started below!"
      ]
    },
    {
      "cell_type": "markdown",
      "metadata": {
        "id": "mkzd_lgWutKE",
        "colab_type": "text"
      },
      "source": [
        " "
      ]
    },
    {
      "cell_type": "code",
      "metadata": {
        "id": "LM-jM6fruwex",
        "colab_type": "code",
        "colab": {}
      },
      "source": [
        "#from google.colab import files\n",
        "#uploaded = files.upload()\n",
        "\n",
        "def load():\n",
        "  try:\n",
        "    f = open('dictionary.txt', 'r', encoding = 'utf-8')\n",
        "    print(f.read())\n",
        "  except FileNotFoundError:\n",
        "    print(\"FileNotFound\")\n",
        "  finally:\n",
        "    if f:\n",
        "      f.close\n",
        "\n",
        "load()"
      ],
      "execution_count": 0,
      "outputs": []
    },
    {
      "cell_type": "code",
      "metadata": {
        "id": "79WzNwwnxyGP",
        "colab_type": "code",
        "colab": {}
      },
      "source": [
        ""
      ],
      "execution_count": 0,
      "outputs": []
    },
    {
      "cell_type": "code",
      "metadata": {
        "id": "M5xvM-R7wN0g",
        "colab_type": "code",
        "outputId": "bdbe8516-49d1-4989-d91f-3efe4926f185",
        "colab": {
          "base_uri": "https://localhost:8080/",
          "height": 34
        }
      },
      "source": [
        "from math import sqrt\n",
        "\n",
        "\n",
        "def is_prime(n):\n",
        "    \"\"\"判断素数的函数\"\"\"\n",
        "    assert n > 0\n",
        "    for factor in range(2, int(sqrt(n)) + 1):\n",
        "        if n % factor == 0:\n",
        "            return False\n",
        "    return True if n != 1 else False\n",
        "\n",
        "\n",
        "def load():\n",
        "    filenames = ('a.txt', 'b.txt', 'c.txt')\n",
        "    fs_list = []\n",
        "    try:\n",
        "        for filename in filenames:\n",
        "            fs_list.append(open(filename, 'w', encoding='utf-8'))\n",
        "        for number in range(1, 10000):\n",
        "            if is_prime(number):\n",
        "                if number < 100:\n",
        "                    fs_list[0].write(str(number) + '\\n')\n",
        "                elif number < 1000:\n",
        "                    fs_list[1].write(str(number) + '\\n')\n",
        "                else:\n",
        "                    fs_list[2].write(str(number) + '\\n')\n",
        "    except IOError as ex:\n",
        "        print(ex)\n",
        "        print('An error occurred while writing the file!')\n",
        "    finally:\n",
        "        for fs in fs_list:\n",
        "            fs.close()\n",
        "    print('Operation completed!')\n",
        "\n",
        "\n",
        "load()"
      ],
      "execution_count": 0,
      "outputs": [
        {
          "output_type": "stream",
          "text": [
            "Operation completed!\n"
          ],
          "name": "stdout"
        }
      ]
    },
    {
      "cell_type": "code",
      "metadata": {
        "id": "FyNuVlnSxzUa",
        "colab_type": "code",
        "outputId": "48b7bffb-99f4-428f-bf4e-78c8e97b9efd",
        "colab": {
          "base_uri": "https://localhost:8080/",
          "height": 316
        }
      },
      "source": [
        "import requests\n",
        "import json\n",
        "\n",
        "def load():\n",
        "  resp = requests.get('https://www.webs.com/themes')\n",
        "  data_model = json.loads(resp.text)\n",
        "  for news in data_model['']:\n",
        "    print(news['title'])\n",
        "\n",
        "load()"
      ],
      "execution_count": 0,
      "outputs": [
        {
          "output_type": "error",
          "ename": "TypeError",
          "evalue": "ignored",
          "traceback": [
            "\u001b[0;31m---------------------------------------------------------------------------\u001b[0m",
            "\u001b[0;31mTypeError\u001b[0m                                 Traceback (most recent call last)",
            "\u001b[0;32m<ipython-input-8-3d09e5dabde1>\u001b[0m in \u001b[0;36m<module>\u001b[0;34m()\u001b[0m\n\u001b[1;32m      8\u001b[0m     \u001b[0mprint\u001b[0m\u001b[0;34m(\u001b[0m\u001b[0mnews\u001b[0m\u001b[0;34m[\u001b[0m\u001b[0;34m'title'\u001b[0m\u001b[0;34m]\u001b[0m\u001b[0;34m)\u001b[0m\u001b[0;34m\u001b[0m\u001b[0;34m\u001b[0m\u001b[0m\n\u001b[1;32m      9\u001b[0m \u001b[0;34m\u001b[0m\u001b[0m\n\u001b[0;32m---> 10\u001b[0;31m \u001b[0mload\u001b[0m\u001b[0;34m(\u001b[0m\u001b[0;34m)\u001b[0m\u001b[0;34m\u001b[0m\u001b[0;34m\u001b[0m\u001b[0m\n\u001b[0m",
            "\u001b[0;32m<ipython-input-8-3d09e5dabde1>\u001b[0m in \u001b[0;36mload\u001b[0;34m()\u001b[0m\n\u001b[1;32m      6\u001b[0m   \u001b[0mdata_model\u001b[0m \u001b[0;34m=\u001b[0m \u001b[0mjson\u001b[0m\u001b[0;34m.\u001b[0m\u001b[0mloads\u001b[0m\u001b[0;34m(\u001b[0m\u001b[0mresp\u001b[0m\u001b[0;34m.\u001b[0m\u001b[0mtext\u001b[0m\u001b[0;34m)\u001b[0m\u001b[0;34m\u001b[0m\u001b[0;34m\u001b[0m\u001b[0m\n\u001b[1;32m      7\u001b[0m   \u001b[0;32mfor\u001b[0m \u001b[0mnews\u001b[0m \u001b[0;32min\u001b[0m \u001b[0mdata_model\u001b[0m\u001b[0;34m:\u001b[0m\u001b[0;34m\u001b[0m\u001b[0;34m\u001b[0m\u001b[0m\n\u001b[0;32m----> 8\u001b[0;31m     \u001b[0mprint\u001b[0m\u001b[0;34m(\u001b[0m\u001b[0mnews\u001b[0m\u001b[0;34m[\u001b[0m\u001b[0;34m'title'\u001b[0m\u001b[0;34m]\u001b[0m\u001b[0;34m)\u001b[0m\u001b[0;34m\u001b[0m\u001b[0;34m\u001b[0m\u001b[0m\n\u001b[0m\u001b[1;32m      9\u001b[0m \u001b[0;34m\u001b[0m\u001b[0m\n\u001b[1;32m     10\u001b[0m \u001b[0mload\u001b[0m\u001b[0;34m(\u001b[0m\u001b[0;34m)\u001b[0m\u001b[0;34m\u001b[0m\u001b[0;34m\u001b[0m\u001b[0m\n",
            "\u001b[0;31mTypeError\u001b[0m: string indices must be integers"
          ]
        }
      ]
    },
    {
      "cell_type": "code",
      "metadata": {
        "id": "Uc4Q77Ua5hDV",
        "colab_type": "code",
        "outputId": "03a9e77c-c2c3-41b2-81ea-b9183860a1f3",
        "colab": {
          "base_uri": "https://localhost:8080/",
          "height": 34
        }
      },
      "source": [
        "nums = [2, 7, 11, 15]\n",
        "target = 26\n",
        "leng = len(nums)\n",
        "for i, num in enumerate(nums):\n",
        "  for j in range(i+1, leng):\n",
        "    if num + nums[j] == target:\n",
        "      print(i, j)\n",
        "\n"
      ],
      "execution_count": 0,
      "outputs": [
        {
          "output_type": "stream",
          "text": [
            "2 3\n"
          ],
          "name": "stdout"
        }
      ]
    },
    {
      "cell_type": "code",
      "metadata": {
        "id": "JZkGe4vz8y2l",
        "colab_type": "code",
        "outputId": "b8f07520-50d9-4131-a633-62803c56c272",
        "colab": {
          "base_uri": "https://localhost:8080/",
          "height": 612
        }
      },
      "source": [
        "from collections import deque \n",
        "\n",
        "# Definition for singly-linked list.\n",
        "class ListNode:\n",
        "  def __init__(self, x):\n",
        "    self.val = x\n",
        "    self.next = None\n",
        "\n",
        "class Solution:\n",
        " # Takes ListNode integer representation and returns an integer\n",
        " def decodeNumber(node: ListNode) -> int:\n",
        "         d = deque()\n",
        "     \n",
        "         # For each digit, append on the left of the deque to build the number\n",
        "         # (appening on left to account for digits arriving in reverse order)\n",
        "         while node != None:\n",
        "             d.appendleft(str(node.val))\n",
        "             print(f\"decodeStr: {d}\")\n",
        "             node = node.next\n",
        "     \n",
        "         # Join deque into integer and return\n",
        "         num = ''.join(list(d))\n",
        "         print(f\"decodeNum: {num}\")\n",
        "         return int(num)\n",
        " \n",
        " # Takes an integer and returns a ListNode integer representation             \n",
        " def encodeNumber(num: int) -> ListNode:\n",
        "     \n",
        "     # Let's build a deque from the given integer\n",
        "     d = deque(str(num))\n",
        "     print(f\"encodeStr: {d}\")\n",
        " \n",
        "     # Deepest value is the most significant digit\n",
        "     node = ListNode(int(d.popleft()))\n",
        " \n",
        "     # As long as there are digits, add them (from left) as a new node\n",
        "     while len(d) > 0:\n",
        "         newNode = ListNode(int(d.popleft()))\n",
        "         newNode.next = node\n",
        "         node = newNode\n",
        " \n",
        "     return node\n",
        " \n",
        " def addTwoNumbers(self, l1: ListNode, l2: ListNode) -> ListNode:\n",
        "     \n",
        "     # Decode the two given numbers for a resulting integer\n",
        "     resultNum = Solution.decodeNumber(l1) + Solution.decodeNumber(l2)\n",
        "     \n",
        "     # Encode the resulting integer to the given format\n",
        "     return Solution.encodeNumber(resultNum)\n",
        "\n",
        "def list2link(l):\n",
        "    if len(l) == 0:\n",
        "        return None\n",
        "    ret_tail = ret_head = ListNode(l[0])\n",
        "    for val in l[1:]:\n",
        "        tmp = ListNode(val)\n",
        "        ret_tail.next = tmp\n",
        "        ret_tail = ret_tail.next\n",
        "    return ret_head\n",
        "\n",
        "\n",
        "def print_link(link):\n",
        "    while link is not None:\n",
        "        print (\"->%d\" % link.val,)\n",
        "        link = link.next\n",
        "    print (\"\\n\")\n",
        "\n",
        "\n",
        "solution = Solution()\n",
        "print_link(solution.addTwoNumbers(list2link([2, 7, 8, 9, 9, 9]), list2link([3, 7, 5])))\n",
        "print_link(solution.addTwoNumbers(list2link([2, 4, 3]), list2link([5, 6, 4])))"
      ],
      "execution_count": 0,
      "outputs": [
        {
          "output_type": "stream",
          "text": [
            "decodeStr: deque(['2'])\n",
            "decodeStr: deque(['7', '2'])\n",
            "decodeStr: deque(['8', '7', '2'])\n",
            "decodeStr: deque(['9', '8', '7', '2'])\n",
            "decodeStr: deque(['9', '9', '8', '7', '2'])\n",
            "decodeStr: deque(['9', '9', '9', '8', '7', '2'])\n",
            "decodeNum: 999872\n",
            "decodeStr: deque(['3'])\n",
            "decodeStr: deque(['7', '3'])\n",
            "decodeStr: deque(['5', '7', '3'])\n",
            "decodeNum: 573\n",
            "encodeStr: deque(['1', '0', '0', '0', '4', '4', '5'])\n",
            "->5\n",
            "->4\n",
            "->4\n",
            "->0\n",
            "->0\n",
            "->0\n",
            "->1\n",
            "\n",
            "\n",
            "decodeStr: deque(['2'])\n",
            "decodeStr: deque(['4', '2'])\n",
            "decodeStr: deque(['3', '4', '2'])\n",
            "decodeNum: 342\n",
            "decodeStr: deque(['5'])\n",
            "decodeStr: deque(['6', '5'])\n",
            "decodeStr: deque(['4', '6', '5'])\n",
            "decodeNum: 465\n",
            "encodeStr: deque(['8', '0', '7'])\n",
            "->7\n",
            "->0\n",
            "->8\n",
            "\n",
            "\n"
          ],
          "name": "stdout"
        }
      ]
    },
    {
      "cell_type": "code",
      "metadata": {
        "id": "_rX2QZ_ohGgx",
        "colab_type": "code",
        "outputId": "610aab1b-d51d-4c89-baf6-8a97faf3fccf",
        "colab": {
          "base_uri": "https://localhost:8080/",
          "height": 34
        }
      },
      "source": [
        "stri = \"abcabcbb\"\n",
        "\n",
        "def lengthOfLongestSubstring(s):\n",
        "  if len(s) == 0:\n",
        "    return 0\n",
        "\n",
        "  result = 1\n",
        "\n",
        "  for i in range(len(s)):\n",
        "    for j in range(i + 1, len(s)):\n",
        "      if s[j] in s[i:j]:\n",
        "        break\n",
        "      else :\n",
        "        result = max(result, len(s[i:j+1]))\n",
        "\n",
        "  return result\n",
        "\n",
        "\n",
        "print(lengthOfLongestSubstring(stri))"
      ],
      "execution_count": 0,
      "outputs": [
        {
          "output_type": "stream",
          "text": [
            "3\n"
          ],
          "name": "stdout"
        }
      ]
    },
    {
      "cell_type": "code",
      "metadata": {
        "id": "S81PSo4X6cQD",
        "colab_type": "code",
        "outputId": "63f62be0-e1f2-42fc-c180-d89955013690",
        "colab": {
          "base_uri": "https://localhost:8080/",
          "height": 68
        }
      },
      "source": [
        "xs = [()]\n",
        "res = [False]*2\n",
        "print(xs)\n",
        "print(res)\n",
        "if xs:\n",
        "  res[0] = True\n",
        "if xs[0]:\n",
        "  res[1] = True\n",
        "\n",
        "print(res)"
      ],
      "execution_count": 0,
      "outputs": [
        {
          "output_type": "stream",
          "text": [
            "[()]\n",
            "[False, False]\n",
            "[True, False]\n"
          ],
          "name": "stdout"
        }
      ]
    },
    {
      "cell_type": "code",
      "metadata": {
        "id": "Vgo0TstCKWMD",
        "colab_type": "code",
        "outputId": "740c9694-1947-4a04-fcdd-3ffe001e1ec9",
        "colab": {
          "base_uri": "https://localhost:8080/",
          "height": 51
        }
      },
      "source": [
        "num = int(input())\n",
        "\n",
        "#120\n",
        "res = 0\n",
        "while num:\n",
        "  res = res*10 + num % 10\n",
        "  num = num//10\n",
        "\n",
        "print(res)\n",
        "\n",
        "\n"
      ],
      "execution_count": 0,
      "outputs": [
        {
          "output_type": "stream",
          "text": [
            "59863\n",
            "36895\n"
          ],
          "name": "stdout"
        }
      ]
    },
    {
      "cell_type": "code",
      "metadata": {
        "id": "us8otA0uLpjp",
        "colab_type": "code",
        "outputId": "3a16f20e-68b9-44eb-f683-fcb76a9242a9",
        "colab": {
          "base_uri": "https://localhost:8080/",
          "height": 833
        }
      },
      "source": [
        "def permute(nums):\n",
        "  result_perms = [[]]\n",
        "  for n in nums:\n",
        "    new_perms = []\n",
        "    #print(len(result_perms))\n",
        "    for perm in result_perms:\n",
        "      for i in range(len(perm)+1):\n",
        "        print(\"i\", i)\n",
        "        print(\"(perm[:i]\", perm[:i])\n",
        "        print(\"([n]\", [n])\n",
        "        print(\"(perm[i:]\", perm[i:])\n",
        "        new_perms.append(perm[:i] + [n] + perm[i:])\n",
        "        print(\"new perms\", new_perms)\n",
        "        result_perms = new_perms\n",
        "  return result_perms\n",
        "\n",
        "my_nums = [1,2,3]\n",
        "print(\"Original Cofllection: \",my_nums)\n",
        "print(\"Collection of distinct numbers:\\n\",permute(my_nums))"
      ],
      "execution_count": 0,
      "outputs": [
        {
          "output_type": "stream",
          "text": [
            "Original Cofllection:  [1, 2, 3]\n",
            "i 0\n",
            "(perm[:i] []\n",
            "([n] [1]\n",
            "(perm[i:] []\n",
            "new perms [[1]]\n",
            "i 0\n",
            "(perm[:i] []\n",
            "([n] [2]\n",
            "(perm[i:] [1]\n",
            "new perms [[2, 1]]\n",
            "i 1\n",
            "(perm[:i] [1]\n",
            "([n] [2]\n",
            "(perm[i:] []\n",
            "new perms [[2, 1], [1, 2]]\n",
            "i 0\n",
            "(perm[:i] []\n",
            "([n] [3]\n",
            "(perm[i:] [2, 1]\n",
            "new perms [[3, 2, 1]]\n",
            "i 1\n",
            "(perm[:i] [2]\n",
            "([n] [3]\n",
            "(perm[i:] [1]\n",
            "new perms [[3, 2, 1], [2, 3, 1]]\n",
            "i 2\n",
            "(perm[:i] [2, 1]\n",
            "([n] [3]\n",
            "(perm[i:] []\n",
            "new perms [[3, 2, 1], [2, 3, 1], [2, 1, 3]]\n",
            "i 0\n",
            "(perm[:i] []\n",
            "([n] [3]\n",
            "(perm[i:] [1, 2]\n",
            "new perms [[3, 2, 1], [2, 3, 1], [2, 1, 3], [3, 1, 2]]\n",
            "i 1\n",
            "(perm[:i] [1]\n",
            "([n] [3]\n",
            "(perm[i:] [2]\n",
            "new perms [[3, 2, 1], [2, 3, 1], [2, 1, 3], [3, 1, 2], [1, 3, 2]]\n",
            "i 2\n",
            "(perm[:i] [1, 2]\n",
            "([n] [3]\n",
            "(perm[i:] []\n",
            "new perms [[3, 2, 1], [2, 3, 1], [2, 1, 3], [3, 1, 2], [1, 3, 2], [1, 2, 3]]\n",
            "Collection of distinct numbers:\n",
            " [[3, 2, 1], [2, 3, 1], [2, 1, 3], [3, 1, 2], [1, 3, 2], [1, 2, 3]]\n"
          ],
          "name": "stdout"
        }
      ]
    },
    {
      "cell_type": "code",
      "metadata": {
        "id": "CLsmwM8ERCbK",
        "colab_type": "code",
        "outputId": "23cb2c08-cc97-46a9-b94a-dc5783f6dc92",
        "colab": {
          "base_uri": "https://localhost:8080/",
          "height": 187
        }
      },
      "source": [
        "import calendar\n",
        "y = int(input(\"Input the year : \"))\n",
        "m = int(input(\"Input the month : \"))\n",
        "print(calendar.month(y, m))"
      ],
      "execution_count": 0,
      "outputs": [
        {
          "output_type": "stream",
          "text": [
            "Input the year : 2019\n",
            "Input the month : 08\n",
            "    August 2019\n",
            "Mo Tu We Th Fr Sa Su\n",
            "          1  2  3  4\n",
            " 5  6  7  8  9 10 11\n",
            "12 13 14 15 16 17 18\n",
            "19 20 21 22 23 24 25\n",
            "26 27 28 29 30 31\n",
            "\n"
          ],
          "name": "stdout"
        }
      ]
    },
    {
      "cell_type": "code",
      "metadata": {
        "id": "NvOif6XFSi7-",
        "colab_type": "code",
        "outputId": "4aed4c46-5fce-412d-e0fb-f1224f9b0c8d",
        "colab": {
          "base_uri": "https://localhost:8080/",
          "height": 34
        }
      },
      "source": [
        "numlist = [1,4,6,7,4]\n",
        "\n",
        "print(numlist.count(4))\n",
        "\n"
      ],
      "execution_count": 0,
      "outputs": [
        {
          "output_type": "stream",
          "text": [
            "2\n"
          ],
          "name": "stdout"
        }
      ]
    },
    {
      "cell_type": "code",
      "metadata": {
        "id": "xkcTaFDtWHS1",
        "colab_type": "code",
        "colab": {}
      },
      "source": [
        "import cProfile\n",
        "def sum():\n",
        "    for n in range(10000):\n",
        "      num = 15461313*n \n",
        "      print(num) \n",
        "cProfile.run('sum()')"
      ],
      "execution_count": 0,
      "outputs": []
    },
    {
      "cell_type": "code",
      "metadata": {
        "id": "a6owvayjWzlb",
        "colab_type": "code",
        "outputId": "0fa9962c-e5c3-479b-c909-2ae300f49aff",
        "colab": {
          "base_uri": "https://localhost:8080/",
          "height": 156
        }
      },
      "source": [
        "import os\n",
        "# Access all environment variables \n",
        "print('*----------------------------------*')\n",
        "print(os.environ)\n",
        "print('*----------------------------------*')\n",
        "# Access a particular environment variable \n",
        "print(os.environ['HOME'])\n",
        "print('*----------------------------------*')\n",
        "print(os.environ['PATH'])\n",
        "print('*----------------------------------*')"
      ],
      "execution_count": 0,
      "outputs": [
        {
          "output_type": "stream",
          "text": [
            "*----------------------------------*\n",
            "environ({'ENV': '/root/.bashrc', 'GCS_READ_CACHE_BLOCK_SIZE_MB': '16', 'CLOUDSDK_CONFIG': '/content/.config', 'CUDA_VERSION': '10.1.243', 'PATH': '/usr/local/nvidia/bin:/usr/local/cuda/bin:/usr/local/sbin:/usr/local/bin:/usr/sbin:/usr/bin:/sbin:/bin:/tools/node/bin:/tools/google-cloud-sdk/bin:/opt/bin', 'HOME': '/root', 'LD_LIBRARY_PATH': '/usr/local/nvidia/lib:/usr/local/nvidia/lib64', 'LANG': 'en_US.UTF-8', 'SHELL': '/bin/bash', 'LIBRARY_PATH': '/usr/local/cuda/lib64/stubs', 'CUDA_PKG_VERSION': '10-1=10.1.243-1', 'SHLVL': '1', 'GCE_METADATA_TIMEOUT': '0', 'NCCL_VERSION': '2.4.8', 'NVIDIA_VISIBLE_DEVICES': 'all', 'TF_FORCE_GPU_ALLOW_GROWTH': 'true', 'DEBIAN_FRONTEND': 'noninteractive', 'CUDNN_VERSION': '7.6.5.32', 'LAST_FORCED_REBUILD': '20200316', 'JPY_PARENT_PID': '18', 'PYTHONPATH': '/env/python', 'DATALAB_SETTINGS_OVERRIDES': '{\"kernelManagerProxyPort\":6000,\"kernelManagerProxyHost\":\"172.28.0.3\",\"jupyterArgs\":[\"--ip=\\\\\"172.28.0.2\\\\\"\"]}', 'NO_GCE_CHECK': 'True', 'GLIBCXX_FORCE_NEW': '1', 'NVIDIA_DRIVER_CAPABILITIES': 'compute,utility', '_': '/tools/node/bin/node', 'LD_PRELOAD': '/usr/lib/x86_64-linux-gnu/libtcmalloc.so.4', 'NVIDIA_REQUIRE_CUDA': 'cuda>=10.1 brand=tesla,driver>=384,driver<385 brand=tesla,driver>=396,driver<397 brand=tesla,driver>=410,driver<411', 'OLDPWD': '/', 'HOSTNAME': 'eb9f11481fa1', 'COLAB_GPU': '0', 'PWD': '/', 'GLIBCPP_FORCE_NEW': '1', 'PYTHONWARNINGS': 'ignore:::pip._internal.cli.base_command', 'TBE_CREDS_ADDR': '172.28.0.1:8008', 'TERM': 'xterm-color', 'CLICOLOR': '1', 'PAGER': 'cat', 'GIT_PAGER': 'cat', 'MPLBACKEND': 'module://ipykernel.pylab.backend_inline'})\n",
            "*----------------------------------*\n",
            "/root\n",
            "*----------------------------------*\n",
            "/usr/local/nvidia/bin:/usr/local/cuda/bin:/usr/local/sbin:/usr/local/bin:/usr/sbin:/usr/bin:/sbin:/bin:/tools/node/bin:/tools/google-cloud-sdk/bin:/opt/bin\n",
            "*----------------------------------*\n"
          ],
          "name": "stdout"
        }
      ]
    },
    {
      "cell_type": "code",
      "metadata": {
        "id": "Nx0qF0tOW7vu",
        "colab_type": "code",
        "outputId": "ca1592f1-6ac4-4662-9fc6-7c702571fa6b",
        "colab": {
          "base_uri": "https://localhost:8080/",
          "height": 34
        }
      },
      "source": [
        "import socket\n",
        "print([l for l in ([ip for ip in socket.gethostbyname_ex(socket.gethostname())[2] \n",
        "if not ip.startswith(\"127.\")][:1], [[(s.connect(('8.8.8.8', 53)), \n",
        "s.getsockname()[0], s.close()) for s in [socket.socket(socket.AF_INET, \n",
        "socket.SOCK_DGRAM)]][0][1]]) if l][0][0])"
      ],
      "execution_count": 0,
      "outputs": [
        {
          "output_type": "stream",
          "text": [
            "172.28.0.2\n"
          ],
          "name": "stdout"
        }
      ]
    },
    {
      "cell_type": "code",
      "metadata": {
        "id": "eu4Ec_PtXg_b",
        "colab_type": "code",
        "outputId": "5cc62cb0-8a3f-49d3-9272-aaff02f2fcf4",
        "colab": {
          "base_uri": "https://localhost:8080/",
          "height": 34
        }
      },
      "source": [
        "num = 5245\n",
        "\n",
        "res = 0\n",
        "while num:\n",
        "  res = res + num % 10\n",
        "  num = num // 10\n",
        "\n",
        "print(res)"
      ],
      "execution_count": 0,
      "outputs": [
        {
          "output_type": "stream",
          "text": [
            "16\n"
          ],
          "name": "stdout"
        }
      ]
    },
    {
      "cell_type": "code",
      "metadata": {
        "id": "aQylQ7GsYqm9",
        "colab_type": "code",
        "outputId": "b5cb9273-7a35-4220-999e-653261b47f68",
        "colab": {
          "base_uri": "https://localhost:8080/",
          "height": 102
        }
      },
      "source": [
        "import sys\n",
        "str1 = \"one\"\n",
        "str2 = \"four\"\n",
        "str3 = \"three\"\n",
        "print()\n",
        "print(\"Memory size of '\"+str1+\"' = \"+str(sys.getsizeof(str1))+ \" bytes\")\n",
        "print(\"Memory size of '\"+str2+\"' = \"+str(sys.getsizeof(str2))+ \" bytes\")\n",
        "print(\"Memory size of '\"+str3+\"' = \"+str(sys.getsizeof(str3))+ \" bytes\")\n",
        "print()"
      ],
      "execution_count": 0,
      "outputs": [
        {
          "output_type": "stream",
          "text": [
            "\n",
            "Memory size of 'one' = 52 bytes\n",
            "Memory size of 'four' = 53 bytes\n",
            "Memory size of 'three' = 54 bytes\n",
            "\n"
          ],
          "name": "stdout"
        }
      ]
    },
    {
      "cell_type": "code",
      "metadata": {
        "id": "KBob6pseYwem",
        "colab_type": "code",
        "outputId": "cd5d23cb-1faf-4df6-dae4-9574538ebfa0",
        "colab": {
          "base_uri": "https://localhost:8080/",
          "height": 85
        }
      },
      "source": [
        "import sys\n",
        "print()\n",
        "print(\"Current value of the recursion limit:\")\n",
        "print(sys.getrecursionlimit())\n",
        "print()"
      ],
      "execution_count": 0,
      "outputs": [
        {
          "output_type": "stream",
          "text": [
            "\n",
            "Current value of the recursion limit:\n",
            "1000\n",
            "\n"
          ],
          "name": "stdout"
        }
      ]
    },
    {
      "cell_type": "code",
      "metadata": {
        "id": "iWz58ruSZVgu",
        "colab_type": "code",
        "outputId": "fa54d8e8-09ec-4d9d-f1f7-3e7b6b814776",
        "colab": {
          "base_uri": "https://localhost:8080/",
          "height": 68
        }
      },
      "source": [
        "print()\n",
        "print((lambda str='print(lambda str=%r: (str %% str))()': (str % str))())\n",
        "print()"
      ],
      "execution_count": 0,
      "outputs": [
        {
          "output_type": "stream",
          "text": [
            "\n",
            "print(lambda str='print(lambda str=%r: (str %% str))()': (str % str))()\n",
            "\n"
          ],
          "name": "stdout"
        }
      ]
    },
    {
      "cell_type": "code",
      "metadata": {
        "id": "Xq8hvXt0Zr_T",
        "colab_type": "code",
        "outputId": "49f686f4-16f1-43be-ab0e-9096a1f063d8",
        "colab": {
          "base_uri": "https://localhost:8080/",
          "height": 68
        }
      },
      "source": [
        "obj1 = object()\n",
        "obj1_address = id(obj1)\n",
        "print()\n",
        "print(obj1_address)\n",
        "print()"
      ],
      "execution_count": 0,
      "outputs": [
        {
          "output_type": "stream",
          "text": [
            "\n",
            "140242528171376\n",
            "\n"
          ],
          "name": "stdout"
        }
      ]
    },
    {
      "cell_type": "code",
      "metadata": {
        "id": "dsISuMhbaAMr",
        "colab_type": "code",
        "colab": {}
      },
      "source": [
        "import traceback\n",
        "print()\n",
        "def f1():return abc()\n",
        "def abc():traceback.print_stack()\n",
        "f1()\n",
        "print()"
      ],
      "execution_count": 0,
      "outputs": []
    },
    {
      "cell_type": "code",
      "metadata": {
        "id": "tqoUIuW_ajeb",
        "colab_type": "code",
        "outputId": "2d86c4d7-a180-4b1b-df89-3759272016f1",
        "colab": {
          "base_uri": "https://localhost:8080/",
          "height": 68
        }
      },
      "source": [
        "import time\n",
        "print()\n",
        "print(time.ctime())\n",
        "print()"
      ],
      "execution_count": 0,
      "outputs": [
        {
          "output_type": "stream",
          "text": [
            "\n",
            "Sun Apr 26 16:55:25 2020\n",
            "\n"
          ],
          "name": "stdout"
        }
      ]
    },
    {
      "cell_type": "code",
      "metadata": {
        "id": "1DGwz1glatcz",
        "colab_type": "code",
        "outputId": "5c51e87b-358d-4553-a51a-4f7d9d2a657b",
        "colab": {
          "base_uri": "https://localhost:8080/",
          "height": 68
        }
      },
      "source": [
        "import socket\n",
        "host_name = socket.gethostname()\n",
        "print()\n",
        "print(\"Host name:\", host_name)\n",
        "print()"
      ],
      "execution_count": 0,
      "outputs": [
        {
          "output_type": "stream",
          "text": [
            "\n",
            "Host name: eb9f11481fa1\n",
            "\n"
          ],
          "name": "stdout"
        }
      ]
    },
    {
      "cell_type": "code",
      "metadata": {
        "id": "k0ud7LMnay0U",
        "colab_type": "code",
        "outputId": "4a7f5b7b-3088-474c-d88b-b7a5fdbc4e0a",
        "colab": {
          "base_uri": "https://localhost:8080/",
          "height": 54
        }
      },
      "source": [
        "from http.client import HTTPConnection\n",
        "conn = HTTPConnection(\"example.com\")\n",
        "conn.request(\"example.com\")  \n",
        "result = conn.getresponse()\n",
        "# retrieves the entire contents.  \n",
        "contents = result.read() \n",
        "print(contents)"
      ],
      "execution_count": 0,
      "outputs": [
        {
          "output_type": "stream",
          "text": [
            "b'<!doctype html>\\n<html>\\n<head>\\n    <title>Example Domain</title>\\n\\n    <meta charset=\"utf-8\" />\\n    <meta http-equiv=\"Content-type\" content=\"text/html; charset=utf-8\" />\\n    <meta name=\"viewport\" content=\"width=device-width, initial-scale=1\" />\\n    <style type=\"text/css\">\\n    body {\\n        background-color: #f0f0f2;\\n        margin: 0;\\n        padding: 0;\\n        font-family: -apple-system, system-ui, BlinkMacSystemFont, \"Segoe UI\", \"Open Sans\", \"Helvetica Neue\", Helvetica, Arial, sans-serif;\\n        \\n    }\\n    div {\\n        width: 600px;\\n        margin: 5em auto;\\n        padding: 2em;\\n        background-color: #fdfdff;\\n        border-radius: 0.5em;\\n        box-shadow: 2px 3px 7px 2px rgba(0,0,0,0.02);\\n    }\\n    a:link, a:visited {\\n        color: #38488f;\\n        text-decoration: none;\\n    }\\n    @media (max-width: 700px) {\\n        div {\\n            margin: 0 auto;\\n            width: auto;\\n        }\\n    }\\n    </style>    \\n</head>\\n\\n<body>\\n<div>\\n    <h1>Example Domain</h1>\\n    <p>This domain is for use in illustrative examples in documents. You may use this\\n    domain in literature without prior coordination or asking for permission.</p>\\n    <p><a href=\"https://www.iana.org/domains/example\">More information...</a></p>\\n</div>\\n</body>\\n</html>\\n'\n"
          ],
          "name": "stdout"
        }
      ]
    },
    {
      "cell_type": "code",
      "metadata": {
        "id": "k36Rpb4pbPCz",
        "colab_type": "code",
        "outputId": "f1d905a5-dfbb-45bc-9b74-ff8fcb335c7f",
        "colab": {
          "base_uri": "https://localhost:8080/",
          "height": 34
        }
      },
      "source": [
        "num_list = [45, 55, 60, 37, 100, 105, 220]\n",
        "# use anonymous function to filter\n",
        "def myfun(x):\n",
        "  return x % 15 == 0\n",
        "result = list(filter(lambda x: (x % 15 == 0), num_list))\n",
        "print(\"Numbers divisible by 15 are\",result)"
      ],
      "execution_count": 0,
      "outputs": [
        {
          "output_type": "stream",
          "text": [
            "Numbers divisible by 15 are [45, 60, 105]\n"
          ],
          "name": "stdout"
        }
      ]
    },
    {
      "cell_type": "code",
      "metadata": {
        "id": "9cCOROJkb0PL",
        "colab_type": "code",
        "colab": {}
      },
      "source": [
        ""
      ],
      "execution_count": 0,
      "outputs": []
    },
    {
      "cell_type": "code",
      "metadata": {
        "id": "cHTFibs8bq2v",
        "colab_type": "code",
        "outputId": "c9661579-b706-4e8a-a5e8-bab3cce8a8d5",
        "colab": {
          "base_uri": "https://localhost:8080/",
          "height": 119
        }
      },
      "source": [
        "import os\n",
        "print(\"\\nEffective group id: \",os.getegid())\n",
        "print(\"Effective user id: \",os.geteuid())\n",
        "print(\"Real group id: \",os.getgid())\n",
        "print(\"List of supplemental group ids: \",os.getgroups())\n",
        "print()"
      ],
      "execution_count": 0,
      "outputs": [
        {
          "output_type": "stream",
          "text": [
            "\n",
            "Effective group id:  0\n",
            "Effective user id:  0\n",
            "Real group id:  0\n",
            "List of supplemental group ids:  []\n",
            "\n"
          ],
          "name": "stdout"
        }
      ]
    },
    {
      "cell_type": "code",
      "metadata": {
        "id": "3VlvKkBrb1OU",
        "colab_type": "code",
        "outputId": "2d042fe4-ec3d-4b18-aafb-a061db057f56",
        "colab": {
          "base_uri": "https://localhost:8080/",
          "height": 51
        }
      },
      "source": [
        "num_list = [45, 55, 60, 37, 100, 105, 220]\n",
        "print(num_list.pop(0))\n",
        "print(num_list)"
      ],
      "execution_count": 0,
      "outputs": [
        {
          "output_type": "stream",
          "text": [
            "45\n",
            "[55, 60, 37, 100, 105, 220]\n"
          ],
          "name": "stdout"
        }
      ]
    },
    {
      "cell_type": "code",
      "metadata": {
        "id": "YgzQRLI7cDrM",
        "colab_type": "code",
        "outputId": "1516767c-b4c8-43d7-9718-929822a326c4",
        "colab": {
          "base_uri": "https://localhost:8080/",
          "height": 51
        }
      },
      "source": [
        "num_list = [45, 55, 60, 37, 100, 105, 220]\n",
        "print(num_list.remove(45))\n",
        "print(num_list)"
      ],
      "execution_count": 0,
      "outputs": [
        {
          "output_type": "stream",
          "text": [
            "None\n",
            "[55, 60, 37, 100, 105, 220]\n"
          ],
          "name": "stdout"
        }
      ]
    },
    {
      "cell_type": "code",
      "metadata": {
        "id": "EcqV5A3McNXs",
        "colab_type": "code",
        "outputId": "e3fdc475-9bd0-4d73-db96-178f0456bf51",
        "colab": {
          "base_uri": "https://localhost:8080/",
          "height": 129
        }
      },
      "source": [
        "num_list = [45, 55, 60, 37, 100, 105, 220]\n",
        "print(del num_list[0])\n",
        "print(num_list)"
      ],
      "execution_count": 0,
      "outputs": [
        {
          "output_type": "error",
          "ename": "SyntaxError",
          "evalue": "ignored",
          "traceback": [
            "\u001b[0;36m  File \u001b[0;32m\"<ipython-input-49-3603bce90eab>\"\u001b[0;36m, line \u001b[0;32m2\u001b[0m\n\u001b[0;31m    print(del num_list[0])\u001b[0m\n\u001b[0m            ^\u001b[0m\n\u001b[0;31mSyntaxError\u001b[0m\u001b[0;31m:\u001b[0m invalid syntax\n"
          ]
        }
      ]
    },
    {
      "cell_type": "code",
      "metadata": {
        "id": "jXYvSjaJc5MY",
        "colab_type": "code",
        "outputId": "a89c2c36-af4d-45b2-cc2a-b42ce7145015",
        "colab": {
          "base_uri": "https://localhost:8080/",
          "height": 34
        }
      },
      "source": [
        "nums = [34, 1, 0, -23]\n",
        "newl = list(filter(lambda x: x > 0 , nums))\n",
        "print(newl)"
      ],
      "execution_count": 0,
      "outputs": [
        {
          "output_type": "stream",
          "text": [
            "[34, 1]\n"
          ],
          "name": "stdout"
        }
      ]
    },
    {
      "cell_type": "code",
      "metadata": {
        "id": "7ZtYknladZ-K",
        "colab_type": "code",
        "outputId": "0feea5f3-02eb-4313-d7df-d38f426e6105",
        "colab": {
          "base_uri": "https://localhost:8080/",
          "height": 34
        }
      },
      "source": [
        "from functools import reduce\n",
        "nums = [10,20,30]\n",
        "nums_product = reduce((lambda x, y: x*y), nums)\n",
        "print(nums_product)"
      ],
      "execution_count": 0,
      "outputs": [
        {
          "output_type": "stream",
          "text": [
            "6000\n"
          ],
          "name": "stdout"
        }
      ]
    },
    {
      "cell_type": "code",
      "metadata": {
        "id": "uerw7-dleUhh",
        "colab_type": "code",
        "outputId": "c84ef097-8896-4105-f862-0198b287f32e",
        "colab": {
          "base_uri": "https://localhost:8080/",
          "height": 153
        }
      },
      "source": [
        "print()\n",
        "nums = [10, 20, 56, 35, 17, 99]\n",
        "# Create bytearray from list of integers.\n",
        "values = bytearray(nums)\n",
        "for x in values: print(x)\n",
        "print()"
      ],
      "execution_count": 0,
      "outputs": [
        {
          "output_type": "stream",
          "text": [
            "\n",
            "10\n",
            "20\n",
            "56\n",
            "35\n",
            "17\n",
            "99\n",
            "\n"
          ],
          "name": "stdout"
        }
      ]
    },
    {
      "cell_type": "code",
      "metadata": {
        "id": "ah5NQ-h5ehzJ",
        "colab_type": "code",
        "outputId": "cda9b32b-df08-4d17-f984-707d2345d353",
        "colab": {
          "base_uri": "https://localhost:8080/",
          "height": 51
        }
      },
      "source": [
        "try:\n",
        "  x = 1\n",
        "except NameError:\n",
        "  print(\"Variable is not defined....!\")\n",
        "else:\n",
        "  print(\"Variable is defined.\")\n",
        "try:\n",
        "  print(lo)\n",
        "except NameError:\n",
        "  print(\"Variable is not defined....!\")\n",
        "else:\n",
        "  print(\"Variable is defined.\")"
      ],
      "execution_count": 0,
      "outputs": [
        {
          "output_type": "stream",
          "text": [
            "Variable is defined.\n",
            "Variable is not defined....!\n"
          ],
          "name": "stdout"
        }
      ]
    },
    {
      "cell_type": "code",
      "metadata": {
        "id": "mFn-MdGEgcDQ",
        "colab_type": "code",
        "outputId": "31be8d24-1827-40a0-cee6-6660954a017e",
        "colab": {
          "base_uri": "https://localhost:8080/",
          "height": 68
        }
      },
      "source": [
        "print(\"Input the value of x & y\")\n",
        "x, y = map(int, input().split())\n",
        "print(\"The value of x & y are: \",x,y)"
      ],
      "execution_count": 0,
      "outputs": [
        {
          "output_type": "stream",
          "text": [
            "Input the value of x & y\n",
            "8 9\n",
            "The value of x & y are:  8 9\n"
          ],
          "name": "stdout"
        }
      ]
    },
    {
      "cell_type": "code",
      "metadata": {
        "id": "zcrJJ96YgpoP",
        "colab_type": "code",
        "colab": {}
      },
      "source": [
        "d = {'Red': 'Green'}\n",
        "(c1, c2), = d.items()\n",
        "print(c1)\n",
        "print(c2)"
      ],
      "execution_count": 0,
      "outputs": []
    },
    {
      "cell_type": "code",
      "metadata": {
        "id": "md9Bz-3QhBUq",
        "colab_type": "code",
        "outputId": "ebb3bcc3-d9be-4ad2-92ae-7e168e78c4b8",
        "colab": {
          "base_uri": "https://localhost:8080/",
          "height": 51
        }
      },
      "source": [
        "x = 'true'\n",
        "x = int(x == 'true')\n",
        "print(x)\n",
        "x = 'abcd'\n",
        "x = int(x == 'true')\n",
        "print(x)"
      ],
      "execution_count": 0,
      "outputs": [
        {
          "output_type": "stream",
          "text": [
            "1\n",
            "0\n"
          ],
          "name": "stdout"
        }
      ]
    },
    {
      "cell_type": "code",
      "metadata": {
        "id": "k-GFSE61u0Qw",
        "colab_type": "code",
        "outputId": "6ba5a150-be77-4408-d73c-7b06db6f09b4",
        "colab": {
          "base_uri": "https://localhost:8080/",
          "height": 51
        }
      },
      "source": [
        "def test_distinct(data):\n",
        "  if len(data) == len(set(data)):\n",
        "    return True\n",
        "  else:\n",
        "    return False\n",
        "\n",
        "\n",
        "print(test_distinct([1,5,7,9]))\n",
        "print(test_distinct([2,4,5,5,7,9]))"
      ],
      "execution_count": 0,
      "outputs": [
        {
          "output_type": "stream",
          "text": [
            "True\n",
            "False\n"
          ],
          "name": "stdout"
        }
      ]
    },
    {
      "cell_type": "code",
      "metadata": {
        "id": "NxewwSCX0UlB",
        "colab_type": "code",
        "outputId": "788aa211-285b-40f4-9070-141f896477f7",
        "colab": {
          "base_uri": "https://localhost:8080/",
          "height": 119
        }
      },
      "source": [
        "# Python function to print permutations of a given list \n",
        "def permutation(lst): \n",
        "\n",
        "\t# If lst is empty then there are no permutations \n",
        "\tif len(lst) == 0: \n",
        "\t\treturn [] \n",
        "\n",
        "\t# If there is only one element in lst then, only \n",
        "\t# one permuatation is possible \n",
        "\tif len(lst) == 1: \n",
        "\t\treturn [lst] \n",
        "\n",
        "\t# Find the permutations for lst if there are \n",
        "\t# more than 1 characters \n",
        "\n",
        "\tl = [] # empty list that will store current permutation \n",
        "\n",
        "\t# Iterate the input(lst) and calculate the permutation \n",
        "\tfor i in range(len(lst)): \n",
        "\t  m = lst[i] \n",
        "\n",
        "\t# Extract lst[i] or m from the list. remLst is \n",
        "\t# remaining list \n",
        "\t  remLst = lst[:i] + lst[i+1:] \n",
        "\n",
        "\t# Generating all permutations where m is first \n",
        "\t# element \n",
        "\t  for p in permutation(remLst): \n",
        "\t\t  l.append([m] + p) \n",
        "\treturn l \n",
        "\n",
        "\n",
        "# Driver program to test above function \n",
        "data = list('123') \n",
        "for p in permutation(data): \n",
        "\tprint (p) \n"
      ],
      "execution_count": 0,
      "outputs": [
        {
          "output_type": "stream",
          "text": [
            "['1', '2', '3']\n",
            "['1', '3', '2']\n",
            "['2', '1', '3']\n",
            "['2', '3', '1']\n",
            "['3', '1', '2']\n",
            "['3', '2', '1']\n"
          ],
          "name": "stdout"
        }
      ]
    },
    {
      "cell_type": "markdown",
      "metadata": {
        "id": "p0V87v4l4zT1",
        "colab_type": "text"
      },
      "source": [
        ""
      ]
    },
    {
      "cell_type": "code",
      "metadata": {
        "id": "ZSSv8n3y5BPz",
        "colab_type": "code",
        "outputId": "5fb6c7e5-5aeb-44dc-b991-4dd519256d53",
        "colab": {
          "base_uri": "https://localhost:8080/",
          "height": 34
        }
      },
      "source": [
        "nums = [10, 20, 56, 35, 17, 99]\n",
        "\n",
        "while nums:\n",
        "  for i, _ in enumerate(nums):\n",
        "    if i%3 == 0:\n",
        "      nums.pop(i) \n",
        "\n",
        "print(nums)"
      ],
      "execution_count": 0,
      "outputs": [
        {
          "output_type": "stream",
          "text": [
            "[]\n"
          ],
          "name": "stdout"
        }
      ]
    },
    {
      "cell_type": "code",
      "metadata": {
        "id": "HSTZyGGm6N1Y",
        "colab_type": "code",
        "colab": {}
      },
      "source": [
        "nums = [10, 20, 56, 35, 17, 99]\n",
        "\n",
        "for num in nums:\n",
        "  "
      ],
      "execution_count": 0,
      "outputs": []
    },
    {
      "cell_type": "code",
      "metadata": {
        "id": "OWwc0M5v-mLB",
        "colab_type": "code",
        "outputId": "a276ee81-120c-4dee-8e0b-d68bd648d3ff",
        "colab": {
          "base_uri": "https://localhost:8080/",
          "height": 34
        }
      },
      "source": [
        "numbers = []\n",
        "for num in range(1000):\n",
        "  num=str(num).zfill(3)\n",
        "print(num)\n",
        "numbers.append(num)"
      ],
      "execution_count": 0,
      "outputs": [
        {
          "output_type": "stream",
          "text": [
            "999\n"
          ],
          "name": "stdout"
        }
      ]
    },
    {
      "cell_type": "code",
      "metadata": {
        "id": "wjPFXyw_-0rW",
        "colab_type": "code",
        "outputId": "b0dbdbf7-b9da-4f4f-bb49-8a5a6552da15",
        "colab": {
          "base_uri": "https://localhost:8080/",
          "height": 54
        }
      },
      "source": [
        "import collections\n",
        "import pprint\n",
        "\n",
        "string_words = '''United States Declaration of Independence\n",
        "From Wikipedia, the free encyclopedia\n",
        "The United States Declaration of Independence is the statement\n",
        "adopted by the Second Continental Congress meeting at the Pennsylvania State\n",
        "House (Independence Hall) in Philadelphia on July 4, 1776, which announced\n",
        "that the thirteen American colonies, then at war with the Kingdom of Great\n",
        "Britain, regarded themselves as thirteen independent sovereign states, no longer\n",
        "under British rule. These states would found a new nation – the United States of\n",
        "America. John Adams was a leader in pushing for independence, which was passed\n",
        "on July 2 with no opposing vote cast. A committee of five had already drafted the\n",
        "formal declaration, to be ready when Congress voted on independence.\n",
        "\n",
        "John Adams persuaded the committee to select Thomas Jefferson to compose the original\n",
        "draft of the document, which Congress would edit to produce the final version.\n",
        "The Declaration was ultimately a formal explanation of why Congress had voted on July\n",
        "2 to declare independence from Great Britain, more than a year after the outbreak of\n",
        "the American Revolutionary War. The next day, Adams wrote to his wife Abigail: \"The\n",
        "Second Day of July 1776, will be the most memorable Epocha, in the History of America.\"\n",
        "But Independence Day is actually celebrated on July 4, the date that the Declaration of\n",
        "Independence was approved.\n",
        "\n",
        "After ratifying the text on July 4, Congress issued the Declaration of Independence in\n",
        "several forms. It was initially published as the printed Dunlap broadside that was widely\n",
        "distributed and read to the public. The source copy used for this printing has been lost,\n",
        "and may have been a copy in Thomas Jefferson's hand.[5] Jefferson's original draft, complete\n",
        "with changes made by John Adams and Benjamin Franklin, and Jefferson's notes of changes made\n",
        "by Congress, are preserved at the Library of Congress. The best-known version of the Declaration\n",
        "is a signed copy that is displayed at the National Archives in Washington, D.C., and which is\n",
        "popularly regarded as the official document. This engrossed copy was ordered by Congress on\n",
        "July 19 and signed primarily on August 2.\n",
        "\n",
        "The sources and interpretation of the Declaration have been the subject of much scholarly inquiry.\n",
        "The Declaration justified the independence of the United States by listing colonial grievances against\n",
        "King George III, and by asserting certain natural and legal rights, including a right of revolution.\n",
        "Having served its original purpose in announcing independence, references to the text of the\n",
        "Declaration were few in the following years. Abraham Lincoln made it the centerpiece of his rhetoric\n",
        "(as in the Gettysburg Address of 1863) and his policies. Since then, it has become a well-known statement\n",
        "on human rights, particularly its second sentence:\n",
        "\n",
        "We hold these truths to be self-evident, that all men are created equal, that they are endowed by their\n",
        "Creator with certain unalienable Rights, that among these are Life, Liberty and the pursuit of Happiness.\n",
        "\n",
        "This has been called \"one of the best-known sentences in the English language\", containing \"the most potent\n",
        "and consequential words in American history\". The passage came to represent a moral standard to which\n",
        "the United States should strive. This view was notably promoted by Abraham Lincoln, who considered the\n",
        "Declaration to be the foundation of his political philosophy and argued that it is a statement of principles\n",
        "through which the United States Constitution should be interpreted.\n",
        "\n",
        "The U.S. Declaration of Independence inspired many other similar documents in other countries, the first\n",
        "being the 1789 Declaration of Flanders issued during the Brabant Revolution in the Austrian Netherlands\n",
        "(modern-day Belgium). It also served as the primary model for numerous declarations of independence across\n",
        "Europe and Latin America, as well as Africa (Liberia) and Oceania (New Zealand) during the first half of the\n",
        "19th century.'''\n",
        "\n",
        "word_list = string_words.split()\n",
        "#word_freq = [word_list.count(n) for n in word_list]\n",
        "\n",
        "count = collections.Counter(word_list)\n",
        "value = pprint.pformat(count)\n",
        "print(count)\n",
        "\n"
      ],
      "execution_count": 0,
      "outputs": [
        {
          "output_type": "stream",
          "text": [
            "Counter({'the': 49, 'of': 30, 'and': 15, 'in': 13, 'Declaration': 12, 'to': 12, 'a': 10, 'The': 9, 'on': 9, 'by': 8, 'that': 8, 'was': 8, 'July': 7, 'United': 6, 'States': 6, 'Independence': 6, 'is': 6, 'Congress': 6, 'which': 6, 'as': 6, 'be': 5, 'at': 4, 'with': 4, 'Adams': 4, 'his': 4, 'copy': 4, 'been': 4, 'are': 4, 'statement': 3, '4,': 3, 'American': 3, 'John': 3, 'for': 3, 'original': 3, 'independence': 3, 'has': 3, \"Jefferson's\": 3, 'made': 3, 'This': 3, 'it': 3, 'Second': 2, '1776,': 2, 'thirteen': 2, 'Great': 2, 'Britain,': 2, 'regarded': 2, 'no': 2, 'would': 2, 'independence,': 2, '2': 2, 'committee': 2, 'had': 2, 'formal': 2, 'voted': 2, 'Thomas': 2, 'Day': 2, 'most': 2, 'text': 2, 'issued': 2, 'It': 2, 'have': 2, 'changes': 2, 'best-known': 2, 'signed': 2, 'certain': 2, 'rights,': 2, 'served': 2, 'its': 2, 'Abraham': 2, 'these': 2, 'should': 2, 'other': 2, 'first': 2, 'during': 2, 'From': 1, 'Wikipedia,': 1, 'free': 1, 'encyclopedia': 1, 'adopted': 1, 'Continental': 1, 'meeting': 1, 'Pennsylvania': 1, 'State': 1, 'House': 1, '(Independence': 1, 'Hall)': 1, 'Philadelphia': 1, 'announced': 1, 'colonies,': 1, 'then': 1, 'war': 1, 'Kingdom': 1, 'themselves': 1, 'independent': 1, 'sovereign': 1, 'states,': 1, 'longer': 1, 'under': 1, 'British': 1, 'rule.': 1, 'These': 1, 'states': 1, 'found': 1, 'new': 1, 'nation': 1, '–': 1, 'America.': 1, 'leader': 1, 'pushing': 1, 'passed': 1, 'opposing': 1, 'vote': 1, 'cast.': 1, 'A': 1, 'five': 1, 'already': 1, 'drafted': 1, 'declaration,': 1, 'ready': 1, 'when': 1, 'independence.': 1, 'persuaded': 1, 'select': 1, 'Jefferson': 1, 'compose': 1, 'draft': 1, 'document,': 1, 'edit': 1, 'produce': 1, 'final': 1, 'version.': 1, 'ultimately': 1, 'explanation': 1, 'why': 1, 'declare': 1, 'from': 1, 'more': 1, 'than': 1, 'year': 1, 'after': 1, 'outbreak': 1, 'Revolutionary': 1, 'War.': 1, 'next': 1, 'day,': 1, 'wrote': 1, 'wife': 1, 'Abigail:': 1, '\"The': 1, 'will': 1, 'memorable': 1, 'Epocha,': 1, 'History': 1, 'America.\"': 1, 'But': 1, 'actually': 1, 'celebrated': 1, 'date': 1, 'approved.': 1, 'After': 1, 'ratifying': 1, 'several': 1, 'forms.': 1, 'initially': 1, 'published': 1, 'printed': 1, 'Dunlap': 1, 'broadside': 1, 'widely': 1, 'distributed': 1, 'read': 1, 'public.': 1, 'source': 1, 'used': 1, 'this': 1, 'printing': 1, 'lost,': 1, 'may': 1, 'hand.[5]': 1, 'draft,': 1, 'complete': 1, 'Benjamin': 1, 'Franklin,': 1, 'notes': 1, 'Congress,': 1, 'preserved': 1, 'Library': 1, 'Congress.': 1, 'version': 1, 'displayed': 1, 'National': 1, 'Archives': 1, 'Washington,': 1, 'D.C.,': 1, 'popularly': 1, 'official': 1, 'document.': 1, 'engrossed': 1, 'ordered': 1, '19': 1, 'primarily': 1, 'August': 1, '2.': 1, 'sources': 1, 'interpretation': 1, 'subject': 1, 'much': 1, 'scholarly': 1, 'inquiry.': 1, 'justified': 1, 'listing': 1, 'colonial': 1, 'grievances': 1, 'against': 1, 'King': 1, 'George': 1, 'III,': 1, 'asserting': 1, 'natural': 1, 'legal': 1, 'including': 1, 'right': 1, 'revolution.': 1, 'Having': 1, 'purpose': 1, 'announcing': 1, 'references': 1, 'were': 1, 'few': 1, 'following': 1, 'years.': 1, 'Lincoln': 1, 'centerpiece': 1, 'rhetoric': 1, '(as': 1, 'Gettysburg': 1, 'Address': 1, '1863)': 1, 'policies.': 1, 'Since': 1, 'then,': 1, 'become': 1, 'well-known': 1, 'human': 1, 'particularly': 1, 'second': 1, 'sentence:': 1, 'We': 1, 'hold': 1, 'truths': 1, 'self-evident,': 1, 'all': 1, 'men': 1, 'created': 1, 'equal,': 1, 'they': 1, 'endowed': 1, 'their': 1, 'Creator': 1, 'unalienable': 1, 'Rights,': 1, 'among': 1, 'Life,': 1, 'Liberty': 1, 'pursuit': 1, 'Happiness.': 1, 'called': 1, '\"one': 1, 'sentences': 1, 'English': 1, 'language\",': 1, 'containing': 1, '\"the': 1, 'potent': 1, 'consequential': 1, 'words': 1, 'history\".': 1, 'passage': 1, 'came': 1, 'represent': 1, 'moral': 1, 'standard': 1, 'strive.': 1, 'view': 1, 'notably': 1, 'promoted': 1, 'Lincoln,': 1, 'who': 1, 'considered': 1, 'foundation': 1, 'political': 1, 'philosophy': 1, 'argued': 1, 'principles': 1, 'through': 1, 'Constitution': 1, 'interpreted.': 1, 'U.S.': 1, 'inspired': 1, 'many': 1, 'similar': 1, 'documents': 1, 'countries,': 1, 'being': 1, '1789': 1, 'Flanders': 1, 'Brabant': 1, 'Revolution': 1, 'Austrian': 1, 'Netherlands': 1, '(modern-day': 1, 'Belgium).': 1, 'also': 1, 'primary': 1, 'model': 1, 'numerous': 1, 'declarations': 1, 'across': 1, 'Europe': 1, 'Latin': 1, 'America,': 1, 'well': 1, 'Africa': 1, '(Liberia)': 1, 'Oceania': 1, '(New': 1, 'Zealand)': 1, 'half': 1, '19th': 1, 'century.': 1})\n"
          ],
          "name": "stdout"
        }
      ]
    },
    {
      "cell_type": "code",
      "metadata": {
        "id": "CAs2cpFxXMf_",
        "colab_type": "code",
        "outputId": "9c2bd59c-3a4a-494b-8214-6b4da1be1531",
        "colab": {
          "base_uri": "https://localhost:8080/",
          "height": 34
        }
      },
      "source": [
        "word = \"This strinf contains a number 12 and 13\"\n",
        "\n",
        "sum_numbers = lambda text: sum(int(word) for word in text.split() if word.isdigit())\n",
        "\n",
        "print(sum_numbers(word))"
      ],
      "execution_count": 0,
      "outputs": [
        {
          "output_type": "stream",
          "text": [
            "25\n"
          ],
          "name": "stdout"
        }
      ]
    },
    {
      "cell_type": "code",
      "metadata": {
        "id": "HiBEsEI1iQMc",
        "colab_type": "code",
        "outputId": "ee5823f9-3628-46f7-c2ac-bfe276c9c6d7",
        "colab": {
          "base_uri": "https://localhost:8080/",
          "height": 1000
        }
      },
      "source": [
        "#!pip install \n",
        "import requests\n",
        "import cv2\n",
        "from skimage import io\n",
        "\n",
        "response = requests.get(\"https://hackattic.com/challenges/reading_qr/problem?access_token=b5de5535e7a4883a\")\n",
        "cont =  response.json()\n",
        "image = io.imread(cont['image_url'])\n",
        "qrDecoder = cv2.QRCodeDetector()\n",
        "data,bbox,rectifiedImage = qrDecoder.detectAndDecode(image)\n",
        "if len(data)>0:\n",
        "  display(image, bbox)\n",
        "  rectifiedImage = np.uint8(rectifiedImage)\n",
        "  cv2.imshow(\"Rectified QRCode\", rectifiedImage)\n",
        "\n"
      ],
      "execution_count": 0,
      "outputs": [
        {
          "output_type": "display_data",
          "data": {
            "text/plain": [
              "array([[[255, 255, 255, 255],\n",
              "        [255, 255, 255, 255],\n",
              "        [255, 255, 255, 255],\n",
              "        ...,\n",
              "        [255, 255, 255, 255],\n",
              "        [255, 255, 255, 255],\n",
              "        [255, 255, 255, 255]],\n",
              "\n",
              "       [[255, 255, 255, 255],\n",
              "        [255, 255, 255, 255],\n",
              "        [255, 255, 255, 255],\n",
              "        ...,\n",
              "        [255, 255, 255, 255],\n",
              "        [255, 255, 255, 255],\n",
              "        [255, 255, 255, 255]],\n",
              "\n",
              "       [[255, 255, 255, 255],\n",
              "        [255, 255, 255, 255],\n",
              "        [255, 255, 255, 255],\n",
              "        ...,\n",
              "        [255, 255, 255, 255],\n",
              "        [255, 255, 255, 255],\n",
              "        [255, 255, 255, 255]],\n",
              "\n",
              "       ...,\n",
              "\n",
              "       [[255, 255, 255, 255],\n",
              "        [255, 255, 255, 255],\n",
              "        [255, 255, 255, 255],\n",
              "        ...,\n",
              "        [255, 255, 255, 255],\n",
              "        [255, 255, 255, 255],\n",
              "        [255, 255, 255, 255]],\n",
              "\n",
              "       [[255, 255, 255, 255],\n",
              "        [255, 255, 255, 255],\n",
              "        [255, 255, 255, 255],\n",
              "        ...,\n",
              "        [255, 255, 255, 255],\n",
              "        [255, 255, 255, 255],\n",
              "        [255, 255, 255, 255]],\n",
              "\n",
              "       [[255, 255, 255, 255],\n",
              "        [255, 255, 255, 255],\n",
              "        [255, 255, 255, 255],\n",
              "        ...,\n",
              "        [255, 255, 255, 255],\n",
              "        [255, 255, 255, 255],\n",
              "        [255, 255, 255, 255]]], dtype=uint8)"
            ]
          },
          "metadata": {
            "tags": []
          }
        },
        {
          "output_type": "display_data",
          "data": {
            "text/plain": [
              "array([[[173.     , 382.     ]],\n",
              "\n",
              "       [[376.98596, 331.0035 ]],\n",
              "\n",
              "       [[429.     , 536.     ]],\n",
              "\n",
              "       [[223.99414, 585.97656]]], dtype=float32)"
            ]
          },
          "metadata": {
            "tags": []
          }
        },
        {
          "output_type": "error",
          "ename": "DisabledFunctionError",
          "evalue": "ignored",
          "traceback": [
            "\u001b[0;31m---------------------------------------------------------------------------\u001b[0m",
            "\u001b[0;31mDisabledFunctionError\u001b[0m                     Traceback (most recent call last)",
            "\u001b[0;32m<ipython-input-61-f90b4f0a3ca2>\u001b[0m in \u001b[0;36m<module>\u001b[0;34m()\u001b[0m\n\u001b[1;32m     11\u001b[0m   \u001b[0mdisplay\u001b[0m\u001b[0;34m(\u001b[0m\u001b[0mimage\u001b[0m\u001b[0;34m,\u001b[0m \u001b[0mbbox\u001b[0m\u001b[0;34m)\u001b[0m\u001b[0;34m\u001b[0m\u001b[0;34m\u001b[0m\u001b[0m\n\u001b[1;32m     12\u001b[0m   \u001b[0mrectifiedImage\u001b[0m \u001b[0;34m=\u001b[0m \u001b[0mnp\u001b[0m\u001b[0;34m.\u001b[0m\u001b[0muint8\u001b[0m\u001b[0;34m(\u001b[0m\u001b[0mrectifiedImage\u001b[0m\u001b[0;34m)\u001b[0m\u001b[0;34m\u001b[0m\u001b[0;34m\u001b[0m\u001b[0m\n\u001b[0;32m---> 13\u001b[0;31m   \u001b[0mcv2\u001b[0m\u001b[0;34m.\u001b[0m\u001b[0mimshow\u001b[0m\u001b[0;34m(\u001b[0m\u001b[0;34m\"Rectified QRCode\"\u001b[0m\u001b[0;34m,\u001b[0m \u001b[0mrectifiedImage\u001b[0m\u001b[0;34m)\u001b[0m\u001b[0;34m\u001b[0m\u001b[0;34m\u001b[0m\u001b[0m\n\u001b[0m\u001b[1;32m     14\u001b[0m \u001b[0;34m\u001b[0m\u001b[0m\n",
            "\u001b[0;32m/usr/local/lib/python3.6/dist-packages/google/colab/_import_hooks/_cv2.py\u001b[0m in \u001b[0;36mwrapped\u001b[0;34m(*args, **kwargs)\u001b[0m\n\u001b[1;32m     50\u001b[0m   \u001b[0;32mdef\u001b[0m \u001b[0mwrapped\u001b[0m\u001b[0;34m(\u001b[0m\u001b[0;34m*\u001b[0m\u001b[0margs\u001b[0m\u001b[0;34m,\u001b[0m \u001b[0;34m**\u001b[0m\u001b[0mkwargs\u001b[0m\u001b[0;34m)\u001b[0m\u001b[0;34m:\u001b[0m\u001b[0;34m\u001b[0m\u001b[0;34m\u001b[0m\u001b[0m\n\u001b[1;32m     51\u001b[0m     \u001b[0;32mif\u001b[0m \u001b[0;32mnot\u001b[0m \u001b[0mos\u001b[0m\u001b[0;34m.\u001b[0m\u001b[0menviron\u001b[0m\u001b[0;34m.\u001b[0m\u001b[0mget\u001b[0m\u001b[0;34m(\u001b[0m\u001b[0menv_var\u001b[0m\u001b[0;34m,\u001b[0m \u001b[0;32mFalse\u001b[0m\u001b[0;34m)\u001b[0m\u001b[0;34m:\u001b[0m\u001b[0;34m\u001b[0m\u001b[0;34m\u001b[0m\u001b[0m\n\u001b[0;32m---> 52\u001b[0;31m       \u001b[0;32mraise\u001b[0m \u001b[0mDisabledFunctionError\u001b[0m\u001b[0;34m(\u001b[0m\u001b[0mmessage\u001b[0m\u001b[0;34m,\u001b[0m \u001b[0mname\u001b[0m \u001b[0;32mor\u001b[0m \u001b[0mfunc\u001b[0m\u001b[0;34m.\u001b[0m\u001b[0m__name__\u001b[0m\u001b[0;34m)\u001b[0m\u001b[0;34m\u001b[0m\u001b[0;34m\u001b[0m\u001b[0m\n\u001b[0m\u001b[1;32m     53\u001b[0m     \u001b[0;32mreturn\u001b[0m \u001b[0mfunc\u001b[0m\u001b[0;34m(\u001b[0m\u001b[0;34m*\u001b[0m\u001b[0margs\u001b[0m\u001b[0;34m,\u001b[0m \u001b[0;34m**\u001b[0m\u001b[0mkwargs\u001b[0m\u001b[0;34m)\u001b[0m\u001b[0;34m\u001b[0m\u001b[0;34m\u001b[0m\u001b[0m\n\u001b[1;32m     54\u001b[0m \u001b[0;34m\u001b[0m\u001b[0m\n",
            "\u001b[0;31mDisabledFunctionError\u001b[0m: cv2.imshow() is disabled in Colab, because it causes Jupyter sessions\nto crash; see https://github.com/jupyter/notebook/issues/3935.\nAs a substitution, consider using\n  from google.colab.patches import cv2_imshow\n"
          ]
        }
      ]
    },
    {
      "cell_type": "code",
      "metadata": {
        "id": "QOJ76xq1EQGr",
        "colab_type": "code",
        "outputId": "ad348688-d48e-4c81-d801-63e26d72b27e",
        "colab": {
          "base_uri": "https://localhost:8080/",
          "height": 34
        }
      },
      "source": [
        "from multiprocessing import Process\n",
        "from time import sleep\n",
        "\n",
        "counter = 0\n",
        "\n",
        "def sub_task(string):\n",
        "  global counter\n",
        "  while counter < 10:\n",
        "    print(string, end='', flush=True)\n",
        "    counter += 1\n",
        "    sleep(0.01)\n",
        "\n",
        "def myfun():\n",
        "  Process(target=sub_task, args=('Ping', )).start()\n",
        "  Process(target=sub_task, args=('Pong', )).start()\n",
        "\n",
        "myfun()"
      ],
      "execution_count": 0,
      "outputs": [
        {
          "output_type": "stream",
          "text": [
            "PongPingPingPongPongPingPongPingPongPingPongPingPongPingPongPingPongPingPongPing"
          ],
          "name": "stdout"
        }
      ]
    },
    {
      "cell_type": "code",
      "metadata": {
        "id": "iB01hkjY_fJt",
        "colab_type": "code",
        "outputId": "3b913fa0-81f9-48af-bd6b-212b7a029f2d",
        "colab": {
          "base_uri": "https://localhost:8080/",
          "height": 316
        }
      },
      "source": [
        "from socket import socket, SOCK_STREAM, AF_INET\n",
        "from base64 import b64encode\n",
        "from json import dumps\n",
        "from threading import Thread\n",
        "\n",
        "\n",
        "\n",
        "def load():\n",
        "  class FileTransferHandler(Thread):\n",
        "\n",
        "      def __init__(self, cclient):\n",
        "          super().__init__()\n",
        "          self.cclient = cclient\n",
        "\n",
        "      def run(self):\n",
        "          my_dict = {}\n",
        "          my_dict['filename'] = 'guido.jpg'\n",
        "          # JSON是纯文本不能携带二进制数据\n",
        "          # 所以图片的二进制数据要处理成base64编码\n",
        "          my_dict['filedata'] = data\n",
        "          # 通过dumps函数将字典处理成JSON字符串\n",
        "          json_str = dumps(my_dict)\n",
        "          # 发送JSON字符串\n",
        "          self.cclient.send(json_str.encode('utf-8'))\n",
        "          self.cclient.close()\n",
        "\n",
        "  # 1.创建套接字对象并指定使用哪种传输服务\n",
        "  server = socket()\n",
        "  # 2.绑定IP地址和端口(区分不同的服务)\n",
        "  server.bind(('192.168.1.2', 5566))\n",
        "  # 3.开启监听 - 监听客户端连接到服务器\n",
        "  server.listen(512)\n",
        "  print('服务器启动开始监听...')\n",
        "  with open('guido.jpg', 'rb') as f:\n",
        "      # 将二进制数据处理成base64再解码成字符串\n",
        "      data = b64encode(f.read()).decode('utf-8')\n",
        "  while True:\n",
        "      client, addr = server.accept()\n",
        "      # 启动一个线程来处理客户端的请求\n",
        "      FileTransferHandler(client).start()\n",
        "load()"
      ],
      "execution_count": 0,
      "outputs": [
        {
          "output_type": "error",
          "ename": "OSError",
          "evalue": "ignored",
          "traceback": [
            "\u001b[0;31m---------------------------------------------------------------------------\u001b[0m",
            "\u001b[0;31mOSError\u001b[0m                                   Traceback (most recent call last)",
            "\u001b[0;32m<ipython-input-5-c7b26abd55a1>\u001b[0m in \u001b[0;36m<module>\u001b[0;34m()\u001b[0m\n\u001b[1;32m     39\u001b[0m       \u001b[0;31m# 启动一个线程来处理客户端的请求\u001b[0m\u001b[0;34m\u001b[0m\u001b[0;34m\u001b[0m\u001b[0;34m\u001b[0m\u001b[0m\n\u001b[1;32m     40\u001b[0m       \u001b[0mFileTransferHandler\u001b[0m\u001b[0;34m(\u001b[0m\u001b[0mclient\u001b[0m\u001b[0;34m)\u001b[0m\u001b[0;34m.\u001b[0m\u001b[0mstart\u001b[0m\u001b[0;34m(\u001b[0m\u001b[0;34m)\u001b[0m\u001b[0;34m\u001b[0m\u001b[0;34m\u001b[0m\u001b[0m\n\u001b[0;32m---> 41\u001b[0;31m \u001b[0mload\u001b[0m\u001b[0;34m(\u001b[0m\u001b[0;34m)\u001b[0m\u001b[0;34m\u001b[0m\u001b[0;34m\u001b[0m\u001b[0m\n\u001b[0m",
            "\u001b[0;32m<ipython-input-5-c7b26abd55a1>\u001b[0m in \u001b[0;36mload\u001b[0;34m()\u001b[0m\n\u001b[1;32m     28\u001b[0m   \u001b[0mserver\u001b[0m \u001b[0;34m=\u001b[0m \u001b[0msocket\u001b[0m\u001b[0;34m(\u001b[0m\u001b[0;34m)\u001b[0m\u001b[0;34m\u001b[0m\u001b[0;34m\u001b[0m\u001b[0m\n\u001b[1;32m     29\u001b[0m   \u001b[0;31m# 2.绑定IP地址和端口(区分不同的服务)\u001b[0m\u001b[0;34m\u001b[0m\u001b[0;34m\u001b[0m\u001b[0;34m\u001b[0m\u001b[0m\n\u001b[0;32m---> 30\u001b[0;31m   \u001b[0mserver\u001b[0m\u001b[0;34m.\u001b[0m\u001b[0mbind\u001b[0m\u001b[0;34m(\u001b[0m\u001b[0;34m(\u001b[0m\u001b[0;34m'192.168.1.2'\u001b[0m\u001b[0;34m,\u001b[0m \u001b[0;36m5566\u001b[0m\u001b[0;34m)\u001b[0m\u001b[0;34m)\u001b[0m\u001b[0;34m\u001b[0m\u001b[0;34m\u001b[0m\u001b[0m\n\u001b[0m\u001b[1;32m     31\u001b[0m   \u001b[0;31m# 3.开启监听 - 监听客户端连接到服务器\u001b[0m\u001b[0;34m\u001b[0m\u001b[0;34m\u001b[0m\u001b[0;34m\u001b[0m\u001b[0m\n\u001b[1;32m     32\u001b[0m   \u001b[0mserver\u001b[0m\u001b[0;34m.\u001b[0m\u001b[0mlisten\u001b[0m\u001b[0;34m(\u001b[0m\u001b[0;36m512\u001b[0m\u001b[0;34m)\u001b[0m\u001b[0;34m\u001b[0m\u001b[0;34m\u001b[0m\u001b[0m\n",
            "\u001b[0;31mOSError\u001b[0m: [Errno 99] Cannot assign requested address"
          ]
        }
      ]
    },
    {
      "cell_type": "code",
      "metadata": {
        "id": "sACTM579E-Ag",
        "colab_type": "code",
        "outputId": "2a0fe82a-172a-40d9-c1bd-57590f67830f",
        "colab": {
          "base_uri": "https://localhost:8080/",
          "height": 102
        }
      },
      "source": [
        "import re\n",
        "\n",
        "phone_numbers = [\n",
        "    \"(123) 456-7890\",\n",
        "    \"1234567890\",\n",
        "    \"123.456.7890\",\n",
        "    \"+1 123 456-7890\"\n",
        "]\n",
        "\n",
        "new_numbers = []\n",
        "R = re.compile(r\"\\d\")                         \n",
        "\n",
        "for number in phone_numbers:                  \n",
        "  digits = R.findall(number)\n",
        "  print(digits)\n",
        "  area_code = \"\".join(digits[-10:-7])         \n",
        "  first_3 = \"\".join(digits[-7:-4])\n",
        "  last_4 = \"\".join(digits[-4:len(digits)])\n",
        "  pretty_format = \"({}) {}-{}\".format(area_code,first_3,last_4)\n",
        "  new_numbers.append(pretty_format)\n",
        "\n",
        "print(new_numbers)          "
      ],
      "execution_count": 0,
      "outputs": [
        {
          "output_type": "stream",
          "text": [
            "['1', '2', '3', '4', '5', '6', '7', '8', '9', '0']\n",
            "['1', '2', '3', '4', '5', '6', '7', '8', '9', '0']\n",
            "['1', '2', '3', '4', '5', '6', '7', '8', '9', '0']\n",
            "['1', '1', '2', '3', '4', '5', '6', '7', '8', '9', '0']\n",
            "['(123) 456-7890', '(123) 456-7890', '(123) 456-7890', '(123) 456-7890']\n"
          ],
          "name": "stdout"
        }
      ]
    },
    {
      "cell_type": "code",
      "metadata": {
        "id": "nApLefqZGKnS",
        "colab_type": "code",
        "outputId": "82e49d50-1e1f-4ccf-e1b3-fc9a332c476b",
        "colab": {
          "base_uri": "https://localhost:8080/",
          "height": 34
        }
      },
      "source": [
        "import re\n",
        "\n",
        "class PhoneFormatter:                              \n",
        "  def __init__(self):                              \n",
        "    self.r = re.compile(r\"\\d\")\n",
        "\n",
        "  def pretty_format(self, phone_number):           \n",
        "    phone_numbers = self.r.findall(phone_number)\n",
        "    area_code = \"\".join(phone_numbers[-10:-7])     \n",
        "    first_3 = \"\".join(phone_numbers[-7:-4])\n",
        "    last_4 = \"\".join(phone_numbers[-4:len(phone_numbers)])\n",
        "    return f\"({area_code}) {first_3}-{last_4}\"\n",
        "\n",
        "phone_numbers = [                                   \n",
        "  \"(123) 456-7890\",\n",
        "  \"1234567890\",\n",
        "  \"123.456.7890\",\n",
        "  \"+1 123 456-7890\"\n",
        "]\n",
        "\n",
        "P = PhoneFormatter ()                               \n",
        "print(list(map(P.pretty_format, phone_numbers)))    "
      ],
      "execution_count": 0,
      "outputs": [
        {
          "output_type": "stream",
          "text": [
            "['(123) 456-7890', '(123) 456-7890', '(123) 456-7890', '(123) 456-7890']\n"
          ],
          "name": "stdout"
        }
      ]
    },
    {
      "cell_type": "code",
      "metadata": {
        "id": "nPiJ2RpzHXms",
        "colab_type": "code",
        "colab": {}
      },
      "source": [
        "from datetime import date\n",
        "\n",
        "def days_between(start, stop):\n",
        "  today = date()\n"
      ],
      "execution_count": 0,
      "outputs": []
    },
    {
      "cell_type": "code",
      "metadata": {
        "id": "0IA99kIHZ2xR",
        "colab_type": "code",
        "colab": {
          "base_uri": "https://localhost:8080/",
          "height": 1000
        },
        "outputId": "ceb0c744-c0a4-44df-efd5-dea37a1c466d"
      },
      "source": [
        "import json\n",
        "from urllib import request, parse\n",
        "import pprint\n",
        "\n",
        "def flatten_network(page):\n",
        "  return page[\"in-links\"]+page[\"out-links\"]\n",
        "\n",
        "def links_to_title(link):\n",
        "  return link['title']\n",
        "\n",
        "def clean_if_key(page, key):\n",
        "  if key in page.keys():\n",
        "    return map(links_to_title, page[key])\n",
        "  else:\n",
        "    return []\n",
        "\n",
        "\n",
        "def get_wiki_links(pageTitle):\n",
        "  safe_title = parse.quote(pageTitle)\n",
        "  url = f\"https://en.wikipedia.org/w/api.php?action=query&prop=links|linkshere&pllimit=500&lhlimit=500&titles={safe_title}&format=json&formatversion=2\"\n",
        "  page = request.urlopen(url).read()\n",
        "  j = json.loads(page)\n",
        "  jpage = j['query']['pages'][0]\n",
        "  inbound = clean_if_key(jpage, \"links\")\n",
        "  outbound = clean_if_key(jpage, 'linkshere')\n",
        "  return {\"title\": pageTitle, \"in-links\":list(inbound), \"out-links\":list(outbound)}\n",
        "\n",
        "root = get_wiki_links (\"Parallel_computing\")\n",
        "initial_network = flatten_network(root)\n",
        "pprint.pprint(initial_network)"
      ],
      "execution_count": 22,
      "outputs": [
        {
          "output_type": "stream",
          "text": [
            "['16-bit',\n",
            " '4-bit',\n",
            " '64-bit',\n",
            " '8-bit',\n",
            " 'AMD',\n",
            " 'AMD FireStream',\n",
            " 'Actor model theory',\n",
            " 'Address space',\n",
            " 'Algorithm',\n",
            " 'Algorithmic skeleton',\n",
            " 'AltiVec',\n",
            " \"Amdahl's law\",\n",
            " 'Analysis of parallel algorithms',\n",
            " 'Analytic Engine',\n",
            " 'Apple Inc.',\n",
            " 'Application-specific integrated circuit',\n",
            " 'Application checkpointing',\n",
            " 'Application programming interface',\n",
            " 'Array data structure',\n",
            " 'Asymmetric multiprocessing',\n",
            " 'Ateji PX',\n",
            " 'Atomic commit',\n",
            " 'Atomic lock',\n",
            " 'Atomic operation',\n",
            " 'Automatic parallelization',\n",
            " 'Automatic vectorization',\n",
            " 'Bandwidth (computing)',\n",
            " 'Barnes–Hut simulation',\n",
            " 'Barrier (computer science)',\n",
            " 'Bayesian network',\n",
            " 'Beowulf (computing)',\n",
            " 'Berkeley Open Infrastructure for Network Computing',\n",
            " 'Bioinformatics',\n",
            " 'Bit-level parallelism',\n",
            " 'Blue Gene',\n",
            " 'Boost (C++ libraries)',\n",
            " 'Branch and bound',\n",
            " 'BrookGPU',\n",
            " 'Brute force attack',\n",
            " 'Bulldozer (microarchitecture)',\n",
            " 'Burroughs Corporation',\n",
            " 'Burst buffer',\n",
            " 'Bus (computing)',\n",
            " 'Bus contention',\n",
            " 'Bus sniffing',\n",
            " 'C++ AMP',\n",
            " 'C.mmp',\n",
            " 'CAPS entreprise',\n",
            " 'CPU bound',\n",
            " 'CPU cache',\n",
            " 'CPU socket',\n",
            " 'CUDA',\n",
            " 'C (programming language)',\n",
            " 'C programming language',\n",
            " 'C to HDL',\n",
            " 'Cache-only memory architecture',\n",
            " 'Cache coherence',\n",
            " 'Cache coherency',\n",
            " 'Cache invalidation',\n",
            " 'Calculus of Communicating Systems',\n",
            " 'Capacitance',\n",
            " 'Carnegie Mellon University',\n",
            " 'Carry bit',\n",
            " 'Cell (microprocessor)',\n",
            " 'Central processing unit',\n",
            " 'Chapel (programming language)',\n",
            " 'Charles Babbage',\n",
            " 'Charm++',\n",
            " 'Cilk',\n",
            " 'CiteSeerX (identifier)',\n",
            " 'Cloud computing',\n",
            " 'Coarray Fortran',\n",
            " 'Combinational logic',\n",
            " 'Commercial off-the-shelf',\n",
            " 'Communicating Sequential Processes',\n",
            " 'Compiler',\n",
            " 'Compute kernel',\n",
            " 'Compute shader',\n",
            " 'Computer architecture',\n",
            " 'Computer cluster',\n",
            " 'Computer data storage',\n",
            " 'Computer graphics',\n",
            " 'Computer hardware',\n",
            " 'Computer industry',\n",
            " 'Computer multitasking',\n",
            " 'Computer network',\n",
            " 'Computer networking',\n",
            " 'Computer performance',\n",
            " 'Computer programming',\n",
            " 'Computer software',\n",
            " 'Computerworld',\n",
            " 'Computing',\n",
            " 'Concurrency (computer science)',\n",
            " 'Concurrent computing',\n",
            " 'Consistency model',\n",
            " 'Content Addressable Parallel Processor',\n",
            " 'Control unit',\n",
            " 'Cooley–Tukey FFT algorithm',\n",
            " 'Core dump',\n",
            " 'Cost efficiency',\n",
            " 'Cray',\n",
            " 'Cray-1',\n",
            " 'Critical path method',\n",
            " 'Critical section',\n",
            " 'Crossbar switch',\n",
            " 'Curlie',\n",
            " 'DIME-C',\n",
            " 'DRC Computer Corporation',\n",
            " 'Daniel Slotnick',\n",
            " 'Data dependency',\n",
            " 'Data parallelism',\n",
            " 'Database management system',\n",
            " 'Dataflow architecture',\n",
            " 'Dataflow programming',\n",
            " 'David A. Patterson (scientist)',\n",
            " 'David Patterson (computer scientist)',\n",
            " 'Deadlock',\n",
            " 'Desktop computers',\n",
            " 'Deterministic algorithm',\n",
            " 'Directive (programming)',\n",
            " 'Distributed computing',\n",
            " 'Distributed memory',\n",
            " 'Distributed shared memory',\n",
            " 'Doi (identifier)',\n",
            " 'Domain-specific programming language',\n",
            " 'Donald Becker',\n",
            " 'Dryad (programming)',\n",
            " 'Dynamic programming',\n",
            " 'Embarrassingly parallel',\n",
            " 'Ernest Hilgard',\n",
            " 'Ernest Ropiequet \"Jack\" Hilgard',\n",
            " 'Error correction',\n",
            " 'Error detection',\n",
            " 'Ethernet',\n",
            " 'Execution unit',\n",
            " 'Explicit parallelism',\n",
            " 'FPGA',\n",
            " 'Fault-tolerant computer system',\n",
            " 'Fiber (computer science)',\n",
            " 'Field-programmable gate array',\n",
            " 'Finite-state machine',\n",
            " 'Finite element analysis',\n",
            " 'Floating-point',\n",
            " \"Flynn's taxonomy\",\n",
            " 'Folding@home',\n",
            " 'Fortran',\n",
            " 'Freescale Semiconductor',\n",
            " 'Frequency scaling',\n",
            " 'Futures and promises',\n",
            " 'GPGPU',\n",
            " 'General-purpose computing on graphics processing units',\n",
            " 'George Gurdjieff',\n",
            " 'Gigabit Ethernet',\n",
            " 'Global Arrays',\n",
            " 'Graph traversal',\n",
            " 'Graphical model',\n",
            " 'Graphics processing unit',\n",
            " 'Grid computing',\n",
            " 'Gröbner basis',\n",
            " \"Gustafson's law\",\n",
            " 'HPX',\n",
            " 'Handel-C',\n",
            " 'Hardware acceleration',\n",
            " 'Hardware description language',\n",
            " 'Hardware scout',\n",
            " 'Haskell (programming language)',\n",
            " 'Heterogeneous-compute Interface for Portability',\n",
            " 'Hidden Markov model',\n",
            " 'High-performance computing',\n",
            " 'High performance computing',\n",
            " 'History of computing',\n",
            " 'Honeywell',\n",
            " 'Hybrid multi-core parallel programming',\n",
            " 'Hyper-Threading',\n",
            " 'HyperTransport',\n",
            " 'Hypercube graph',\n",
            " 'IBM',\n",
            " 'ILLIAC IV',\n",
            " 'ISBN (identifier)',\n",
            " 'Implicit parallelism',\n",
            " 'Impulse C',\n",
            " 'InfiniBand',\n",
            " 'Infiniband',\n",
            " 'Inline code',\n",
            " 'Instruction-level parallelism',\n",
            " 'Instruction pipelining',\n",
            " 'Instruction set',\n",
            " 'Instruction window',\n",
            " 'Instructions per cycle',\n",
            " 'Integer',\n",
            " 'Intel',\n",
            " 'Inter-process communication',\n",
            " 'Internet',\n",
            " 'James Larus',\n",
            " 'John Cocke',\n",
            " 'John L. Hennessy',\n",
            " 'Joseph E. LeDoux',\n",
            " 'Karp–Flatt metric',\n",
            " 'Latency (engineering)',\n",
            " 'Lattice Boltzmann methods',\n",
            " 'Lawrence Livermore National Laboratory',\n",
            " 'Leslie Lamport',\n",
            " 'Library (computing)',\n",
            " 'Linear algebra',\n",
            " 'List of concurrent and parallel programming languages',\n",
            " 'List of distributed computing conferences',\n",
            " 'List of distributed computing projects',\n",
            " 'List of important publications in concurrent, parallel, and distributed '\n",
            " 'computing',\n",
            " 'Load balancing (computing)',\n",
            " 'Local area network',\n",
            " 'Lock-free and wait-free algorithms',\n",
            " 'Lock (computer science)',\n",
            " 'Lockstep (computing)',\n",
            " 'Loop-level parallelism',\n",
            " 'Loop unwinding',\n",
            " 'Luigi Federico Menabrea',\n",
            " 'MIMD',\n",
            " 'MISD',\n",
            " 'MIT Computer Science and Artificial Intelligence Laboratory',\n",
            " 'MPMD',\n",
            " 'Manycore',\n",
            " 'Manycore processor',\n",
            " 'Marvin Minsky',\n",
            " 'Massively parallel',\n",
            " 'Massively parallel (computing)',\n",
            " 'Mathematical finance',\n",
            " 'Matrix (mathematics)',\n",
            " 'Mean time between failures',\n",
            " 'Memory-level parallelism',\n",
            " 'Memory coherence',\n",
            " 'Memory latency',\n",
            " 'Memory virtualization',\n",
            " 'Mesh networking',\n",
            " 'Message Passing Interface',\n",
            " 'Message passing',\n",
            " 'Meteorology',\n",
            " 'Michael Gazzaniga',\n",
            " 'Michael J. Flynn',\n",
            " 'Michael S. Gazzaniga',\n",
            " 'Michio Kaku',\n",
            " 'Middleware',\n",
            " 'Mitrion-C',\n",
            " 'Mitrionics',\n",
            " 'Molecular dynamics',\n",
            " 'Monte Carlo method',\n",
            " \"Moore's law\",\n",
            " 'Multi-core',\n",
            " 'Multi-core processor',\n",
            " 'Multics',\n",
            " 'Multiplexing',\n",
            " 'Multiprocessing',\n",
            " 'Multithreading (computer architecture)',\n",
            " 'Mutual exclusion',\n",
            " 'Myrinet',\n",
            " 'N-body problem',\n",
            " 'Network topology',\n",
            " 'Non-blocking algorithm',\n",
            " 'Non-uniform memory access',\n",
            " 'Non-volatile memory',\n",
            " 'Nvidia',\n",
            " 'Nvidia Tesla',\n",
            " 'Object (computer science)',\n",
            " 'OpenACC',\n",
            " 'OpenCL',\n",
            " 'OpenHMPP',\n",
            " 'OpenMP',\n",
            " 'Operating system',\n",
            " 'Out-of-order execution',\n",
            " 'PMID (identifier)',\n",
            " 'POSIX Threads',\n",
            " 'Parallel Extensions',\n",
            " 'Parallel Virtual Machine',\n",
            " 'Parallel algorithm',\n",
            " 'Parallel external memory',\n",
            " 'Parallel programming model',\n",
            " 'Parallel random-access machine',\n",
            " 'Parallel slowdown',\n",
            " 'Parallelism (computing)',\n",
            " 'Parallelization',\n",
            " 'Parallelization (mathematics)',\n",
            " 'Partitioned global address space',\n",
            " 'Pathscale',\n",
            " 'PeakStream',\n",
            " 'Pentium 4',\n",
            " 'Petri net',\n",
            " 'Photolithography',\n",
            " 'Pi calculus',\n",
            " 'Pipeline (computing)',\n",
            " 'PlayStation 3',\n",
            " 'Preemption (computing)',\n",
            " 'Process (computing)',\n",
            " 'Process calculi',\n",
            " 'Processing element',\n",
            " 'Propagation delay',\n",
            " 'Protein folding',\n",
            " 'Pyotr Demianovich Ouspenskii',\n",
            " 'RIKEN MDGRAPE-3',\n",
            " 'Race condition',\n",
            " 'RaftLib',\n",
            " 'RapidMind',\n",
            " 'Reconfigurable computing',\n",
            " 'Reduced Instruction Set Computer',\n",
            " 'Redundancy (engineering)',\n",
            " 'Register renaming',\n",
            " 'Regular grid',\n",
            " 'Relaxed sequential',\n",
            " 'Resource management (computing)',\n",
            " 'Ring network',\n",
            " 'Rob Pike',\n",
            " 'Robert E. Ornstein',\n",
            " 'Robert Ornstein',\n",
            " 'Routing',\n",
            " 'Run time (program lifecycle phase)',\n",
            " 'SETI@home',\n",
            " 'SIMD',\n",
            " 'SISAL',\n",
            " 'SISD',\n",
            " 'SPMD',\n",
            " 'Scalability',\n",
            " 'Scoreboarding',\n",
            " 'Semaphore (programming)',\n",
            " 'Semiconductor memory',\n",
            " 'SequenceL',\n",
            " 'Sequence analysis',\n",
            " 'Sequential algorithm',\n",
            " 'Sequential consistency',\n",
            " 'Serial computation',\n",
            " 'Serializability',\n",
            " 'Server (computing)',\n",
            " 'Seymour Papert',\n",
            " 'Shared memory',\n",
            " 'Shared memory (interprocess communication)',\n",
            " 'Signal processing',\n",
            " 'Simultaneous multithreading',\n",
            " 'Single instruction, multiple threads',\n",
            " 'Society of Mind',\n",
            " 'Software bug',\n",
            " 'Software lockout',\n",
            " 'Software quality',\n",
            " 'Software transactional memory',\n",
            " 'Sony',\n",
            " 'Sorting algorithm',\n",
            " 'Speculative multithreading',\n",
            " 'Speedup',\n",
            " 'Star network',\n",
            " 'Starvation (computer science)',\n",
            " 'Stream processing',\n",
            " 'Streaming SIMD Extensions',\n",
            " 'Supercomputer',\n",
            " 'Supercomputers',\n",
            " 'Superscalar',\n",
            " 'Superscalar processor',\n",
            " 'Symmetric multiprocessing',\n",
            " 'Synapse N+1',\n",
            " 'Synchronization (computer science)',\n",
            " 'Synchronous programming',\n",
            " 'SystemC',\n",
            " 'Systolic array',\n",
            " 'TCP/IP',\n",
            " 'TOP500',\n",
            " 'Task parallelism',\n",
            " 'Tejas and Jayhawk',\n",
            " 'Temporal logic of actions',\n",
            " 'Temporal multithreading',\n",
            " 'The Future of the Mind',\n",
            " 'Thomas R. Blakeslee',\n",
            " 'Thomas Sterling (computing)',\n",
            " 'Thread (computing)',\n",
            " 'Threading Building Blocks',\n",
            " 'Time-sharing',\n",
            " 'Tomasulo algorithm',\n",
            " 'Trace theory',\n",
            " 'Transistor',\n",
            " 'Transputer',\n",
            " 'Tree (graph theory)',\n",
            " 'US Air Force',\n",
            " 'Unified Parallel C',\n",
            " 'Uniform memory access',\n",
            " 'Unstructured grid',\n",
            " 'Upper bound',\n",
            " 'VHDL',\n",
            " 'Variable (programming)',\n",
            " 'Vector processing',\n",
            " 'Vector processor',\n",
            " 'Verilog',\n",
            " 'Very-large-scale integration',\n",
            " 'Voltage',\n",
            " 'Wayback Machine',\n",
            " 'Word (data type)',\n",
            " 'X86-64',\n",
            " 'Yale Patt',\n",
            " 'ZPL (programming language)',\n",
            " 'Wikipedia:Featured articles',\n",
            " 'Wikipedia:Media help',\n",
            " 'Wikipedia:Spoken articles',\n",
            " 'File:En-Parallel computing.ogg',\n",
            " 'Template:Parallel computing',\n",
            " 'Template talk:Parallel computing',\n",
            " 'Category:Parallel computing',\n",
            " 'Artificial intelligence',\n",
            " 'Ada (programming language)',\n",
            " 'Atanasoff–Berry computer',\n",
            " 'APL (programming language)',\n",
            " 'Array data structure',\n",
            " 'Analysis of algorithms',\n",
            " \"Amdahl's law\",\n",
            " 'Advanced Power Management',\n",
            " 'Bioinformatics',\n",
            " 'Combinatorics',\n",
            " 'Computing',\n",
            " 'Central processing unit',\n",
            " 'Computer programming',\n",
            " 'Computer science',\n",
            " 'Computational linguistics',\n",
            " 'Cognitive science',\n",
            " 'Computer program',\n",
            " 'Category theory',\n",
            " 'Computational chemistry',\n",
            " 'Cube',\n",
            " 'Computational complexity',\n",
            " 'Control unit',\n",
            " 'Control store',\n",
            " 'Rendering (computer graphics)',\n",
            " 'Computer animation',\n",
            " 'Computer memory',\n",
            " 'Computer multitasking',\n",
            " 'Computer security',\n",
            " 'Computational complexity theory',\n",
            " 'Processor design',\n",
            " 'Complex instruction set computer',\n",
            " 'Database',\n",
            " 'Distributed computing',\n",
            " 'DirectX',\n",
            " 'DEC Alpha',\n",
            " 'E-commerce',\n",
            " 'Execution unit',\n",
            " 'Edsger W. Dijkstra',\n",
            " 'Fibonacci number',\n",
            " 'Functional programming',\n",
            " 'Field-programmable gate array',\n",
            " 'Fortran',\n",
            " 'Fast Fourier transform',\n",
            " 'Graph theory',\n",
            " 'Grid network',\n",
            " 'Intel',\n",
            " 'Information theory',\n",
            " 'Information security',\n",
            " 'Instruction register',\n",
            " 'Integrated circuit',\n",
            " 'Itanium',\n",
            " 'Knowledge representation and reasoning',\n",
            " 'Logic programming',\n",
            " 'Literate programming',\n",
            " 'Lambda calculus',\n",
            " 'Microprocessor',\n",
            " 'Mathematical logic',\n",
            " 'Microcode',\n",
            " 'Microassembler',\n",
            " 'MIPS architecture',\n",
            " 'Macro (computer science)',\n",
            " 'Instructions per second',\n",
            " 'Microcontroller',\n",
            " 'Mach (kernel)',\n",
            " 'Numerical analysis',\n",
            " 'Number theory',\n",
            " 'NC (complexity)',\n",
            " 'Operating system',\n",
            " 'Pakistan',\n",
            " 'Procedural programming',\n",
            " 'PowerPC',\n",
            " 'PA-RISC',\n",
            " 'Quantum computing',\n",
            " 'Real-time computing',\n",
            " 'Render farm',\n",
            " 'Radix sort',\n",
            " 'Ray tracing (graphics)',\n",
            " 'Reduced instruction set computer',\n",
            " 'Software engineering',\n",
            " 'Set theory',\n",
            " 'Structured programming',\n",
            " 'Sound card',\n",
            " 'Safe semantics',\n",
            " 'Synchronization',\n",
            " 'Steelman language requirements',\n",
            " 'Software testing',\n",
            " 'Self-replication',\n",
            " 'Theory of computation',\n",
            " 'Tesseract',\n",
            " 'Ubiquitous computing',\n",
            " 'Virtual machine',\n",
            " 'VAX',\n",
            " 'Virtual reality',\n",
            " 'Very Large Scale Integration',\n",
            " 'Wearable computer',\n",
            " 'Web crawler',\n",
            " 'X86',\n",
            " 'SPARC',\n",
            " 'Floating-point unit',\n",
            " 'Supercomputer',\n",
            " 'Multiplexer',\n",
            " 'Lawrence Livermore National Laboratory',\n",
            " 'Nvidia',\n",
            " 'Type theory',\n",
            " 'Optimizing compiler',\n",
            " 'Non-uniform memory access',\n",
            " 'Distributed database',\n",
            " 'Frame rate',\n",
            " 'Message',\n",
            " 'Network architecture',\n",
            " 'Data mining',\n",
            " 'Enterprise JavaBeans',\n",
            " 'VHDL',\n",
            " '8-bit computing',\n",
            " 'Process (computing)',\n",
            " 'User interface',\n",
            " 'Thread (computing)',\n",
            " 'Gecko (software)',\n",
            " 'Embedded system',\n",
            " 'Instruction set architecture',\n",
            " 'Golomb ruler',\n",
            " 'GNU Octave',\n",
            " 'Wolfram Mathematica',\n",
            " 'Grid computing',\n",
            " 'Deep Blue (chess computer)',\n",
            " 'Talk:Microprocessor',\n",
            " 'Symmetric multiprocessing',\n",
            " 'Computer engineering',\n",
            " 'Superscalar processor',\n",
            " 'Very long instruction word',\n",
            " 'Inductive logic programming',\n",
            " 'SIMD',\n",
            " 'Harvard architecture',\n",
            " 'Vector processor',\n",
            " 'CDC 6600',\n",
            " 'Secure cryptoprocessor',\n",
            " 'Interpreter (computing)',\n",
            " 'Program counter',\n",
            " 'Rasterisation',\n",
            " 'ARM architecture',\n",
            " 'Peripheral',\n",
            " 'Prototype-based programming',\n",
            " 'Event-driven programming',\n",
            " 'Multiprocessing',\n",
            " 'Reinforcement learning',\n",
            " 'Beowulf cluster',\n",
            " 'Connection Machine',\n",
            " 'C++',\n",
            " 'Programmable logic device',\n",
            " 'Parallel',\n",
            " 'Whirlwind I',\n",
            " 'Magnetic-core memory',\n",
            " 'Convex Computer',\n",
            " '32-bit computing',\n",
            " 'Computing platform',\n",
            " 'Thinking Machines Corporation',\n",
            " 'FLOPS',\n",
            " 'Information Age',\n",
            " 'Transputer',\n",
            " 'The Age of Spiritual Machines',\n",
            " 'C shell',\n",
            " 'Algorithmics',\n",
            " 'Index of computing articles',\n",
            " 'System on a chip',\n",
            " 'SuperH',\n",
            " 'Automata theory',\n",
            " 'Deadlock',\n",
            " 'Generic programming',\n",
            " 'Computational physics',\n",
            " 'Talk:Distributed computing',\n",
            " 'Microsequencer',\n",
            " 'Intel i860',\n",
            " 'NCUBE',\n",
            " 'IWarp',\n",
            " 'List of programming languages by type',\n",
            " 'Algorithmic efficiency',\n",
            " 'Parallel computer',\n",
            " 'Aspect-oriented programming',\n",
            " 'Blitter',\n",
            " 'Application-specific integrated circuit',\n",
            " 'Digital art',\n",
            " '64-bit computing',\n",
            " 'GeForce',\n",
            " 'Parallel algorithm',\n",
            " 'Framebuffer',\n",
            " 'Hyper-threading',\n",
            " 'One-instruction set computer',\n",
            " 'Z3 (computer)',\n",
            " 'Digital signal processor',\n",
            " 'Computability theory',\n",
            " 'MIMD',\n",
            " 'Consciousness Explained',\n",
            " 'BogoMips',\n",
            " 'Formal methods',\n",
            " 'Iterative and incremental development',\n",
            " 'PARAM',\n",
            " 'Outline of computer science',\n",
            " 'Dynamic recompilation',\n",
            " 'Make (software)',\n",
            " 'Cache coherence',\n",
            " 'Computational geometry',\n",
            " 'Memory management unit',\n",
            " 'Concurrent process',\n",
            " 'Description logic',\n",
            " 'David H. Bailey (mathematician)',\n",
            " 'Scalability',\n",
            " 'Reconfigurable computing',\n",
            " 'Apollo Guidance Computer',\n",
            " 'Compilers: Principles, Techniques, and Tools',\n",
            " 'Programming paradigm',\n",
            " 'Constraint programming',\n",
            " 'IAS machine',\n",
            " \"Borůvka's algorithm\",\n",
            " 'Imperative programming',\n",
            " 'Template metaprogramming',\n",
            " 'Molecular dynamics',\n",
            " 'Talk:Oracle Corporation',\n",
            " 'Orthogonalization',\n",
            " 'Declarative programming',\n",
            " 'Firefox',\n",
            " 'Instructions per cycle',\n",
            " 'Electronic design automation',\n",
            " 'User:º¡º',\n",
            " 'Instruction pipelining',\n",
            " 'Message Passing Interface',\n",
            " 'Parallel Virtual Machine',\n",
            " 'Parallel processor',\n",
            " \"Flynn's taxonomy\",\n",
            " 'Parallel computation',\n",
            " 'Software design',\n",
            " 'Carl Adam Petri',\n",
            " 'Performance tuning',\n",
            " 'Comparison of multi-paradigm programming languages',\n",
            " 'Clock rate',\n",
            " 'Machine learning',\n",
            " 'Affective computing',\n",
            " 'Dynamic programming language',\n",
            " 'Distributed memory',\n",
            " 'Extract, transform, load',\n",
            " 'Rapid application development',\n",
            " 'Outline of academic disciplines',\n",
            " 'Coroutine',\n",
            " 'Parallel programming',\n",
            " 'Parallel Programming',\n",
            " 'Instruction-level parallelism',\n",
            " 'Gene Amdahl',\n",
            " 'Software development',\n",
            " 'BBN Technologies',\n",
            " 'DNA computing',\n",
            " 'Quadrics',\n",
            " 'Numerical methods for ordinary differential equations',\n",
            " 'Power management',\n",
            " 'Consistency model',\n",
            " 'Cray X-MP',\n",
            " 'Carnegie Mellon School of Computer Science',\n",
            " 'Carl Sassenrath',\n",
            " 'Society of Mind',\n",
            " 'User talk:Wakka',\n",
            " 'Guy L. Steele Jr.',\n",
            " 'User:Stephane Simard',\n",
            " 'AMBER',\n",
            " 'Parallel computers',\n",
            " 'Barrel shifter',\n",
            " 'Reflection (computer programming)',\n",
            " 'Simultaneous multithreading',\n",
            " 'Speculative execution',\n",
            " 'Standard Performance Evaluation Corporation',\n",
            " 'Theoretical computer science',\n",
            " 'Myrmecology',\n",
            " 'Danny Hillis',\n",
            " 'Moore–Penrose inverse',\n",
            " 'Memory-mapped I/O',\n",
            " 'Skip list',\n",
            " 'Back-side bus',\n",
            " 'Sparse matrix',\n",
            " 'Assignment (computer science)',\n",
            " 'Modeling language',\n",
            " 'Fifth generation computer',\n",
            " 'Gordon Bell',\n",
            " 'Systolic array',\n",
            " 'Wikipedia:WikiProject Computing',\n",
            " 'List of computability and complexity topics',\n",
            " 'Concurrent language',\n",
            " 'Notebook processor',\n",
            " 'Mobile processor',\n",
            " 'Coprocessor',\n",
            " 'OpenMP',\n",
            " 'Block (programming)',\n",
            " 'Index register',\n",
            " 'University of Illinois at Urbana–Champaign',\n",
            " 'Serpent (cipher)',\n",
            " 'Graphics processing unit',\n",
            " 'Tomasulo algorithm',\n",
            " 'Hazard (computer architecture)',\n",
            " 'Metaprogramming',\n",
            " 'Electric Sheep',\n",
            " 'Memory coherence',\n",
            " 'Distributed shared memory',\n",
            " 'Radeon',\n",
            " 'Multiply–accumulate operation',\n",
            " 'Time complexity',\n",
            " 'Computer accessibility',\n",
            " 'Folding@home',\n",
            " 'Classic RISC pipeline',\n",
            " 'Branch predictor',\n",
            " 'Application checkpointing',\n",
            " 'Digital organism',\n",
            " 'Alliant Computer Systems',\n",
            " 'Adder (electronics)',\n",
            " 'Hydrogeology',\n",
            " 'Register renaming',\n",
            " 'Concurrent event',\n",
            " 'Prefetch input queue',\n",
            " 'Fractint',\n",
            " 'List of important publications in computer science',\n",
            " 'For loop',\n",
            " 'Von Neumann architecture',\n",
            " 'BiiN',\n",
            " 'LINPACK',\n",
            " 'Processor register',\n",
            " 'Split-brain',\n",
            " 'DEC Prism',\n",
            " 'Touch typing',\n",
            " 'Domain-specific language',\n",
            " '4-bit computing',\n",
            " 'Requirements analysis',\n",
            " 'Free monoid',\n",
            " 'Computer Science and Engineering',\n",
            " 'Flowchart',\n",
            " 'Translation lookaside buffer',\n",
            " 'Multidisciplinary design optimization',\n",
            " 'Talk:Computing Machinery and Intelligence',\n",
            " 'Non-blocking algorithm',\n",
            " 'Sorting network',\n",
            " 'Generator (computer programming)',\n",
            " 'Weitek',\n",
            " 'Computer Parallelism',\n",
            " 'Instruction cycle',\n",
            " 'Sistina Software',\n",
            " 'Quadratic sieve',\n",
            " 'Ant colony optimization algorithms',\n",
            " 'Obliq',\n",
            " 'David Gelernter',\n",
            " 'MythBusters',\n",
            " 'Compare-and-swap',\n",
            " 'POSIX Threads',\n",
            " 'CubeSat',\n",
            " 'Jack Dongarra',\n",
            " 'NX bit',\n",
            " 'Visualization (graphics)',\n",
            " 'Dependability',\n",
            " 'Persistent data structure',\n",
            " 'User:HansWobbe',\n",
            " 'Explicitly parallel instruction computing',\n",
            " 'ALGOL 68',\n",
            " 'Boost (C++ libraries)',\n",
            " 'Wikipedia:Offline reports/This article links to a redirect back to itself',\n",
            " 'List of file systems',\n",
            " 'Geometric Arithmetic Parallel Processor',\n",
            " 'Penguin (missile)',\n",
            " 'Software maintenance',\n",
            " 'Network service',\n",
            " 'Granularity',\n",
            " 'Addressing mode',\n",
            " 'CPU cache',\n",
            " 'Sartaj Sahni',\n",
            " 'CORDIC',\n",
            " 'Per Brinch Hansen',\n",
            " 'Temporal multithreading',\n",
            " 'ZPL (programming language)',\n",
            " 'Array programming',\n",
            " 'Concatenative programming language',\n",
            " 'Class-based programming',\n",
            " 'Value-level programming',\n",
            " 'Programming domain',\n",
            " 'Function-level programming',\n",
            " 'Coarray Fortran',\n",
            " 'Cache-only memory architecture',\n",
            " 'Stack-oriented programming',\n",
            " '36-bit computing',\n",
            " 'Concurrency (computer science)',\n",
            " 'Modular programming',\n",
            " 'List of eponymous laws',\n",
            " 'MultiLisp',\n",
            " 'Expression-oriented programming language',\n",
            " 'Cilk',\n",
            " 'YafaRay',\n",
            " 'Diakoptics',\n",
            " 'Parallel random-access machine',\n",
            " 'Category:Parallel computing',\n",
            " 'Parallel machine',\n",
            " 'MISD',\n",
            " 'COMEFROM',\n",
            " 'Out-of-order execution',\n",
            " 'MPICH',\n",
            " 'Role-oriented programming',\n",
            " 'Cray-3',\n",
            " 'Loop unrolling',\n",
            " 'James Rumbaugh',\n",
            " 'Unified Parallel C',\n",
            " 'Inmos',\n",
            " 'User:Liao',\n",
            " 'Complex programmable logic device',\n",
            " 'Dataflow programming',\n",
            " 'High Performance Fortran',\n",
            " 'SPMD',\n",
            " 'Scalable Link Interface',\n",
            " 'Geometry pipelines',\n",
            " 'Shader',\n",
            " 'Google',\n",
            " 'Bryce (software)',\n",
            " 'SISD',\n",
            " 'Automatic programming',\n",
            " 'Gauss–Newton algorithm',\n",
            " 'Arm DDT',\n",
            " 'Computational science',\n",
            " 'ScientificPython',\n",
            " 'Pipeline (computing)',\n",
            " 'General-purpose computing on graphics processing units',\n",
            " 'TLS acceleration',\n",
            " 'Orthogonal instruction set',\n",
            " 'Esterel',\n",
            " 'Software quality',\n",
            " 'Scan-Line Interleave',\n",
            " 'Talk:Parallel computing',\n",
            " 'Dataflow architecture',\n",
            " 'Talk:Massively parallel (disambiguation)',\n",
            " 'Ames Laboratory',\n",
            " 'ILLIAC',\n",
            " 'Ian Foster',\n",
            " 'Charles E. Leiserson',\n",
            " 'Microarchitecture',\n",
            " 'Ab Initio Software',\n",
            " 'MPQC',\n",
            " 'PowerVR',\n",
            " 'Graphics pipeline',\n",
            " 'Reyes rendering',\n",
            " 'Inverse distance weighting',\n",
            " 'Speedup',\n",
            " 'Network processor',\n",
            " 'Commodity computing',\n",
            " 'Language-oriented programming',\n",
            " 'Talk:Concurrent programming language',\n",
            " 'Network performance',\n",
            " 'Physics processing unit',\n",
            " 'Word (computer architecture)',\n",
            " 'Courant Institute of Mathematical Sciences',\n",
            " 'Numerical methods for partial differential equations',\n",
            " 'Clipper architecture',\n",
            " 'Green computing',\n",
            " 'Distributed ray tracing',\n",
            " 'Stephen C. Johnson',\n",
            " 'Lockstep (computing)',\n",
            " 'User talk:Eequor/Reference/Google Gulp',\n",
            " 'Register file',\n",
            " 'Ferranti Mercury',\n",
            " 'User:BenFrantzDale',\n",
            " 'Networking hardware',\n",
            " 'MapReduce',\n",
            " 'UNIVAC III',\n",
            " 'Robert van de Geijn',\n",
            " 'Hopsan',\n",
            " 'Embarrassingly parallel',\n",
            " 'Degree of parallelism',\n",
            " 'Multigrid method',\n",
            " 'MicroBlaze',\n",
            " 'David Bader (computer scientist)',\n",
            " 'Graphics software',\n",
            " 'IEC 61131-3',\n",
            " 'Programming in the large and programming in the small',\n",
            " '128-bit computing',\n",
            " 'Loop optimization',\n",
            " 'Loop dependence analysis',\n",
            " 'Z/Architecture',\n",
            " 'Athlon 64 X2',\n",
            " 'Suhas Patil',\n",
            " 'Apophysis (software)',\n",
            " 'Talk:Function composition (computer science)',\n",
            " 'X10 (programming language)',\n",
            " 'Unicore',\n",
            " 'Zero instruction set computer',\n",
            " 'Ease (programming language)',\n",
            " 'NEC SX',\n",
            " 'Stackless Python',\n",
            " 'Microthread',\n",
            " 'IBM Deep Thunder',\n",
            " 'Google data centers',\n",
            " 'Hardware acceleration',\n",
            " 'Portal:Technology',\n",
            " 'Fault tolerance',\n",
            " 'Attribute-oriented programming',\n",
            " 'High-dynamic-range rendering',\n",
            " '*Lisp',\n",
            " 'Quantum programming',\n",
            " 'NAS Parallel Benchmarks',\n",
            " 'Custom hardware attack',\n",
            " 'Bicameralism (psychology)',\n",
            " 'Jacob T. Schwartz',\n",
            " 'Concurrent (programming)',\n",
            " 'Spaghetti sort']\n"
          ],
          "name": "stdout"
        }
      ]
    },
    {
      "cell_type": "code",
      "metadata": {
        "id": "Su6j1OFoHoEF",
        "colab_type": "code",
        "colab": {
          "base_uri": "https://localhost:8080/",
          "height": 68
        },
        "outputId": "dddef14d-a7f2-4a78-c685-a94e3b4864f5"
      },
      "source": [
        "my_list = ['1', '2', '3', '4', '5', '6', '7', '8', '9', '0']\n",
        "\n",
        "list_iter = iter(my_list)\n",
        "print(next(list_iter))\n",
        "print(next(list_iter))\n",
        "print(next(list_iter))"
      ],
      "execution_count": 2,
      "outputs": [
        {
          "output_type": "stream",
          "text": [
            "1\n",
            "2\n",
            "3\n"
          ],
          "name": "stdout"
        }
      ]
    },
    {
      "cell_type": "code",
      "metadata": {
        "id": "o2vkxPoYRvVc",
        "colab_type": "code",
        "colab": {
          "base_uri": "https://localhost:8080/",
          "height": 187
        },
        "outputId": "d57af7f3-ed68-4f00-8191-4eae2477c7f0"
      },
      "source": [
        "def mygen():\n",
        "  number = 0\n",
        "  while True:\n",
        "    yield number\n",
        "    number += 1\n",
        "\n",
        "for _ in range(10):\n",
        "  print(next( mygen()))"
      ],
      "execution_count": 13,
      "outputs": [
        {
          "output_type": "stream",
          "text": [
            "0\n",
            "0\n",
            "0\n",
            "0\n",
            "0\n",
            "0\n",
            "0\n",
            "0\n",
            "0\n",
            "0\n"
          ],
          "name": "stdout"
        }
      ]
    },
    {
      "cell_type": "code",
      "metadata": {
        "id": "0A7dAOnUVkOB",
        "colab_type": "code",
        "colab": {
          "base_uri": "https://localhost:8080/",
          "height": 34
        },
        "outputId": "c8c42497-03d8-4d40-8cd6-2f5eb992942e"
      },
      "source": [
        "import numpy as np\n",
        "\n",
        "a = np.array([1, 2, 3])\n",
        "print(a)"
      ],
      "execution_count": 16,
      "outputs": [
        {
          "output_type": "stream",
          "text": [
            "[1 2 3]\n"
          ],
          "name": "stdout"
        }
      ]
    },
    {
      "cell_type": "code",
      "metadata": {
        "id": "neiCROFsWE-2",
        "colab_type": "code",
        "colab": {
          "base_uri": "https://localhost:8080/",
          "height": 265
        },
        "outputId": "862b94da-db35-4993-b897-7cc1dc78fec5"
      },
      "source": [
        "import matplotlib.pyplot as plt\n",
        "plt.plot([1,2,3,4])\n",
        "plt.show()"
      ],
      "execution_count": 17,
      "outputs": [
        {
          "output_type": "display_data",
          "data": {
            "image/png": "[encoded data removed]",
            "text/plain": [
              "<Figure size 432x288 with 1 Axes>"
            ]
          },
          "metadata": {
            "tags": [],
            "needs_background": "light"
          }
        }
      ]
    },
    {
      "cell_type": "code",
      "metadata": {
        "id": "2qzehtTvpexf",
        "colab_type": "code",
        "colab": {}
      },
      "source": [
        "from tqdm import tqdm\n",
        "import time\n",
        "\n",
        "collection = ['Apple', 'Banana', 'Orange']\n",
        "for fruit in tqdm(range(100)):\n",
        "  time.sleep(0.10)\n"
      ],
      "execution_count": 0,
      "outputs": []
    },
    {
      "cell_type": "code",
      "metadata": {
        "id": "ZmKY3Zc0Gghg",
        "colab_type": "code",
        "colab": {
          "base_uri": "https://localhost:8080/",
          "height": 34
        },
        "outputId": "0b2d08bb-1a83-4ecc-b737-3129ae881640"
      },
      "source": [
        "from itertools import accumulate\n",
        "print(list(accumulate(range(10))))"
      ],
      "execution_count": 21,
      "outputs": [
        {
          "output_type": "stream",
          "text": [
            "[0, 1, 3, 6, 10, 15, 21, 28, 36, 45]\n"
          ],
          "name": "stdout"
        }
      ]
    },
    {
      "cell_type": "code",
      "metadata": {
        "id": "mL4kI4wRYZZV",
        "colab_type": "code",
        "colab": {
          "base_uri": "https://localhost:8080/",
          "height": 34
        },
        "outputId": "64486674-172d-43b6-a987-64a1e2ca6eb4"
      },
      "source": [
        "tt = (1, 2, (30, 40))\n",
        "hash(tt)"
      ],
      "execution_count": 29,
      "outputs": [
        {
          "output_type": "execute_result",
          "data": {
            "text/plain": [
              "8027212646858338501"
            ]
          },
          "metadata": {
            "tags": []
          },
          "execution_count": 29
        }
      ]
    },
    {
      "cell_type": "code",
      "metadata": {
        "id": "_NY8-TtQAhNw",
        "colab_type": "code",
        "colab": {
          "base_uri": "https://localhost:8080/",
          "height": 34
        },
        "outputId": "2fa767b9-44e5-45d2-e007-ff507cee3efa"
      },
      "source": [
        "def goatlatin(phrase):\n",
        "  listp = phrase.split()\n",
        "  res =''\n",
        "  for index, word in enumerate(listp):\n",
        "    if word[0] not in 'aeiou':\n",
        "      res += word[1:] + word[0]+ 'ma'+('a'*(index+1))+' '\n",
        "  return res\n",
        "\n",
        "print(goatlatin(\"The quick brown fox jumped over the lazy dog\"))\n",
        "\n"
      ],
      "execution_count": 16,
      "outputs": [
        {
          "output_type": "stream",
          "text": [
            "heTmaa uickqmaaa rownbmaaaa oxfmaaaaa umpedjmaaaaaa hetmaaaaaaaa azylmaaaaaaaaa ogdmaaaaaaaaaa \n"
          ],
          "name": "stdout"
        }
      ]
    },
    {
      "cell_type": "code",
      "metadata": {
        "id": "y7vrLF7SIXSS",
        "colab_type": "code",
        "colab": {}
      },
      "source": [
        "\n",
        "def is_palin(number):\n",
        "  new_num = 0;\n",
        "  num = number\n",
        "  while number > 0:\n",
        "    new_num = (new_num*10) + number % 10\n",
        "    number = number//10\n",
        "  new_num += num\n",
        "  strnum = str(new_num)\n",
        "  print(strnum+' ')\n",
        "  if strnum == strnum[-1:0]:\n",
        "    print('Palindrome Found', strnum)\n",
        "  else:\n",
        "    is_palin(new_num)\n",
        "\n",
        "is_palin(152)  "
      ],
      "execution_count": 0,
      "outputs": []
    },
    {
      "cell_type": "code",
      "metadata": {
        "id": "UgwKFrpoLzTI",
        "colab_type": "code",
        "colab": {}
      },
      "source": [
        "strn = \"quick\"\n",
        "print(strn[-1:-4])"
      ],
      "execution_count": 0,
      "outputs": []
    },
    {
      "cell_type": "code",
      "metadata": {
        "id": "lS71TfhdlTsC",
        "colab_type": "code",
        "colab": {}
      },
      "source": [
        "def apply_discount(product, discount):\n",
        "  price = int(product) "
      ],
      "execution_count": 0,
      "outputs": []
    },
    {
      "cell_type": "code",
      "metadata": {
        "id": "y8ejaTDlnSfg",
        "colab_type": "code",
        "colab": {
          "base_uri": "https://localhost:8080/",
          "height": 34
        },
        "outputId": "99a1fed9-a393-4a1d-aa87-1cd75c47826c"
      },
      "source": [
        "names = [\n",
        "\n",
        "\n",
        "    'Alice',\n",
        "\n",
        "\n",
        "    'Bob',\n",
        "\n",
        "\n",
        "      'Dilbert'  # <- Missing comma!\n",
        "\n",
        "\n",
        "    'Jane'\n",
        "\n",
        "\n",
        "]\n",
        "\n",
        "names"
      ],
      "execution_count": 23,
      "outputs": [
        {
          "output_type": "execute_result",
          "data": {
            "text/plain": [
              "['Alice', 'Bob', 'DilbertJane']"
            ]
          },
          "metadata": {
            "tags": []
          },
          "execution_count": 23
        }
      ]
    },
    {
      "cell_type": "code",
      "metadata": {
        "id": "9KcqrZbuniiR",
        "colab_type": "code",
        "colab": {
          "base_uri": "https://localhost:8080/",
          "height": 34
        },
        "outputId": "e8ab8f00-fe1e-4f9e-9e75-15e9f7d2b2ea"
      },
      "source": [
        "my_str = ('This is a super long string constant '\n",
        "\n",
        "\n",
        "'spread out across multiple lines. '\n",
        "\n",
        "\n",
        "'And look, no backslash characters needed!')\n",
        "\n",
        "my_str"
      ],
      "execution_count": 24,
      "outputs": [
        {
          "output_type": "execute_result",
          "data": {
            "text/plain": [
              "'This is a super long string constant spread out across multiple lines. And look, no backslash characters needed!'"
            ]
          },
          "metadata": {
            "tags": []
          },
          "execution_count": 24
        }
      ]
    },
    {
      "cell_type": "code",
      "metadata": {
        "id": "q92fgb2xpAXz",
        "colab_type": "code",
        "colab": {
          "base_uri": "https://localhost:8080/",
          "height": 122
        },
        "outputId": "fcb73cd9-b219-4c3d-f1f8-c712838d9333"
      },
      "source": [
        "class Indenter:\n",
        "  def __init__(self):\n",
        "    self.level = 0\n",
        "  \n",
        "  def __enter__(self):\n",
        "    self.level += 1\n",
        "    return self\n",
        "\n",
        "  def __exit__(self, exc_type, exc_val, exc_tb):\n",
        "    self.level -= 1\n",
        "\n",
        "  def print(self, text):\n",
        "    print('    ' * self.level + text)\n",
        "\n",
        "with Indenter() as indent:\n",
        "  print(dir(indent))\n",
        "  indent.print('hi!')\n",
        "  with indent:\n",
        "    indent.print('hello')\n",
        "    with indent:\n",
        "      indent.print ( 'hello' )\n",
        "    indent.print('hey')"
      ],
      "execution_count": 27,
      "outputs": [
        {
          "output_type": "stream",
          "text": [
            "['__class__', '__delattr__', '__dict__', '__dir__', '__doc__', '__enter__', '__eq__', '__exit__', '__format__', '__ge__', '__getattribute__', '__gt__', '__hash__', '__init__', '__init_subclass__', '__le__', '__lt__', '__module__', '__ne__', '__new__', '__reduce__', '__reduce_ex__', '__repr__', '__setattr__', '__sizeof__', '__str__', '__subclasshook__', '__weakref__', 'level', 'print']\n",
            "    hi!\n",
            "        hello\n",
            "            hello\n",
            "        hey\n"
          ],
          "name": "stdout"
        }
      ]
    },
    {
      "cell_type": "code",
      "metadata": {
        "id": "ykTdyiHAsutL",
        "colab_type": "code",
        "colab": {
          "base_uri": "https://localhost:8080/",
          "height": 34
        },
        "outputId": "2cf07561-4a78-4d8d-c8bd-fe503e6282b5"
      },
      "source": [
        "def yell(text):\n",
        "  return text.upper() + '!'\n",
        "\n",
        "yell('hello')"
      ],
      "execution_count": 29,
      "outputs": [
        {
          "output_type": "execute_result",
          "data": {
            "text/plain": [
              "'HELLO!'"
            ]
          },
          "metadata": {
            "tags": []
          },
          "execution_count": 29
        }
      ]
    },
    {
      "cell_type": "code",
      "metadata": {
        "id": "B2glu208veu7",
        "colab_type": "code",
        "colab": {
          "base_uri": "https://localhost:8080/",
          "height": 34
        },
        "outputId": "795263e8-3269-42e8-e35e-99700b1f6ae6"
      },
      "source": [
        "bark = yell\n",
        "\n",
        "bark('woof')"
      ],
      "execution_count": 30,
      "outputs": [
        {
          "output_type": "execute_result",
          "data": {
            "text/plain": [
              "'WOOF!'"
            ]
          },
          "metadata": {
            "tags": []
          },
          "execution_count": 30
        }
      ]
    },
    {
      "cell_type": "code",
      "metadata": {
        "id": "_tyLbRdnvlgn",
        "colab_type": "code",
        "colab": {
          "base_uri": "https://localhost:8080/",
          "height": 34
        },
        "outputId": "c9e34f73-f20f-453e-87dc-f4e39ba8a6f8"
      },
      "source": [
        "bark('woof')\n",
        "\n",
        "bark.__name__"
      ],
      "execution_count": 33,
      "outputs": [
        {
          "output_type": "execute_result",
          "data": {
            "text/plain": [
              "'yell'"
            ]
          },
          "metadata": {
            "tags": []
          },
          "execution_count": 33
        }
      ]
    },
    {
      "cell_type": "code",
      "metadata": {
        "id": "1xP9pWqpv6qZ",
        "colab_type": "code",
        "colab": {
          "base_uri": "https://localhost:8080/",
          "height": 68
        },
        "outputId": "9fe11ce9-b09f-432a-b5d3-5ee006cad52b"
      },
      "source": [
        "funcs = [bark, str.lower, str.capitalize]\n",
        "funcs"
      ],
      "execution_count": 35,
      "outputs": [
        {
          "output_type": "execute_result",
          "data": {
            "text/plain": [
              "[<function __main__.yell>,\n",
              " <method 'lower' of 'str' objects>,\n",
              " <method 'capitalize' of 'str' objects>]"
            ]
          },
          "metadata": {
            "tags": []
          },
          "execution_count": 35
        }
      ]
    },
    {
      "cell_type": "code",
      "metadata": {
        "id": "ZeS4iHsGwQ-t",
        "colab_type": "code",
        "colab": {
          "base_uri": "https://localhost:8080/",
          "height": 34
        },
        "outputId": "7eb4ba0a-273d-4f41-e140-a5e08f0a211d"
      },
      "source": [
        "list(map(bark, ['hello', 'hey', 'hi']))"
      ],
      "execution_count": 36,
      "outputs": [
        {
          "output_type": "execute_result",
          "data": {
            "text/plain": [
              "['HELLO!', 'HEY!', 'HI!']"
            ]
          },
          "metadata": {
            "tags": []
          },
          "execution_count": 36
        }
      ]
    },
    {
      "cell_type": "code",
      "metadata": {
        "id": "06vGK3PQwjXa",
        "colab_type": "code",
        "colab": {}
      },
      "source": [
        "def get_speak_func(volume):\n",
        "  def whisper(text):\n",
        "    return text.lower() + '...'\n",
        "  def yell(text):\n",
        "    return text.upper() + '!'\n",
        "  if volume > 0.5:\n",
        "    return yell\n",
        "  else:\n",
        "    return whisper"
      ],
      "execution_count": 0,
      "outputs": []
    },
    {
      "cell_type": "code",
      "metadata": {
        "id": "kbypUqDaxI1d",
        "colab_type": "code",
        "colab": {
          "base_uri": "https://localhost:8080/",
          "height": 34
        },
        "outputId": "0f460b07-ef43-43fb-c644-a6df06a468ee"
      },
      "source": [
        "get_speak_func(0.7)('hello')"
      ],
      "execution_count": 41,
      "outputs": [
        {
          "output_type": "execute_result",
          "data": {
            "text/plain": [
              "'HELLO!'"
            ]
          },
          "metadata": {
            "tags": []
          },
          "execution_count": 41
        }
      ]
    },
    {
      "cell_type": "code",
      "metadata": {
        "id": "0jfHEtPkyKh5",
        "colab_type": "code",
        "colab": {
          "base_uri": "https://localhost:8080/",
          "height": 34
        },
        "outputId": "5ee02d96-d8ac-4a14-f6e7-4335143f4a19"
      },
      "source": [
        "def make_adder(n):\n",
        "  def add(x):\n",
        "    return x + n\n",
        "  return add\n",
        "\n",
        "plus_3= make_adder(3)\n",
        "plus_5= make_adder(5)\n",
        "plus_3 (4)"
      ],
      "execution_count": 44,
      "outputs": [
        {
          "output_type": "execute_result",
          "data": {
            "text/plain": [
              "7"
            ]
          },
          "metadata": {
            "tags": []
          },
          "execution_count": 44
        }
      ]
    },
    {
      "cell_type": "code",
      "metadata": {
        "id": "aI127Ziuw17b",
        "colab_type": "code",
        "colab": {
          "base_uri": "https://localhost:8080/",
          "height": 34
        },
        "outputId": "6cdac5c8-6cb6-4286-88e1-b5afe6845998"
      },
      "source": [
        "get_speak_func(0.3)"
      ],
      "execution_count": 39,
      "outputs": [
        {
          "output_type": "execute_result",
          "data": {
            "text/plain": [
              "<function __main__.get_speak_func.<locals>.whisper>"
            ]
          },
          "metadata": {
            "tags": []
          },
          "execution_count": 39
        }
      ]
    },
    {
      "cell_type": "code",
      "metadata": {
        "id": "QJpvNbTk0r2W",
        "colab_type": "code",
        "colab": {
          "base_uri": "https://localhost:8080/",
          "height": 34
        },
        "outputId": "ec7a92b0-1aad-4b2f-d345-50f56199f90c"
      },
      "source": [
        "def uppercase(func):\n",
        "  def wrapper():\n",
        "    original_result = func()\n",
        "    modified_result = original_result.upper()\n",
        "    return modified_result\n",
        "  return wrapper\n",
        "\n",
        "@uppercase\n",
        "def greet():\n",
        "  return 'Hello!'\n",
        "\n",
        "greet()\n",
        "\n",
        "greet = uppercase(greet)\n",
        "\n"
      ],
      "execution_count": 45,
      "outputs": [
        {
          "output_type": "execute_result",
          "data": {
            "text/plain": [
              "'HELLO!'"
            ]
          },
          "metadata": {
            "tags": []
          },
          "execution_count": 45
        }
      ]
    },
    {
      "cell_type": "code",
      "metadata": {
        "id": "iSRTnvffFbMd",
        "colab_type": "code",
        "colab": {
          "base_uri": "https://localhost:8080/",
          "height": 34
        },
        "outputId": "86890c0e-5055-4d03-920e-6bdf5ffaf70e"
      },
      "source": [
        "numbers = [4, 2, 1, 6, 9, 7]\n",
        "\n",
        "def square(x):\n",
        "  return x*x\n",
        "\n",
        "[square(x) for x in numbers]"
      ],
      "execution_count": 1,
      "outputs": [
        {
          "output_type": "execute_result",
          "data": {
            "text/plain": [
              "[16, 4, 1, 36, 81, 49]"
            ]
          },
          "metadata": {
            "tags": []
          },
          "execution_count": 1
        }
      ]
    },
    {
      "cell_type": "code",
      "metadata": {
        "id": "i57-WsEgGFzi",
        "colab_type": "code",
        "colab": {
          "base_uri": "https://localhost:8080/",
          "height": 68
        },
        "outputId": "835a1d75-3946-4025-b506-361db485ca0e"
      },
      "source": [
        "animals = [\n",
        "     {'type': 'penguin', 'name': 'Stephanie', 'age': 8},\n",
        "     {'type': 'elephant', 'name': 'Devon', 'age': 3},\n",
        "     {'type': 'puma', 'name': 'Moe', 'age': 5}, ]\n",
        "\n",
        "sorted(animals, key=lambda animal: animal['type'])"
      ],
      "execution_count": 5,
      "outputs": [
        {
          "output_type": "execute_result",
          "data": {
            "text/plain": [
              "[{'age': 3, 'name': 'Devon', 'type': 'elephant'},\n",
              " {'age': 8, 'name': 'Stephanie', 'type': 'penguin'},\n",
              " {'age': 5, 'name': 'Moe', 'type': 'puma'}]"
            ]
          },
          "metadata": {
            "tags": []
          },
          "execution_count": 5
        }
      ]
    },
    {
      "cell_type": "code",
      "metadata": {
        "id": "UCxPCxZfQ1tl",
        "colab_type": "code",
        "colab": {
          "base_uri": "https://localhost:8080/",
          "height": 34
        },
        "outputId": "438f952f-6935-48f4-c4b0-95b36a9aa4c9"
      },
      "source": [
        "def strong (func):\n",
        "  def wrapper ():\n",
        "    return  '<strong>'  + func () +  '</strong>'\n",
        "  return wrapper\n",
        "\n",
        "def emphasis (func):\n",
        "  def wrapper ():\n",
        "    return  '<em>'  + func () +  '</em>'\n",
        "  return wrapper\n",
        "\n",
        "\n",
        "@strong\n",
        "@emphasis\n",
        "def greet ():\n",
        "  return  'Hello!'\n",
        "\n",
        "greet()"
      ],
      "execution_count": 8,
      "outputs": [
        {
          "output_type": "execute_result",
          "data": {
            "text/plain": [
              "'<strong><em>Hello!</em></strong>'"
            ]
          },
          "metadata": {
            "tags": []
          },
          "execution_count": 8
        }
      ]
    },
    {
      "cell_type": "code",
      "metadata": {
        "id": "e7q37h9QRP16",
        "colab_type": "code",
        "colab": {}
      },
      "source": [
        "def proxy (func):\n",
        "  def wrapper ( * args, ** kwargs):\n",
        "    return func ( * args, ** kwargs)\n",
        "  return wrapper"
      ],
      "execution_count": 0,
      "outputs": []
    },
    {
      "cell_type": "code",
      "metadata": {
        "id": "dnOfY6_BRjOq",
        "colab_type": "code",
        "colab": {
          "base_uri": "https://localhost:8080/",
          "height": 129
        },
        "outputId": "40005832-a3fe-4833-ee43-1d8c07bea38b"
      },
      "source": [
        "def trace (func):\n",
        "  def wrapper ( * args, ** kwargs):\n",
        "    print ( f'TRACE: calling {func .__ name__} () '\n",
        "    f'with {args}, {kwargs} ' )\n",
        "    original_result = func ( * args, ** kwargs)\n",
        "    print ( f'TRACE: {func .__ name__} ()'\n",
        "    f'returned {original_result! r} ')\n",
        "    return original_result\n",
        "  return wrapper\n",
        "\n",
        "@trace\n",
        "def say (name, line):\n",
        "  return  f'{name}: {line}'\n",
        "\n",
        "say ( 'Jane' , 'Hello , World' )"
      ],
      "execution_count": 12,
      "outputs": [
        {
          "output_type": "error",
          "ename": "SyntaxError",
          "evalue": "ignored",
          "traceback": [
            "\u001b[0;36m  File \u001b[0;32m\"<fstring>\"\u001b[0;36m, line \u001b[0;32m1\u001b[0m\n\u001b[0;31m    (func .__ name__)\u001b[0m\n\u001b[0m                   ^\u001b[0m\n\u001b[0;31mSyntaxError\u001b[0m\u001b[0;31m:\u001b[0m invalid syntax\n"
          ]
        }
      ]
    },
    {
      "cell_type": "code",
      "metadata": {
        "id": "NsKyM0w-SkAU",
        "colab_type": "code",
        "colab": {
          "base_uri": "https://localhost:8080/",
          "height": 129
        },
        "outputId": "6ec011d5-9c49-45e4-c30e-034d1e24b8a7"
      },
      "source": [
        "def foo (required, * args, ** kwargs):\n",
        "  print (required)\n",
        "  if args:\n",
        "    print (args)\n",
        "  if kwargs:\n",
        "    print (kwargs)\n",
        "\n",
        "foo ( 'hello' , 1 , 2 , 3 , key1 = 'value' , key2 = 999, 1,3 )"
      ],
      "execution_count": 17,
      "outputs": [
        {
          "output_type": "error",
          "ename": "SyntaxError",
          "evalue": "ignored",
          "traceback": [
            "\u001b[0;36m  File \u001b[0;32m\"<ipython-input-17-62fe97fb22f5>\"\u001b[0;36m, line \u001b[0;32m8\u001b[0m\n\u001b[0;31m    foo ( 'hello' , 1 , 2 , 3 , key1 = 'value' , key2 = 999, 1,3 )\u001b[0m\n\u001b[0m                                                            ^\u001b[0m\n\u001b[0;31mSyntaxError\u001b[0m\u001b[0;31m:\u001b[0m positional argument follows keyword argument\n"
          ]
        }
      ]
    },
    {
      "cell_type": "code",
      "metadata": {
        "id": "RkD6z-95TFK1",
        "colab_type": "code",
        "colab": {}
      },
      "source": [
        "def foo (x, * args, ** kwargs):\n",
        "  kwargs [ 'name' ] =  'Alice'\n",
        "  new_args = args + ( 'extra' ,)\n",
        "  bar (x, * new_args, ** kwargs)import"
      ],
      "execution_count": 0,
      "outputs": []
    },
    {
      "cell_type": "code",
      "metadata": {
        "id": "0E22vwwsTlKp",
        "colab_type": "code",
        "colab": {
          "base_uri": "https://localhost:8080/",
          "height": 51
        },
        "outputId": "af214871-8152-46a3-f000-94aa3ff1d654"
      },
      "source": [
        "import functools \n",
        "\n",
        "def trace (f):\n",
        "  @functools.wraps (f)\n",
        "  def decorated_function ( * args, ** kwargs):\n",
        "    print (f, args, kwargs)\n",
        "    result = f ( * args, ** kwargs)\n",
        "    print (result)\n",
        "  return decorated_function\n",
        "\n",
        "\n",
        "@trace\n",
        "def greet (greeting, name):\n",
        "  return  ' {}, {} !' .format (greeting, name)\n",
        "\n",
        "greet(\"Hello\", \"Pavan\")"
      ],
      "execution_count": 20,
      "outputs": [
        {
          "output_type": "stream",
          "text": [
            "<function greet at 0x7fb33c1bf840> ('Hello', 'Pavan') {}\n",
            " Hello, Pavan !\n"
          ],
          "name": "stdout"
        }
      ]
    },
    {
      "cell_type": "code",
      "metadata": {
        "id": "EIA-SzUhX3n4",
        "colab_type": "code",
        "colab": {
          "base_uri": "https://localhost:8080/",
          "height": 34
        },
        "outputId": "e4e68322-d8df-4651-aaf1-af247d2ee1db"
      },
      "source": [
        "import datetime\n",
        "today = datetime.date.today ()\n",
        "#str (today)\n",
        "new_date  = repr (today)\n",
        "print(new_date)"
      ],
      "execution_count": 26,
      "outputs": [
        {
          "output_type": "stream",
          "text": [
            "datetime.date(2020, 5, 5)\n"
          ],
          "name": "stdout"
        }
      ]
    },
    {
      "cell_type": "code",
      "metadata": {
        "id": "x0r2m_JsajAi",
        "colab_type": "code",
        "colab": {
          "base_uri": "https://localhost:8080/",
          "height": 51
        },
        "outputId": "b47cfa0e-ff63-49f7-dc95-bb0da7f0a4fd"
      },
      "source": [
        "xs = [[ 1 , 2 , 3 ], [ 4 , 5 , 6 ], [ 7 , 8 , 9 ]]\n",
        "ys = list (xs) # Creates a flat copy\n",
        "xs.pop()\n",
        "xs.append([0,0,0])\n",
        "xs [ 1 ] [ 0 ] =  'X'\n",
        "print(ys)\n",
        "print(xs)"
      ],
      "execution_count": 33,
      "outputs": [
        {
          "output_type": "stream",
          "text": [
            "[[1, 2, 3], ['X', 5, 6], [7, 8, 9]]\n",
            "[[1, 2, 3], ['X', 5, 6], [0, 0, 0]]\n"
          ],
          "name": "stdout"
        }
      ]
    },
    {
      "cell_type": "code",
      "metadata": {
        "id": "TYckkFdteuhF",
        "colab_type": "code",
        "colab": {}
      },
      "source": [
        "Car = namedtuple ( 'Car', 'color mileage' )\n",
        "\n",
        "class MyCarWithMethods (Car):\n",
        "  def hexcolor (self):\n",
        "    if self.color ==  'red' :\n",
        "      return  '# ff0000'\n",
        "    else :\n",
        "      return  '# 000000'"
      ],
      "execution_count": 0,
      "outputs": []
    },
    {
      "cell_type": "code",
      "metadata": {
        "id": "4HrrG7D5JlRA",
        "colab_type": "code",
        "colab": {
          "base_uri": "https://localhost:8080/",
          "height": 238
        },
        "outputId": "9919bdf8-867d-48ee-d994-38c197e6bbea"
      },
      "source": [
        "!pip install faker\n",
        "\n",
        "from faker import Faker\n",
        "\n",
        "faker = Faker()\n",
        "\n",
        "print(f'name: {faker.name()}')\n",
        "print(f'address: {faker.address()}')\n",
        "\n",
        "print(f'text: {faker.text()}')"
      ],
      "execution_count": 2,
      "outputs": [
        {
          "output_type": "stream",
          "text": [
            "Collecting faker\n",
            "\u001b[?25l  Downloading https://files.pythonhosted.org/packages/ee/64/079c012bed8bc416fa0d136ceff86a7d25e765f45d7a0a97e0b803b1d506/Faker-4.0.3-py3-none-any.whl (1.0MB)\n",
            "\u001b[K     |████████████████████████████████| 1.0MB 2.8MB/s \n",
            "\u001b[?25hRequirement already satisfied: text-unidecode==1.3 in /usr/local/lib/python3.6/dist-packages (from faker) (1.3)\n",
            "Requirement already satisfied: python-dateutil>=2.4 in /usr/local/lib/python3.6/dist-packages (from faker) (2.8.1)\n",
            "Requirement already satisfied: six>=1.5 in /usr/local/lib/python3.6/dist-packages (from python-dateutil>=2.4->faker) (1.12.0)\n",
            "Installing collected packages: faker\n",
            "Successfully installed faker-4.0.3\n",
            "name: James Mata\n",
            "address: 298 Diaz Harbors\n",
            "New Katelyn, SC 25250\n",
            "text: But close spend. Forget special on including paper at.\n",
            "Me others pretty might address newspaper responsibility word. Someone us nor suggest modern discuss. Head natural those clearly stock.\n"
          ],
          "name": "stdout"
        }
      ]
    },
    {
      "cell_type": "code",
      "metadata": {
        "id": "xt0phneYJyM-",
        "colab_type": "code",
        "colab": {
          "base_uri": "https://localhost:8080/",
          "height": 102
        },
        "outputId": "19a3f5ed-5305-4790-e929-2128f161408a"
      },
      "source": [
        "print(f'name: {faker.name()}')\n",
        "print(f'address: {faker.address()}')\n",
        "print(f'text: {faker.text()}')"
      ],
      "execution_count": 3,
      "outputs": [
        {
          "output_type": "stream",
          "text": [
            "name: Ashley Wilson\n",
            "address: 25850 Dennis Knolls\n",
            "Lindseyville, MS 64505\n",
            "text: Determine accept where production growth. Market consumer may democratic trip baby. Ten past whether improve two have.\n",
            "Certain official five. Hand Mr out find.\n"
          ],
          "name": "stdout"
        }
      ]
    },
    {
      "cell_type": "code",
      "metadata": {
        "id": "z5oEv21MJ-IL",
        "colab_type": "code",
        "colab": {
          "base_uri": "https://localhost:8080/",
          "height": 119
        },
        "outputId": "cd578474-7622-4200-90ef-7cbead7635ab"
      },
      "source": [
        "for _ in range(6):\n",
        "    print(faker.job())"
      ],
      "execution_count": 4,
      "outputs": [
        {
          "output_type": "stream",
          "text": [
            "Scientist, product/process development\n",
            "Designer, jewellery\n",
            "Surveyor, land/geomatics\n",
            "Insurance underwriter\n",
            "Marine scientist\n",
            "Therapist, drama\n"
          ],
          "name": "stdout"
        }
      ]
    },
    {
      "cell_type": "code",
      "metadata": {
        "id": "sU_Mbn3LU-ns",
        "colab_type": "code",
        "colab": {
          "base_uri": "https://localhost:8080/",
          "height": 85
        },
        "outputId": "482a8dfa-d7e7-4bae-f845-647aca9b35af"
      },
      "source": [
        "name = 'Alessandro'\n",
        "messages = ['Message 1', 'Message 2']\n",
        "\n",
        "txt = 'Hello %s, You have %s message' % (name, len(messages))\n",
        "if len(messages) > 1:\n",
        "    txt += 's'\n",
        "txt += '\\n'\n",
        "for msg in messages:\n",
        "    txt += msg + '\\n'\n",
        "print(txt)"
      ],
      "execution_count": 9,
      "outputs": [
        {
          "output_type": "stream",
          "text": [
            "Hello Alessandro, You have 2 messages\n",
            "Message 1\n",
            "Message 2\n",
            "\n"
          ],
          "name": "stdout"
        }
      ]
    },
    {
      "cell_type": "code",
      "metadata": {
        "id": "NmzUkcTbWBeA",
        "colab_type": "code",
        "colab": {
          "base_uri": "https://localhost:8080/",
          "height": 34
        },
        "outputId": "d2967590-7432-4fbc-b130-7faacbbb202b"
      },
      "source": [
        "import shlex\n",
        "text = 'I was sleeping at the \"Windsdale Hotel\"'\n",
        "print(shlex.split(text))"
      ],
      "execution_count": 10,
      "outputs": [
        {
          "output_type": "stream",
          "text": [
            "['I', 'was', 'sleeping', 'at', 'the', 'Windsdale Hotel']\n"
          ],
          "name": "stdout"
        }
      ]
    },
    {
      "cell_type": "code",
      "metadata": {
        "id": "9KenDPIWWMDp",
        "colab_type": "code",
        "colab": {
          "base_uri": "https://localhost:8080/",
          "height": 231
        },
        "outputId": "46e3a082-a06b-4b08-d857-bcb8727d7447"
      },
      "source": [
        "txt = \"\"\"And he looked over at the alarm clock,\n",
        "ticking on the chest of drawers. \"God in Heaven!\" he thought.\n",
        "It was half past six and the hands were quietly moving forwards,\n",
        "it was even later than half past, more like quarter to seven.\n",
        "Had the alarm clock not rung? He could see from the bed that it\n",
        "had been set for four o'clock as it should have been; it certainly must have rung.\n",
        "Yes, but was it possible to quietly sleep through that furniture-rattling noise?\n",
        "True, he had not slept peacefully, but probably all the more deeply because of that.\"\"\"\n",
        "\n",
        "import string\n",
        "trans = str.maketrans(string.punctuation)\n",
        "txt = txt.lower().translate(trans)\n",
        "print(txt)"
      ],
      "execution_count": 14,
      "outputs": [
        {
          "output_type": "error",
          "ename": "ValueError",
          "evalue": "ignored",
          "traceback": [
            "\u001b[0;31m---------------------------------------------------------------------------\u001b[0m",
            "\u001b[0;31mValueError\u001b[0m                                Traceback (most recent call last)",
            "\u001b[0;32m<ipython-input-14-595ebbf760f4>\u001b[0m in \u001b[0;36m<module>\u001b[0;34m()\u001b[0m\n\u001b[1;32m      9\u001b[0m \u001b[0;34m\u001b[0m\u001b[0m\n\u001b[1;32m     10\u001b[0m \u001b[0;32mimport\u001b[0m \u001b[0mstring\u001b[0m\u001b[0;34m\u001b[0m\u001b[0;34m\u001b[0m\u001b[0m\n\u001b[0;32m---> 11\u001b[0;31m \u001b[0mtrans\u001b[0m \u001b[0;34m=\u001b[0m \u001b[0mstr\u001b[0m\u001b[0;34m.\u001b[0m\u001b[0mmaketrans\u001b[0m\u001b[0;34m(\u001b[0m\u001b[0mstring\u001b[0m\u001b[0;34m.\u001b[0m\u001b[0mpunctuation\u001b[0m\u001b[0;34m,\u001b[0m \u001b[0;34m''\u001b[0m\u001b[0;34m)\u001b[0m\u001b[0;34m\u001b[0m\u001b[0;34m\u001b[0m\u001b[0m\n\u001b[0m\u001b[1;32m     12\u001b[0m \u001b[0mtxt\u001b[0m \u001b[0;34m=\u001b[0m \u001b[0mtxt\u001b[0m\u001b[0;34m.\u001b[0m\u001b[0mlower\u001b[0m\u001b[0;34m(\u001b[0m\u001b[0;34m)\u001b[0m\u001b[0;34m.\u001b[0m\u001b[0mtranslate\u001b[0m\u001b[0;34m(\u001b[0m\u001b[0mtrans\u001b[0m\u001b[0;34m)\u001b[0m\u001b[0;34m\u001b[0m\u001b[0;34m\u001b[0m\u001b[0m\n\u001b[1;32m     13\u001b[0m \u001b[0mprint\u001b[0m\u001b[0;34m(\u001b[0m\u001b[0mtxt\u001b[0m\u001b[0;34m)\u001b[0m\u001b[0;34m\u001b[0m\u001b[0;34m\u001b[0m\u001b[0m\n",
            "\u001b[0;31mValueError\u001b[0m: the first two maketrans arguments must have equal length"
          ]
        }
      ]
    },
    {
      "cell_type": "code",
      "metadata": {
        "id": "Tqkub3jLYGCD",
        "colab_type": "code",
        "colab": {
          "base_uri": "https://localhost:8080/",
          "height": 34
        },
        "outputId": "f7e7a4ed-5b3b-439c-b85a-7909248804e9"
      },
      "source": [
        "string.punctuation"
      ],
      "execution_count": 15,
      "outputs": [
        {
          "output_type": "execute_result",
          "data": {
            "text/plain": [
              "'!\"#$%&\\'()*+,-./:;<=>?@[\\\\]^_`{|}~'"
            ]
          },
          "metadata": {
            "tags": []
          },
          "execution_count": 15
        }
      ]
    },
    {
      "cell_type": "code",
      "metadata": {
        "id": "CkFep6a3Wyk_",
        "colab_type": "code",
        "colab": {
          "base_uri": "https://localhost:8080/",
          "height": 34
        },
        "outputId": "a11ae015-b408-43a8-f86f-bcf29ec47e55"
      },
      "source": [
        "str.maketrans('a', 'b', 'c')"
      ],
      "execution_count": 12,
      "outputs": [
        {
          "output_type": "execute_result",
          "data": {
            "text/plain": [
              "{97: 98, 99: None}"
            ]
          },
          "metadata": {
            "tags": []
          },
          "execution_count": 12
        }
      ]
    },
    {
      "cell_type": "code",
      "metadata": {
        "id": "_Ouy7N5jYqKf",
        "colab_type": "code",
        "colab": {
          "base_uri": "https://localhost:8080/",
          "height": 170
        },
        "outputId": "c02957ee-8d13-4137-92ad-001ef0fcbc29"
      },
      "source": [
        "import unicodedata, sys\n",
        "\n",
        "class unaccented_map(dict):\n",
        "    def __missing__(self, key):\n",
        "        ch = self.get(key)\n",
        "        print(ch)\n",
        "        if ch is not None:\n",
        "            return ch\n",
        "        de = unicodedata.decomposition(chr(key))\n",
        "        print(de)\n",
        "        if de:\n",
        "            try:\n",
        "                ch = int(de.split()[0], 16)\n",
        "            except (IndexError, ValueError):\n",
        "                ch = key\n",
        "        else:\n",
        "            ch = key\n",
        "        self[key] = ch\n",
        "        return ch\n",
        "\n",
        "unaccented_map = unaccented_map()\n",
        "\n",
        "'uber'.translate(unaccented_map)"
      ],
      "execution_count": 22,
      "outputs": [
        {
          "output_type": "stream",
          "text": [
            "None\n",
            "\n",
            "None\n",
            "\n",
            "None\n",
            "\n",
            "None\n",
            "\n"
          ],
          "name": "stdout"
        },
        {
          "output_type": "execute_result",
          "data": {
            "text/plain": [
              "'uber'"
            ]
          },
          "metadata": {
            "tags": []
          },
          "execution_count": 22
        }
      ]
    },
    {
      "cell_type": "code",
      "metadata": {
        "id": "aCCxYyP1bFEI",
        "colab_type": "code",
        "colab": {
          "base_uri": "https://localhost:8080/",
          "height": 54
        },
        "outputId": "c88deef4-6995-457d-f298-2c63c2be7d07"
      },
      "source": [
        "cols = ['hello world', \n",
        "        'this is a long text, maybe longer than expected, surely long enough', \n",
        "        'one more column']\n",
        "\n",
        "COLSIZE = 20\n",
        "\n",
        "import textwrap, itertools\n",
        "\n",
        "#print([[s.ljust(COLSIZE) for s in textwrap.wrap(col, COLSIZE)] for col in cols])\n",
        "\n",
        "def maketable(cols):\n",
        "    return 'n'.join(map(' | '.join, itertools.zip_longest(*[\n",
        "        [s.ljust(COLSIZE) for s in textwrap.wrap(col, COLSIZE)] for col in cols\n",
        "    ], fillvalue=' '*COLSIZE)))\n",
        "\n",
        "print(maketable(cols))"
      ],
      "execution_count": 27,
      "outputs": [
        {
          "output_type": "stream",
          "text": [
            "hello world          | this is a long text, | one more column     n                     | maybe longer than    |                     n                     | expected, surely     |                     n                     | long enough          |                     \n"
          ],
          "name": "stdout"
        }
      ]
    },
    {
      "cell_type": "code",
      "metadata": {
        "id": "cSursc_YeCne",
        "colab_type": "code",
        "colab": {
          "base_uri": "https://localhost:8080/",
          "height": 68
        },
        "outputId": "ef1dfbe0-f0e5-4bc8-c310-10dbe0086171"
      },
      "source": [
        "import logging, sys\n",
        "\n",
        "logging.basicConfig(level=logging.INFO, stream=sys.stderr, format='%(asctime)s %(name)s %(levelname)s: %(message)s')\n",
        "log = logging.getLogger(__name__)\n",
        "\n",
        "def dosum(a, b, count=1):\n",
        "  log.info('Starting sum')\n",
        "  if a == b == 0:\n",
        "    log.warning('Will be just 0 for any count')\n",
        "  res = (a+b)*count\n",
        "  log.info('(%s + %s) * %s = %s' % (a, b, count, res))\n",
        "  print(res)\n",
        "\n",
        "dosum(5, 3)"
      ],
      "execution_count": 28,
      "outputs": [
        {
          "output_type": "stream",
          "text": [
            "2020-05-05 15:35:51,396 __main__ INFO: Starting sum\n",
            "2020-05-05 15:35:51,397 __main__ INFO: (5 + 3) * 1 = 8\n"
          ],
          "name": "stderr"
        },
        {
          "output_type": "stream",
          "text": [
            "8\n"
          ],
          "name": "stdout"
        }
      ]
    },
    {
      "cell_type": "code",
      "metadata": {
        "id": "ETSj-LkOf7eu",
        "colab_type": "code",
        "colab": {
          "base_uri": "https://localhost:8080/",
          "height": 71
        },
        "outputId": "a8d327d5-2559-4b70-bf8a-4b9510acbda4"
      },
      "source": [
        "if __name__ == '__main__':\n",
        "    if len(sys.argv) < 2:\n",
        "        print('Please provide logging file name as argument')\n",
        "        sys.exit(1)\n",
        "\n",
        "    logging_file = sys.argv[1]\n",
        "    logging.basicConfig(level=logging.INFO, filename=logging_file,\n",
        "                        format='%(asctime)s %(name)s %(levelname)s: %(message)s')\n",
        "\n",
        "log = logging.getLogger(__name__)\n",
        "\n",
        "def fibo(num):\n",
        "    log.info('Computing up to %sth fibonacci number', num)\n",
        "    a, b = 0, 1\n",
        "    for n in range(num):\n",
        "        a, b = b, a+b\n",
        "        print(b, '', end='')\n",
        "    print(b)\n",
        "\n",
        "if __name__ == '__main__':\n",
        "    import datetime\n",
        "    fibo(datetime.datetime.now().second)"
      ],
      "execution_count": 30,
      "outputs": [
        {
          "output_type": "stream",
          "text": [
            "2020-05-05 15:41:53,850 __main__ INFO: Computing up to 53th fibonacci number\n"
          ],
          "name": "stderr"
        },
        {
          "output_type": "stream",
          "text": [
            "1 2 3 5 8 13 21 34 55 89 144 233 377 610 987 1597 2584 4181 6765 10946 17711 28657 46368 75025 121393 196418 317811 514229 832040 1346269 2178309 3524578 5702887 9227465 14930352 24157817 39088169 63245986 102334155 165580141 267914296 433494437 701408733 1134903170 1836311903 2971215073 4807526976 7778742049 12586269025 20365011074 32951280099 53316291173 86267571272 86267571272\n"
          ],
          "name": "stdout"
        }
      ]
    },
    {
      "cell_type": "code",
      "metadata": {
        "id": "MYK0IEuugtuF",
        "colab_type": "code",
        "colab": {
          "base_uri": "https://localhost:8080/",
          "height": 51
        },
        "outputId": "f89cb6fa-df22-43a1-d090-76a839c07735"
      },
      "source": [
        "import bisect\n",
        "import timeit\n",
        "\n",
        "values = [ 5, 3, 1, 7 ]\n",
        "sorted_values = sorted(values)\n",
        "\n",
        "def bisect_search(container, value):\n",
        "  index = bisect.bisect_left(container, value)\n",
        "  return index < len(container) and container[index] == value\n",
        "\n",
        "print(timeit.timeit(lambda: 900 in values))\n",
        "print(timeit.timeit(lambda: bisect_search(values, 900)))"
      ],
      "execution_count": 37,
      "outputs": [
        {
          "output_type": "stream",
          "text": [
            "0.13645211299990478\n",
            "0.3649008550000872\n"
          ],
          "name": "stdout"
        }
      ]
    },
    {
      "cell_type": "code",
      "metadata": {
        "id": "QkhqePbR70so",
        "colab_type": "code",
        "colab": {
          "base_uri": "https://localhost:8080/",
          "height": 102
        },
        "outputId": "ccb88dc8-4f61-4613-aef5-735ec29c8824"
      },
      "source": [
        "import logging\n",
        "import threading\n",
        "import time\n",
        "\n",
        "def thread_function(name):\n",
        "    logging.info(\"Thread %s: starting\", name)\n",
        "    time.sleep(2)\n",
        "    logging.info(\"Thread %s: finishing\", name)\n",
        "\n",
        "if __name__ == \"__main__\":\n",
        "    format = \"%(asctime)s: %(message)s\"\n",
        "    logging.basicConfig(format=format, level=logging.INFO,\n",
        "                        datefmt=\"%H:%M:%S\")\n",
        "\n",
        "    logging.info(\"Main    : before creating thread\")\n",
        "    x = threading.Thread(target=thread_function, args=(1,))\n",
        "    logging.info(\"Main    : before running thread\")\n",
        "    x.start()\n",
        "    logging.info(\"Main    : wait for the thread to finish\")\n",
        "    # x.join()\n",
        "    logging.info(\"Main    : all done\")"
      ],
      "execution_count": 40,
      "outputs": [
        {
          "output_type": "stream",
          "text": [
            "2020-05-05 17:58:06,363 root INFO: Main    : before creating thread\n",
            "2020-05-05 17:58:06,364 root INFO: Main    : before running thread\n",
            "2020-05-05 17:58:06,371 root INFO: Thread 1: starting\n",
            "2020-05-05 17:58:06,377 root INFO: Main    : wait for the thread to finish\n",
            "2020-05-05 17:58:06,380 root INFO: Main    : all done\n"
          ],
          "name": "stderr"
        }
      ]
    },
    {
      "cell_type": "code",
      "metadata": {
        "id": "x6JX18g-94qo",
        "colab_type": "code",
        "colab": {
          "base_uri": "https://localhost:8080/",
          "height": 34
        },
        "outputId": "6683cea8-1296-4917-fcde-0e7bab866be2"
      },
      "source": [
        "import subprocess\n",
        "\n",
        "completed = subprocess.run(['ls', '-1'])\n",
        "print('returncode:', completed.returncode)"
      ],
      "execution_count": 39,
      "outputs": [
        {
          "output_type": "stream",
          "text": [
            "returncode: 0\n"
          ],
          "name": "stdout"
        }
      ]
    },
    {
      "cell_type": "code",
      "metadata": {
        "id": "sZOXcFEUK135",
        "colab_type": "code",
        "colab": {
          "base_uri": "https://localhost:8080/",
          "height": 272
        },
        "outputId": "55ee6584-2a6f-4fe6-ae5c-530bc905e9f8"
      },
      "source": [
        "import bisect\n",
        "\n",
        "# A series of random numbers\n",
        "values = [14, 85, 77, 26, 50, 45, 66, 79, 10, 3, 84, 77, 1]\n",
        "\n",
        "print('New  Pos  Contents')\n",
        "print('---  ---  --------')\n",
        "\n",
        "l = []\n",
        "for i in values:\n",
        "    position = bisect.bisect(l, i)\n",
        "    bisect.insort(l, i)\n",
        "    print('{:3}  {:3}'.format(i, position), l)"
      ],
      "execution_count": 2,
      "outputs": [
        {
          "output_type": "stream",
          "text": [
            "New  Pos  Contents\n",
            "---  ---  --------\n",
            " 14    0 []\n",
            " 85    0 []\n",
            " 77    0 []\n",
            " 26    0 []\n",
            " 50    0 []\n",
            " 45    0 []\n",
            " 66    0 []\n",
            " 79    0 []\n",
            " 10    0 []\n",
            "  3    0 []\n",
            " 84    0 []\n",
            " 77    0 []\n",
            "  1    0 []\n"
          ],
          "name": "stdout"
        }
      ]
    },
    {
      "cell_type": "code",
      "metadata": {
        "id": "_lJoQCzwMTcY",
        "colab_type": "code",
        "colab": {
          "base_uri": "https://localhost:8080/",
          "height": 119
        },
        "outputId": "ab3e0064-06ae-41a9-9d07-1ca17acd4a60"
      },
      "source": [
        "import functools\n",
        "\n",
        "\n",
        "def myfunc(a, b=2):\n",
        "    \"Docstring for myfunc().\"\n",
        "    print('  called myfunc with:', (a, b))\n",
        "\n",
        "\n",
        "def show_details(name, f, is_partial=False):\n",
        "    \"Show details of a callable object.\"\n",
        "    print('{}:'.format(name))\n",
        "    print('  object:', f)\n",
        "    if not is_partial:\n",
        "        print('  __name__:', f.__name__)\n",
        "    if is_partial:\n",
        "        print('  func:', f.func)\n",
        "        print('  args:', f.args)\n",
        "        print('  keywords:', f.keywords)\n",
        "    return\n",
        "\n",
        "\n",
        "# Set a different default value for 'b', but require\n",
        "# the caller to provide 'a'.\n",
        "p1 = functools.partial(myfunc)\n",
        "show_details('partial with named default', p1, True)\n",
        "p1('passing a')\n"
      ],
      "execution_count": 10,
      "outputs": [
        {
          "output_type": "stream",
          "text": [
            "partial with named default:\n",
            "  object: functools.partial(<function myfunc at 0x7fc009422048>)\n",
            "  func: <function myfunc at 0x7fc009422048>\n",
            "  args: ()\n",
            "  keywords: {}\n",
            "  called myfunc with: ('passing a', 2)\n"
          ],
          "name": "stdout"
        }
      ]
    },
    {
      "cell_type": "code",
      "metadata": {
        "id": "goNa_0YHTDRa",
        "colab_type": "code",
        "colab": {}
      },
      "source": [
        "class MyClass:\n",
        "  def method (self):\n",
        "    return  'instance method called' , self\n",
        "  \n",
        "  @classmethod\n",
        "  def classmethod (cls):\n",
        "    return  'class method called' , cls\n",
        "\n",
        "  @staticmethod\n",
        "  def staticmethod ():\n",
        "    return  'static method called'"
      ],
      "execution_count": 0,
      "outputs": []
    },
    {
      "cell_type": "code",
      "metadata": {
        "id": "VvE6Yd8KdWJz",
        "colab_type": "code",
        "colab": {
          "base_uri": "https://localhost:8080/",
          "height": 51
        },
        "outputId": "0aaf8796-b3bd-4d56-cc0c-bd4f6a214c73"
      },
      "source": [
        "import logging\n",
        "logging.basicConfig(level=logging.INFO)\n",
        "logger = logging.getLogger(__name__) #<<<<<<<<<<<<<<<<<<<<\n",
        "\n",
        "def _iterate_array2d(array2d):\n",
        "    for i, row in enumerate(array2d):\n",
        "        for j, cell in enumerate(row):\n",
        "            yield (i, j), cell\n",
        "\n",
        "def search_nested(array, desired_value):\n",
        "    try:\n",
        "        coord = next(\n",
        "            coord\n",
        "            for (coord, cell) in _iterate_array2d(array)\n",
        "            if cell == desired_value\n",
        "        )\n",
        "    except StopIteration:\n",
        "        raise ValueError(\"{desired_value} not found\")\n",
        "\n",
        "    logger.info(\"value %r found at [%i, %i]\", desired_value, *coord)\n",
        "    return coord\n",
        "\n",
        "array = [[12,  2],\n",
        "       [ 7,  8],\n",
        "       [ 1,  7],\n",
        "       [3,  2],\n",
        "       [ 9,  4],\n",
        "       [ 134, 346]]\n",
        "\n",
        "print(search_nested(array, 7))"
      ],
      "execution_count": 18,
      "outputs": [
        {
          "output_type": "stream",
          "text": [
            "INFO:__main__:value 7 found at [1, 0]\n"
          ],
          "name": "stderr"
        },
        {
          "output_type": "stream",
          "text": [
            "(1, 0)\n"
          ],
          "name": "stdout"
        }
      ]
    },
    {
      "cell_type": "code",
      "metadata": {
        "id": "OX4OaMHIk_xZ",
        "colab_type": "code",
        "colab": {
          "base_uri": "https://localhost:8080/",
          "height": 34
        },
        "outputId": "970c3629-d73f-4d36-c5be-d6013047d029"
      },
      "source": [
        "class Pizza:\n",
        "  def __init__ (self, ingredients):\n",
        "    self.ingredients = ingredients\n",
        "  \n",
        "  def __repr__(self):\n",
        "    return (f\"Pizza({self.ingredients})\")\n",
        "\n",
        "  @classmethod\n",
        "  def margherita (cls):\n",
        "    return cls ([ 'mozzarella' , 'tomatoes' ])\n",
        "\n",
        "  @classmethod\n",
        "  def prosciutto (cls):\n",
        "    return cls ([ 'mozzarella' , 'tomatoes' , 'ham' ])\n",
        "\n",
        "Pizza.margherita ()"
      ],
      "execution_count": 36,
      "outputs": [
        {
          "output_type": "execute_result",
          "data": {
            "text/plain": [
              "Pizza(['mozzarella', 'tomatoes'])"
            ]
          },
          "metadata": {
            "tags": []
          },
          "execution_count": 36
        }
      ]
    },
    {
      "cell_type": "code",
      "metadata": {
        "id": "LfXaaBBupIab",
        "colab_type": "code",
        "colab": {
          "base_uri": "https://localhost:8080/",
          "height": 34
        },
        "outputId": "f7e60f81-f835-4d48-c6d5-cb11ba87a85d"
      },
      "source": [
        "import collections\n",
        "\n",
        "d = collections.OrderedDict (one = 1 , two = 2 , three = 3 )\n",
        "\n",
        "d"
      ],
      "execution_count": 37,
      "outputs": [
        {
          "output_type": "execute_result",
          "data": {
            "text/plain": [
              "OrderedDict([('one', 1), ('two', 2), ('three', 3)])"
            ]
          },
          "metadata": {
            "tags": []
          },
          "execution_count": 37
        }
      ]
    },
    {
      "cell_type": "code",
      "metadata": {
        "id": "91HtE-GmpuHL",
        "colab_type": "code",
        "colab": {
          "base_uri": "https://localhost:8080/",
          "height": 34
        },
        "outputId": "d73630db-ca0f-40d1-ce3a-f08c5c73cea4"
      },
      "source": [
        "from types import MappingProxyType\n",
        "writable = { 'one' : 1 , 'two' : 2 }\n",
        "read_only = MappingProxyType (writable)\n",
        "\n",
        "read_only\n",
        "\n",
        "writable [ 'one' ] =  42\n",
        "\n",
        "read_only"
      ],
      "execution_count": 40,
      "outputs": [
        {
          "output_type": "execute_result",
          "data": {
            "text/plain": [
              "mappingproxy({'one': 42, 'two': 2})"
            ]
          },
          "metadata": {
            "tags": []
          },
          "execution_count": 40
        }
      ]
    },
    {
      "cell_type": "code",
      "metadata": {
        "id": "4mQy5_GhtyKy",
        "colab_type": "code",
        "colab": {
          "base_uri": "https://localhost:8080/",
          "height": 51
        },
        "outputId": "6cd85884-8c47-4d29-8e9f-476b9892bb3b"
      },
      "source": [
        "squares = {x * x for x in range ( 10 )}\n",
        "\n",
        "print(type(squares))\n",
        "\n",
        "dicsquares = {x:x * x for x in range ( 10 )}\n",
        "\n",
        "print(type(dicsquares))\n"
      ],
      "execution_count": 44,
      "outputs": [
        {
          "output_type": "stream",
          "text": [
            "<class 'set'>\n",
            "<class 'dict'>\n"
          ],
          "name": "stdout"
        }
      ]
    },
    {
      "cell_type": "code",
      "metadata": {
        "id": "Sdr7z4z3wUMi",
        "colab_type": "code",
        "colab": {
          "base_uri": "https://localhost:8080/",
          "height": 68
        },
        "outputId": "b71f2581-1c91-444a-efa9-b75aaec3d056"
      },
      "source": [
        "import heapq\n",
        "q = []\n",
        "heapq.heappush (q, ( 2 , 'code' ))\n",
        "heapq.heappush (q, ( 1 , 'eat' ))\n",
        "heapq.heappush (q, ( 3 , 'sleep' ))\n",
        "while q:\n",
        "  next_item = heapq.heappop (q)\n",
        "  print (next_item)"
      ],
      "execution_count": 45,
      "outputs": [
        {
          "output_type": "stream",
          "text": [
            "(1, 'eat')\n",
            "(2, 'code')\n",
            "(3, 'sleep')\n"
          ],
          "name": "stdout"
        }
      ]
    },
    {
      "cell_type": "code",
      "metadata": {
        "id": "wRylR8DCHwmk",
        "colab_type": "code",
        "colab": {
          "base_uri": "https://localhost:8080/",
          "height": 34
        },
        "outputId": "2739f0c8-5cea-4320-d083-ba67c4935d9b"
      },
      "source": [
        "range(1, 100)[25:50]"
      ],
      "execution_count": 46,
      "outputs": [
        {
          "output_type": "execute_result",
          "data": {
            "text/plain": [
              "range(26, 51)"
            ]
          },
          "metadata": {
            "tags": []
          },
          "execution_count": 46
        }
      ]
    },
    {
      "cell_type": "code",
      "metadata": {
        "id": "TWcPMiAPK1Su",
        "colab_type": "code",
        "colab": {
          "base_uri": "https://localhost:8080/",
          "height": 68
        },
        "outputId": "16eff068-bd54-42a5-8f97-57cb01ba6979"
      },
      "source": [
        "def stop_database():\n",
        "    print(\"systemctl stop postgresql.service\")\n",
        "\n",
        "\n",
        "def start_database():\n",
        "    print(\"systemctl start postgresql.service\")\n",
        "\n",
        "\n",
        "class DBHandler:\n",
        "    def __enter__(self):\n",
        "        stop_database()\n",
        "        return self\n",
        "\n",
        "    def __exit__(self, exc_type, ex_value, ex_traceback):\n",
        "        start_database()\n",
        "\n",
        "\n",
        "def db_backup():\n",
        "    print(\"pg_dump database\")\n",
        "\n",
        "\n",
        "def load_run():\n",
        "    with DBHandler():\n",
        "        db_backup()\n",
        "\n",
        "load_run()"
      ],
      "execution_count": 49,
      "outputs": [
        {
          "output_type": "stream",
          "text": [
            "systemctl stop postgresql.service\n",
            "pg_dump database\n",
            "systemctl start postgresql.service\n"
          ],
          "name": "stdout"
        }
      ]
    },
    {
      "cell_type": "code",
      "metadata": {
        "id": "jrIFvI8kzmAp",
        "colab_type": "code",
        "colab": {}
      },
      "source": [
        "class repeater:\n",
        "  def __init__ (self, value):\n",
        "    self.value = value\n",
        "\n",
        "  def __iter__ (self):\n",
        "    return RepeaterIterator (self)\n",
        "\n",
        "\n",
        "class RepeaterIterator:\n",
        "  def __init__(self, source):\n",
        "    self.source = source\n",
        "\n",
        "  def __next__(self):\n",
        "    return self.source.value\n",
        "\n",
        "repeater = repeater('Hello')\n",
        "\n",
        "for item in repeater:\n",
        "  print (item)"
      ],
      "execution_count": 0,
      "outputs": []
    },
    {
      "cell_type": "code",
      "metadata": {
        "id": "DYA-HuwcPk30",
        "colab_type": "code",
        "colab": {
          "base_uri": "https://localhost:8080/",
          "height": 68
        },
        "outputId": "64fe072c-d7db-4b7c-976d-70e8f1b73388"
      },
      "source": [
        "for x in ( 'Bom dia'  for i in range ( 3 )):\n",
        "  print (x)"
      ],
      "execution_count": 6,
      "outputs": [
        {
          "output_type": "stream",
          "text": [
            "Bom dia\n",
            "Bom dia\n",
            "Bom dia\n"
          ],
          "name": "stdout"
        }
      ]
    },
    {
      "cell_type": "code",
      "metadata": {
        "id": "3UWkCWJj5yoo",
        "colab_type": "code",
        "colab": {
          "base_uri": "https://localhost:8080/",
          "height": 34
        },
        "outputId": "ee9ce63e-77be-4e32-c9b1-ea316cb2c7f2"
      },
      "source": [
        "name_for_userid = {\n",
        "382 : 'Alice' ,\n",
        "950 : 'Bob' ,\n",
        "590 : 'Dilbert' ,\n",
        "}\n",
        "\n",
        "name_for_userid"
      ],
      "execution_count": 1,
      "outputs": [
        {
          "output_type": "execute_result",
          "data": {
            "text/plain": [
              "{382: 'Alice', 590: 'Dilbert', 950: 'Bob'}"
            ]
          },
          "metadata": {
            "tags": []
          },
          "execution_count": 1
        }
      ]
    },
    {
      "cell_type": "code",
      "metadata": {
        "id": "uct8iYq271vW",
        "colab_type": "code",
        "colab": {}
      },
      "source": [
        "\n",
        "def dispatch_dict(operator, x, y):\n",
        "  return{\n",
        "      'add': lambda:x+y,\n",
        "      'sub': lambda:x-y,\n",
        "      'mul': lambda:x*y,\n",
        "      'div': lambda:x/y,  \n",
        "  }.get(operator, lambda:None)()\n",
        "\n",
        "dispatch_dict ( 'ran' , 2 , 8 )"
      ],
      "execution_count": 0,
      "outputs": []
    },
    {
      "cell_type": "code",
      "metadata": {
        "id": "Ox9Qs7YT9Tj7",
        "colab_type": "code",
        "colab": {
          "base_uri": "https://localhost:8080/",
          "height": 34
        },
        "outputId": "95d7c62d-781d-4c72-8681-6e3c5d83f0a9"
      },
      "source": [
        "{True: 'yes' , 1 : 'no' , 1.0 : 'maybe' }"
      ],
      "execution_count": 7,
      "outputs": [
        {
          "output_type": "execute_result",
          "data": {
            "text/plain": [
              "{True: 'maybe'}"
            ]
          },
          "metadata": {
            "tags": []
          },
          "execution_count": 7
        }
      ]
    },
    {
      "cell_type": "code",
      "metadata": {
        "id": "AW5X-PEm-9R-",
        "colab_type": "code",
        "colab": {
          "base_uri": "https://localhost:8080/",
          "height": 34
        },
        "outputId": "da8980b0-be8f-477e-eb49-2e1564eab5c7"
      },
      "source": [
        "hash (True)"
      ],
      "execution_count": 8,
      "outputs": [
        {
          "output_type": "execute_result",
          "data": {
            "text/plain": [
              "1"
            ]
          },
          "metadata": {
            "tags": []
          },
          "execution_count": 8
        }
      ]
    },
    {
      "cell_type": "code",
      "metadata": {
        "id": "h4WlCjEmAgoD",
        "colab_type": "code",
        "colab": {}
      },
      "source": [
        "import datetime\n",
        "\n",
        "\n",
        "help(datetime.date)"
      ],
      "execution_count": 0,
      "outputs": []
    },
    {
      "cell_type": "code",
      "metadata": {
        "id": "e7qkH98oB4n8",
        "colab_type": "code",
        "colab": {
          "base_uri": "https://localhost:8080/",
          "height": 129
        },
        "outputId": "68945247-db9e-4f94-954f-21d6784a57be"
      },
      "source": [
        "which !pip3\n"
      ],
      "execution_count": 15,
      "outputs": [
        {
          "output_type": "error",
          "ename": "SyntaxError",
          "evalue": "ignored",
          "traceback": [
            "\u001b[0;36m  File \u001b[0;32m\"<ipython-input-15-fc6ea1460d73>\"\u001b[0;36m, line \u001b[0;32m1\u001b[0m\n\u001b[0;31m    which !pip3\u001b[0m\n\u001b[0m          ^\u001b[0m\n\u001b[0;31mSyntaxError\u001b[0m\u001b[0;31m:\u001b[0m invalid syntax\n"
          ]
        }
      ]
    },
    {
      "cell_type": "code",
      "metadata": {
        "id": "lr-mRomCHHkJ",
        "colab_type": "code",
        "colab": {
          "base_uri": "https://localhost:8080/",
          "height": 374
        },
        "outputId": "75ce6a1e-c5b0-497a-ff84-0740ebd64d3d"
      },
      "source": [
        "from pymongo import MongoClient\n",
        "client = MongoClient()\n",
        "\n",
        "client = MongoClient('localhost', 27017)\n",
        "client = MongoClient('mongodb://localhost:27017')\n",
        "\n",
        "db = client.pymongo_test\n",
        "\n",
        "posts = db.posts\n",
        "post_data = {\n",
        "    'title': 'Python and MongoDB',\n",
        "    'content': 'PyMongo is fun, you guys',\n",
        "    'author': 'Scott'\n",
        "}\n",
        "result = posts.insert_one(post_data)\n",
        "print('One post: {0}'.format(result.inserted_id))\n",
        "\n",
        "post_1 = {\n",
        "    'title': 'Python and MongoDB',\n",
        "    'content': 'PyMongo is fun, you guys',\n",
        "    'author': 'Scott'\n",
        "}\n",
        "post_2 = {\n",
        "    'title': 'Virtual Environments',\n",
        "    'content': 'Use virtual environments, you guys',\n",
        "    'author': 'Scott'\n",
        "}\n",
        "post_3 = {\n",
        "    'title': 'Learning Python',\n",
        "    'content': 'Learn Python, it is easy',\n",
        "    'author': 'Bill'\n",
        "}\n",
        "new_result = posts.insert_many([post_1, post_2, post_3])\n",
        "\n",
        "print('Multiple posts: {0}'.format(new_result.inserted_ids))"
      ],
      "execution_count": 22,
      "outputs": [
        {
          "output_type": "error",
          "ename": "ServerSelectionTimeoutError",
          "evalue": "ignored",
          "traceback": [
            "\u001b[0;31m---------------------------------------------------------------------------\u001b[0m",
            "\u001b[0;31mServerSelectionTimeoutError\u001b[0m               Traceback (most recent call last)",
            "\u001b[0;32m<ipython-input-22-7bdfc9e9e328>\u001b[0m in \u001b[0;36m<module>\u001b[0;34m()\u001b[0m\n\u001b[1;32m     13\u001b[0m     \u001b[0;34m'author'\u001b[0m\u001b[0;34m:\u001b[0m \u001b[0;34m'Scott'\u001b[0m\u001b[0;34m\u001b[0m\u001b[0;34m\u001b[0m\u001b[0m\n\u001b[1;32m     14\u001b[0m }\n\u001b[0;32m---> 15\u001b[0;31m \u001b[0mresult\u001b[0m \u001b[0;34m=\u001b[0m \u001b[0mposts\u001b[0m\u001b[0;34m.\u001b[0m\u001b[0minsert_one\u001b[0m\u001b[0;34m(\u001b[0m\u001b[0mpost_data\u001b[0m\u001b[0;34m)\u001b[0m\u001b[0;34m\u001b[0m\u001b[0;34m\u001b[0m\u001b[0m\n\u001b[0m\u001b[1;32m     16\u001b[0m \u001b[0mprint\u001b[0m\u001b[0;34m(\u001b[0m\u001b[0;34m'One post: {0}'\u001b[0m\u001b[0;34m.\u001b[0m\u001b[0mformat\u001b[0m\u001b[0;34m(\u001b[0m\u001b[0mresult\u001b[0m\u001b[0;34m.\u001b[0m\u001b[0minserted_id\u001b[0m\u001b[0;34m)\u001b[0m\u001b[0;34m)\u001b[0m\u001b[0;34m\u001b[0m\u001b[0;34m\u001b[0m\u001b[0m\n\u001b[1;32m     17\u001b[0m \u001b[0;34m\u001b[0m\u001b[0m\n",
            "\u001b[0;32m/usr/local/lib/python3.6/dist-packages/pymongo/collection.py\u001b[0m in \u001b[0;36minsert_one\u001b[0;34m(self, document, bypass_document_validation, session)\u001b[0m\n\u001b[1;32m    696\u001b[0m                          \u001b[0mwrite_concern\u001b[0m\u001b[0;34m=\u001b[0m\u001b[0mwrite_concern\u001b[0m\u001b[0;34m,\u001b[0m\u001b[0;34m\u001b[0m\u001b[0;34m\u001b[0m\u001b[0m\n\u001b[1;32m    697\u001b[0m                          \u001b[0mbypass_doc_val\u001b[0m\u001b[0;34m=\u001b[0m\u001b[0mbypass_document_validation\u001b[0m\u001b[0;34m,\u001b[0m\u001b[0;34m\u001b[0m\u001b[0;34m\u001b[0m\u001b[0m\n\u001b[0;32m--> 698\u001b[0;31m                          session=session),\n\u001b[0m\u001b[1;32m    699\u001b[0m             write_concern.acknowledged)\n\u001b[1;32m    700\u001b[0m \u001b[0;34m\u001b[0m\u001b[0m\n",
            "\u001b[0;32m/usr/local/lib/python3.6/dist-packages/pymongo/collection.py\u001b[0m in \u001b[0;36m_insert\u001b[0;34m(self, docs, ordered, check_keys, manipulate, write_concern, op_id, bypass_doc_val, session)\u001b[0m\n\u001b[1;32m    610\u001b[0m             return self._insert_one(\n\u001b[1;32m    611\u001b[0m                 \u001b[0mdocs\u001b[0m\u001b[0;34m,\u001b[0m \u001b[0mordered\u001b[0m\u001b[0;34m,\u001b[0m \u001b[0mcheck_keys\u001b[0m\u001b[0;34m,\u001b[0m \u001b[0mmanipulate\u001b[0m\u001b[0;34m,\u001b[0m \u001b[0mwrite_concern\u001b[0m\u001b[0;34m,\u001b[0m \u001b[0mop_id\u001b[0m\u001b[0;34m,\u001b[0m\u001b[0;34m\u001b[0m\u001b[0;34m\u001b[0m\u001b[0m\n\u001b[0;32m--> 612\u001b[0;31m                 bypass_doc_val, session)\n\u001b[0m\u001b[1;32m    613\u001b[0m \u001b[0;34m\u001b[0m\u001b[0m\n\u001b[1;32m    614\u001b[0m         \u001b[0mids\u001b[0m \u001b[0;34m=\u001b[0m \u001b[0;34m[\u001b[0m\u001b[0;34m]\u001b[0m\u001b[0;34m\u001b[0m\u001b[0;34m\u001b[0m\u001b[0m\n",
            "\u001b[0;32m/usr/local/lib/python3.6/dist-packages/pymongo/collection.py\u001b[0m in \u001b[0;36m_insert_one\u001b[0;34m(self, doc, ordered, check_keys, manipulate, write_concern, op_id, bypass_doc_val, session)\u001b[0m\n\u001b[1;32m    598\u001b[0m \u001b[0;34m\u001b[0m\u001b[0m\n\u001b[1;32m    599\u001b[0m         self.__database.client._retryable_write(\n\u001b[0;32m--> 600\u001b[0;31m             acknowledged, _insert_command, session)\n\u001b[0m\u001b[1;32m    601\u001b[0m \u001b[0;34m\u001b[0m\u001b[0m\n\u001b[1;32m    602\u001b[0m         \u001b[0;32mif\u001b[0m \u001b[0;32mnot\u001b[0m \u001b[0misinstance\u001b[0m\u001b[0;34m(\u001b[0m\u001b[0mdoc\u001b[0m\u001b[0;34m,\u001b[0m \u001b[0mRawBSONDocument\u001b[0m\u001b[0;34m)\u001b[0m\u001b[0;34m:\u001b[0m\u001b[0;34m\u001b[0m\u001b[0;34m\u001b[0m\u001b[0m\n",
            "\u001b[0;32m/usr/local/lib/python3.6/dist-packages/pymongo/mongo_client.py\u001b[0m in \u001b[0;36m_retryable_write\u001b[0;34m(self, retryable, func, session)\u001b[0m\n\u001b[1;32m   1488\u001b[0m     \u001b[0;32mdef\u001b[0m \u001b[0m_retryable_write\u001b[0m\u001b[0;34m(\u001b[0m\u001b[0mself\u001b[0m\u001b[0;34m,\u001b[0m \u001b[0mretryable\u001b[0m\u001b[0;34m,\u001b[0m \u001b[0mfunc\u001b[0m\u001b[0;34m,\u001b[0m \u001b[0msession\u001b[0m\u001b[0;34m)\u001b[0m\u001b[0;34m:\u001b[0m\u001b[0;34m\u001b[0m\u001b[0;34m\u001b[0m\u001b[0m\n\u001b[1;32m   1489\u001b[0m         \u001b[0;34m\"\"\"Internal retryable write helper.\"\"\"\u001b[0m\u001b[0;34m\u001b[0m\u001b[0;34m\u001b[0m\u001b[0m\n\u001b[0;32m-> 1490\u001b[0;31m         \u001b[0;32mwith\u001b[0m \u001b[0mself\u001b[0m\u001b[0;34m.\u001b[0m\u001b[0m_tmp_session\u001b[0m\u001b[0;34m(\u001b[0m\u001b[0msession\u001b[0m\u001b[0;34m)\u001b[0m \u001b[0;32mas\u001b[0m \u001b[0ms\u001b[0m\u001b[0;34m:\u001b[0m\u001b[0;34m\u001b[0m\u001b[0;34m\u001b[0m\u001b[0m\n\u001b[0m\u001b[1;32m   1491\u001b[0m             \u001b[0;32mreturn\u001b[0m \u001b[0mself\u001b[0m\u001b[0;34m.\u001b[0m\u001b[0m_retry_with_session\u001b[0m\u001b[0;34m(\u001b[0m\u001b[0mretryable\u001b[0m\u001b[0;34m,\u001b[0m \u001b[0mfunc\u001b[0m\u001b[0;34m,\u001b[0m \u001b[0ms\u001b[0m\u001b[0;34m,\u001b[0m \u001b[0;32mNone\u001b[0m\u001b[0;34m)\u001b[0m\u001b[0;34m\u001b[0m\u001b[0;34m\u001b[0m\u001b[0m\n\u001b[1;32m   1492\u001b[0m \u001b[0;34m\u001b[0m\u001b[0m\n",
            "\u001b[0;32m/usr/lib/python3.6/contextlib.py\u001b[0m in \u001b[0;36m__enter__\u001b[0;34m(self)\u001b[0m\n\u001b[1;32m     79\u001b[0m     \u001b[0;32mdef\u001b[0m \u001b[0m__enter__\u001b[0m\u001b[0;34m(\u001b[0m\u001b[0mself\u001b[0m\u001b[0;34m)\u001b[0m\u001b[0;34m:\u001b[0m\u001b[0;34m\u001b[0m\u001b[0;34m\u001b[0m\u001b[0m\n\u001b[1;32m     80\u001b[0m         \u001b[0;32mtry\u001b[0m\u001b[0;34m:\u001b[0m\u001b[0;34m\u001b[0m\u001b[0;34m\u001b[0m\u001b[0m\n\u001b[0;32m---> 81\u001b[0;31m             \u001b[0;32mreturn\u001b[0m \u001b[0mnext\u001b[0m\u001b[0;34m(\u001b[0m\u001b[0mself\u001b[0m\u001b[0;34m.\u001b[0m\u001b[0mgen\u001b[0m\u001b[0;34m)\u001b[0m\u001b[0;34m\u001b[0m\u001b[0;34m\u001b[0m\u001b[0m\n\u001b[0m\u001b[1;32m     82\u001b[0m         \u001b[0;32mexcept\u001b[0m \u001b[0mStopIteration\u001b[0m\u001b[0;34m:\u001b[0m\u001b[0;34m\u001b[0m\u001b[0;34m\u001b[0m\u001b[0m\n\u001b[1;32m     83\u001b[0m             \u001b[0;32mraise\u001b[0m \u001b[0mRuntimeError\u001b[0m\u001b[0;34m(\u001b[0m\u001b[0;34m\"generator didn't yield\"\u001b[0m\u001b[0;34m)\u001b[0m \u001b[0;32mfrom\u001b[0m \u001b[0;32mNone\u001b[0m\u001b[0;34m\u001b[0m\u001b[0;34m\u001b[0m\u001b[0m\n",
            "\u001b[0;32m/usr/local/lib/python3.6/dist-packages/pymongo/mongo_client.py\u001b[0m in \u001b[0;36m_tmp_session\u001b[0;34m(self, session, close)\u001b[0m\n\u001b[1;32m   1821\u001b[0m             \u001b[0;32mreturn\u001b[0m\u001b[0;34m\u001b[0m\u001b[0;34m\u001b[0m\u001b[0m\n\u001b[1;32m   1822\u001b[0m \u001b[0;34m\u001b[0m\u001b[0m\n\u001b[0;32m-> 1823\u001b[0;31m         \u001b[0ms\u001b[0m \u001b[0;34m=\u001b[0m \u001b[0mself\u001b[0m\u001b[0;34m.\u001b[0m\u001b[0m_ensure_session\u001b[0m\u001b[0;34m(\u001b[0m\u001b[0msession\u001b[0m\u001b[0;34m)\u001b[0m\u001b[0;34m\u001b[0m\u001b[0;34m\u001b[0m\u001b[0m\n\u001b[0m\u001b[1;32m   1824\u001b[0m         \u001b[0;32mif\u001b[0m \u001b[0ms\u001b[0m \u001b[0;32mand\u001b[0m \u001b[0mclose\u001b[0m\u001b[0;34m:\u001b[0m\u001b[0;34m\u001b[0m\u001b[0;34m\u001b[0m\u001b[0m\n\u001b[1;32m   1825\u001b[0m             \u001b[0;32mwith\u001b[0m \u001b[0ms\u001b[0m\u001b[0;34m:\u001b[0m\u001b[0;34m\u001b[0m\u001b[0;34m\u001b[0m\u001b[0m\n",
            "\u001b[0;32m/usr/local/lib/python3.6/dist-packages/pymongo/mongo_client.py\u001b[0m in \u001b[0;36m_ensure_session\u001b[0;34m(self, session)\u001b[0m\n\u001b[1;32m   1808\u001b[0m             \u001b[0;31m# Don't make implicit sessions causally consistent. Applications\u001b[0m\u001b[0;34m\u001b[0m\u001b[0;34m\u001b[0m\u001b[0;34m\u001b[0m\u001b[0m\n\u001b[1;32m   1809\u001b[0m             \u001b[0;31m# should always opt-in.\u001b[0m\u001b[0;34m\u001b[0m\u001b[0;34m\u001b[0m\u001b[0;34m\u001b[0m\u001b[0m\n\u001b[0;32m-> 1810\u001b[0;31m             \u001b[0;32mreturn\u001b[0m \u001b[0mself\u001b[0m\u001b[0;34m.\u001b[0m\u001b[0m__start_session\u001b[0m\u001b[0;34m(\u001b[0m\u001b[0;32mTrue\u001b[0m\u001b[0;34m,\u001b[0m \u001b[0mcausal_consistency\u001b[0m\u001b[0;34m=\u001b[0m\u001b[0;32mFalse\u001b[0m\u001b[0;34m)\u001b[0m\u001b[0;34m\u001b[0m\u001b[0;34m\u001b[0m\u001b[0m\n\u001b[0m\u001b[1;32m   1811\u001b[0m         \u001b[0;32mexcept\u001b[0m \u001b[0;34m(\u001b[0m\u001b[0mConfigurationError\u001b[0m\u001b[0;34m,\u001b[0m \u001b[0mInvalidOperation\u001b[0m\u001b[0;34m)\u001b[0m\u001b[0;34m:\u001b[0m\u001b[0;34m\u001b[0m\u001b[0;34m\u001b[0m\u001b[0m\n\u001b[1;32m   1812\u001b[0m             \u001b[0;31m# Sessions not supported, or multiple users authenticated.\u001b[0m\u001b[0;34m\u001b[0m\u001b[0;34m\u001b[0m\u001b[0;34m\u001b[0m\u001b[0m\n",
            "\u001b[0;32m/usr/local/lib/python3.6/dist-packages/pymongo/mongo_client.py\u001b[0m in \u001b[0;36m__start_session\u001b[0;34m(self, implicit, **kwargs)\u001b[0m\n\u001b[1;32m   1761\u001b[0m \u001b[0;34m\u001b[0m\u001b[0m\n\u001b[1;32m   1762\u001b[0m         \u001b[0;31m# Raises ConfigurationError if sessions are not supported.\u001b[0m\u001b[0;34m\u001b[0m\u001b[0;34m\u001b[0m\u001b[0;34m\u001b[0m\u001b[0m\n\u001b[0;32m-> 1763\u001b[0;31m         \u001b[0mserver_session\u001b[0m \u001b[0;34m=\u001b[0m \u001b[0mself\u001b[0m\u001b[0;34m.\u001b[0m\u001b[0m_get_server_session\u001b[0m\u001b[0;34m(\u001b[0m\u001b[0;34m)\u001b[0m\u001b[0;34m\u001b[0m\u001b[0;34m\u001b[0m\u001b[0m\n\u001b[0m\u001b[1;32m   1764\u001b[0m         \u001b[0mopts\u001b[0m \u001b[0;34m=\u001b[0m \u001b[0mclient_session\u001b[0m\u001b[0;34m.\u001b[0m\u001b[0mSessionOptions\u001b[0m\u001b[0;34m(\u001b[0m\u001b[0;34m**\u001b[0m\u001b[0mkwargs\u001b[0m\u001b[0;34m)\u001b[0m\u001b[0;34m\u001b[0m\u001b[0;34m\u001b[0m\u001b[0m\n\u001b[1;32m   1765\u001b[0m         return client_session.ClientSession(\n",
            "\u001b[0;32m/usr/local/lib/python3.6/dist-packages/pymongo/mongo_client.py\u001b[0m in \u001b[0;36m_get_server_session\u001b[0;34m(self)\u001b[0m\n\u001b[1;32m   1794\u001b[0m     \u001b[0;32mdef\u001b[0m \u001b[0m_get_server_session\u001b[0m\u001b[0;34m(\u001b[0m\u001b[0mself\u001b[0m\u001b[0;34m)\u001b[0m\u001b[0;34m:\u001b[0m\u001b[0;34m\u001b[0m\u001b[0;34m\u001b[0m\u001b[0m\n\u001b[1;32m   1795\u001b[0m         \u001b[0;34m\"\"\"Internal: start or resume a _ServerSession.\"\"\"\u001b[0m\u001b[0;34m\u001b[0m\u001b[0;34m\u001b[0m\u001b[0m\n\u001b[0;32m-> 1796\u001b[0;31m         \u001b[0;32mreturn\u001b[0m \u001b[0mself\u001b[0m\u001b[0;34m.\u001b[0m\u001b[0m_topology\u001b[0m\u001b[0;34m.\u001b[0m\u001b[0mget_server_session\u001b[0m\u001b[0;34m(\u001b[0m\u001b[0;34m)\u001b[0m\u001b[0;34m\u001b[0m\u001b[0;34m\u001b[0m\u001b[0m\n\u001b[0m\u001b[1;32m   1797\u001b[0m \u001b[0;34m\u001b[0m\u001b[0m\n\u001b[1;32m   1798\u001b[0m     \u001b[0;32mdef\u001b[0m \u001b[0m_return_server_session\u001b[0m\u001b[0;34m(\u001b[0m\u001b[0mself\u001b[0m\u001b[0;34m,\u001b[0m \u001b[0mserver_session\u001b[0m\u001b[0;34m,\u001b[0m \u001b[0mlock\u001b[0m\u001b[0;34m)\u001b[0m\u001b[0;34m:\u001b[0m\u001b[0;34m\u001b[0m\u001b[0;34m\u001b[0m\u001b[0m\n",
            "\u001b[0;32m/usr/local/lib/python3.6/dist-packages/pymongo/topology.py\u001b[0m in \u001b[0;36mget_server_session\u001b[0;34m(self)\u001b[0m\n\u001b[1;32m    483\u001b[0m                             \u001b[0many_server_selector\u001b[0m\u001b[0;34m,\u001b[0m\u001b[0;34m\u001b[0m\u001b[0;34m\u001b[0m\u001b[0m\n\u001b[1;32m    484\u001b[0m                             \u001b[0mself\u001b[0m\u001b[0;34m.\u001b[0m\u001b[0m_settings\u001b[0m\u001b[0;34m.\u001b[0m\u001b[0mserver_selection_timeout\u001b[0m\u001b[0;34m,\u001b[0m\u001b[0;34m\u001b[0m\u001b[0;34m\u001b[0m\u001b[0m\n\u001b[0;32m--> 485\u001b[0;31m                             None)\n\u001b[0m\u001b[1;32m    486\u001b[0m                 \u001b[0;32melif\u001b[0m \u001b[0;32mnot\u001b[0m \u001b[0mself\u001b[0m\u001b[0;34m.\u001b[0m\u001b[0m_description\u001b[0m\u001b[0;34m.\u001b[0m\u001b[0mreadable_servers\u001b[0m\u001b[0;34m:\u001b[0m\u001b[0;34m\u001b[0m\u001b[0;34m\u001b[0m\u001b[0m\n\u001b[1;32m    487\u001b[0m                     self._select_servers_loop(\n",
            "\u001b[0;32m/usr/local/lib/python3.6/dist-packages/pymongo/topology.py\u001b[0m in \u001b[0;36m_select_servers_loop\u001b[0;34m(self, selector, timeout, address)\u001b[0m\n\u001b[1;32m    207\u001b[0m             \u001b[0;32mif\u001b[0m \u001b[0mtimeout\u001b[0m \u001b[0;34m==\u001b[0m \u001b[0;36m0\u001b[0m \u001b[0;32mor\u001b[0m \u001b[0mnow\u001b[0m \u001b[0;34m>\u001b[0m \u001b[0mend_time\u001b[0m\u001b[0;34m:\u001b[0m\u001b[0;34m\u001b[0m\u001b[0;34m\u001b[0m\u001b[0m\n\u001b[1;32m    208\u001b[0m                 raise ServerSelectionTimeoutError(\n\u001b[0;32m--> 209\u001b[0;31m                     self._error_message(selector))\n\u001b[0m\u001b[1;32m    210\u001b[0m \u001b[0;34m\u001b[0m\u001b[0m\n\u001b[1;32m    211\u001b[0m             \u001b[0mself\u001b[0m\u001b[0;34m.\u001b[0m\u001b[0m_ensure_opened\u001b[0m\u001b[0;34m(\u001b[0m\u001b[0;34m)\u001b[0m\u001b[0;34m\u001b[0m\u001b[0;34m\u001b[0m\u001b[0m\n",
            "\u001b[0;31mServerSelectionTimeoutError\u001b[0m: localhost:27017: [Errno 111] Connection refused"
          ]
        }
      ]
    },
    {
      "cell_type": "code",
      "metadata": {
        "id": "ZH2j_kfK7kjb",
        "colab_type": "code",
        "colab": {}
      },
      "source": [
        "import csv\n",
        "from google.colab import files\n",
        "uploaded = files.upload()\n",
        "cities = read_csv('cities.csv')\n",
        "cities[0]"
      ],
      "execution_count": 0,
      "outputs": []
    },
    {
      "cell_type": "code",
      "metadata": {
        "id": "1aCHmiN1xhNV",
        "colab_type": "code",
        "colab": {
          "base_uri": "https://localhost:8080/",
          "height": 68
        },
        "outputId": "08168250-5ec1-4016-8441-740d16676a0d"
      },
      "source": [
        "import requests\n",
        "from time import sleep\n",
        "from functools import lru_cache\n",
        "from csv import DictReader, DictWriter\n",
        "from tqdm import tqdm\n",
        "\n",
        "path = 'cities.csv'\n",
        "base_url = 'https://nominatim.openstreetmap.org/search?'\n",
        "\n",
        "@lru_cache(maxsize=2000)\n",
        "def nominatim_geocode (address, format = 'json', limit =1, **kwargs):\n",
        "  \"\"\" This wrapper around nominatim API to access address info \"\"\"\n",
        "\n",
        "  params = {\n",
        "      'q': address,\n",
        "      'format': format,\n",
        "      'limit': limit,\n",
        "      **kwargs\n",
        "  }\n",
        "\n",
        "  response = requests.get(base_url, params=params)\n",
        "  response.raise_for_status()\n",
        "\n",
        "  sleep(1)\n",
        "  return response.json()\n",
        "\n",
        "def read_csv(path):\n",
        "  '''read csv and return it as a list of dictionaries, one per row'''\n",
        "  with open(path, 'r') as f:\n",
        "    return list(DictReader(f))\n",
        "\n",
        "def write_csv(data, path, mode='w'):\n",
        "  if mode not in 'wa':\n",
        "    raise ValueError(\"mode should be either 'w' or 'a'\")\n",
        "\n",
        "  with open(path, mode)  as f:\n",
        "    writer = DictWriter(f, fieldnames=data[0].keys())\n",
        "    if mode == 'w':\n",
        "      writer.writeheader()\n",
        "\n",
        "    for row in data:\n",
        "      writer.writerow(row)\n",
        "\n",
        "def geocode_bulk(data, column='address', verbose=False):\n",
        "  result, errors = [],[]\n",
        "\n",
        "  for row in tqdm(data):\n",
        "    try:\n",
        "      search = nominatim_geocode(row[column], limit=1)\n",
        "      if len(search) == 0: #no location found\n",
        "        result.append(row)\n",
        "        if verbose:\n",
        "          print(f\"can't find anything for {row[column]}\") \n",
        "\n",
        "      else:\n",
        "        info = search[0]\n",
        "        info.update(row)\n",
        "        result.append(info)\n",
        "\n",
        "    except Exception as e:\n",
        "      if verbose:\n",
        "        print(e)\n",
        "      row['error'] = e\n",
        "      errors.append(row)\n",
        "\n",
        "  if len(errors) > 0 and verbose:\n",
        "    print(f\"{len(errors)}/{len(data)} rows failed\")\n",
        "\n",
        "  return result, errors\n",
        "\n",
        "result, errors = geocode_bulk(read_csv('cities.csv'), column='name', verbose=True)"
      ],
      "execution_count": 44,
      "outputs": [
        {
          "output_type": "stream",
          "text": [
            " 14%|█▍        | 5/35 [00:05<00:31,  1.04s/it]"
          ],
          "name": "stderr"
        },
        {
          "output_type": "stream",
          "text": [
            "can't find anything for Khawr Fakkān\n"
          ],
          "name": "stdout"
        },
        {
          "output_type": "stream",
          "text": [
            " 40%|████      | 14/35 [00:14<00:21,  1.05s/it]"
          ],
          "name": "stderr"
        },
        {
          "output_type": "stream",
          "text": [
            "can't find anything for Adh Dhayd\n"
          ],
          "name": "stdout"
        },
        {
          "output_type": "stream",
          "text": [
            "100%|██████████| 35/35 [00:36<00:00,  1.05s/it]\n"
          ],
          "name": "stderr"
        }
      ]
    },
    {
      "cell_type": "code",
      "metadata": {
        "id": "ofzvvjtx-2r9",
        "colab_type": "code",
        "colab": {}
      },
      "source": [
        "from google.colab import files\n",
        "files.download('my_cities.csv')"
      ],
      "execution_count": 0,
      "outputs": []
    },
    {
      "cell_type": "code",
      "metadata": {
        "id": "-8jREQ0DE3Fm",
        "colab_type": "code",
        "colab": {}
      },
      "source": [
        "write_csv(result, 'my_cities.csv')"
      ],
      "execution_count": 0,
      "outputs": []
    },
    {
      "cell_type": "code",
      "metadata": {
        "id": "07-WWnSV2HuM",
        "colab_type": "code",
        "colab": {}
      },
      "source": [
        "import requests as rq\n",
        "from bs4 import BeautifulSoup\n",
        "\n",
        "base_url = 'https://en.wikipedia.org/wiki/List_of_World_War_II_battles'\n",
        "\n",
        "def get_dom(url):\n",
        "  response  = rq.get(url)\n",
        "  response.raise_for_status()\n",
        "  soup = BeautifulSoup(response.content, 'html.parser')\n",
        "  content = soup.select('div#mw-content-text > div.mw-parser-output', limit=1)[0]\n",
        "  fronts = content.select('div.mw-parser-output>h2')[:-1]\n",
        "  for el in fronts:\n",
        "    print(el.text[:-6])\n",
        "\n",
        "get_dom(base_url)"
      ],
      "execution_count": 0,
      "outputs": []
    },
    {
      "cell_type": "code",
      "metadata": {
        "id": "100e159s8LTV",
        "colab_type": "code",
        "colab": {
          "base_uri": "https://localhost:8080/",
          "height": 68
        },
        "outputId": "0abfcc90-9f4e-4170-a8b7-2d3a8d6fee9f"
      },
      "source": [
        "class Person:\n",
        "  '''person entity'''\n",
        "\n",
        "  def __init__(self, name, surname, age):\n",
        "      self.name = name\n",
        "      self.surname = surname\n",
        "      self.age = age\n",
        "\n",
        "  def __repr__(self):\n",
        "      return f'Person(name={self.name}, surname={self.surname}, age={self.age})'        \n",
        "\n",
        "  def __lt__(self, other):\n",
        "      return self.age < other.age\n",
        "\n",
        "data = [\n",
        "    {'name':\"Pippi\", 'surname':'Longstocking', 'age':11},\n",
        "    {'name':\"Kalle\", 'surname':'Blomkvist', 'age':10},\n",
        "    {'name':'Karlsson', 'surname': 'on-the-Roof', 'age':12}\n",
        "]\n",
        "\n",
        "characters = [Person(**row) for row in data]\n",
        "\n",
        "sorted(characters)"
      ],
      "execution_count": 7,
      "outputs": [
        {
          "output_type": "execute_result",
          "data": {
            "text/plain": [
              "[Person(name=Kalle, surname=Blomkvist, age=10),\n",
              " Person(name=Pippi, surname=Longstocking, age=11),\n",
              " Person(name=Karlsson, surname=on-the-Roof, age=12)]"
            ]
          },
          "metadata": {
            "tags": []
          },
          "execution_count": 7
        }
      ]
    },
    {
      "cell_type": "code",
      "metadata": {
        "id": "Fov_nY3WPhOp",
        "colab_type": "code",
        "colab": {}
      },
      "source": [
        "import random\n",
        "\n",
        "\n",
        "class Herbivore:\n",
        "    mutation_drift = 1\n",
        "    fertility_rate = 0.25\n",
        "    max_age = 4\n",
        "\n",
        "    def __init__(self, survival_skill):\n",
        "        self.age = 0\n",
        "        self.survival_skill = survival_skill\n",
        "\n",
        "    def _age(self):\n",
        "        self.age += 1\n",
        "\n",
        "    def breed(self):\n",
        "        drift = random.randint(-1 * self.mutation_drift, self.mutation_drift)\n",
        "        mutation = self.survival_skill + drift\n",
        "        return self.__class__(survival_skill=mutation)"
      ],
      "execution_count": 0,
      "outputs": []
    },
    {
      "cell_type": "code",
      "metadata": {
        "id": "x8lKJ_cWPiSy",
        "colab_type": "code",
        "colab": {
          "base_uri": "https://localhost:8080/",
          "height": 85
        },
        "outputId": "2a8334b7-e006-4499-c751-ce2bc1540fe2"
      },
      "source": [
        "import random\n",
        "from statistics import mean\n",
        "\n",
        "\n",
        "class Island:\n",
        "    stats = dict()\n",
        "    animals = list()\n",
        "    max_pop, year = 0, 0\n",
        "\n",
        "    def __init__(self, initial_pop=10, max_pop=2500):\n",
        "        self.year = 0\n",
        "        self.max_pop = max_pop\n",
        "        self.stats = dict()\n",
        "        self.animals = [Herbivore(survival_skill=random.randint(0, 100)) for _ in range(initial_pop)]\n",
        "\n",
        "    def _simulate(self):\n",
        "        new_animals = list()\n",
        "        pop = len(self.animals)\n",
        "        random.shuffle(self.animals)\n",
        "        for animal in self.animals:\n",
        "            # step 1 breeding\n",
        "            if pop <= self.max_pop:\n",
        "                if random.random() <= animal.fertility_rate:\n",
        "                    new_animals.append(animal.breed())\n",
        "                    pop += 1\n",
        "\n",
        "            # step 2 Aging and dying\n",
        "            animal._age()\n",
        "            if animal.age <= animal.max_age:\n",
        "                new_animals.append(animal)\n",
        "\n",
        "        self.animals = new_animals\n",
        "\n",
        "    def _collect_stats(self):\n",
        "        year_stats = {'pop': len(self.animals)}\n",
        "\n",
        "        if len(self.animals) > 0:\n",
        "            ages, skills, ss_75 = zip(*[(a.age, a.survival_skill, a.survival_skill>75) for a in self.animals])\n",
        "\n",
        "            year_stats['mean_age'] = mean(ages)\n",
        "            year_stats['mean_skill'] = mean(skills)\n",
        "            year_stats['75_skill'] = sum(ss_75) / year_stats['pop']\n",
        "\n",
        "    def compute_epoches(self, years):\n",
        "        for _ in range(years):\n",
        "            self._simulate()\n",
        "            self._collect_stats()\n",
        "            self.year += 1\n",
        "        return self.stats\n",
        "\n",
        "A = Herbivore(10)\n",
        "print(A.age)\n",
        "A._age()\n",
        "print(A.age)\n",
        "random.seed(123)\n",
        "A2 = A.breed()\n",
        "print(A2.survival_skill)\n",
        "I = Island(initial_pop=10, max_pop = 100)\n",
        "stats = I.compute_epoches(15)\n",
        "print(stats)"
      ],
      "execution_count": 16,
      "outputs": [
        {
          "output_type": "stream",
          "text": [
            "0\n",
            "1\n",
            "9\n",
            "{}\n"
          ],
          "name": "stdout"
        }
      ]
    }
  ]
}